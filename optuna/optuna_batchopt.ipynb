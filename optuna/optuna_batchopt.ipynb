{
 "cells": [
  {
   "cell_type": "markdown",
   "metadata": {},
   "source": [
    "Copyright 2022 Masamichi J. Miyama"
   ]
  },
  {
   "cell_type": "code",
   "execution_count": 1,
   "metadata": {},
   "outputs": [],
   "source": [
    "import numpy as np\n",
    "import optuna\n",
    "from tqdm import tqdm"
   ]
  },
  {
   "cell_type": "markdown",
   "metadata": {},
   "source": [
    "最もシンプルな使い方\n",
    "\n",
    "https://optuna.readthedocs.io/en/stable/tutorial/10_key_features/001_first.html"
   ]
  },
  {
   "cell_type": "code",
   "execution_count": 2,
   "metadata": {},
   "outputs": [],
   "source": [
    "# 目的関数の定義\n",
    "def objective(trial):\n",
    "    # -10から10までの値を取るfloat変数の定義（最適化対象のパラメタ）\n",
    "    # hyperoptと異なるのはオラクルたる目的関数側で変数定義をやる点？\n",
    "    x = trial.suggest_float(\"x\", -10, 10)\n",
    "\n",
    "    return (x - 2) ** 2"
   ]
  },
  {
   "cell_type": "markdown",
   "metadata": {},
   "source": [
    "上の例では`float`型のパラメタを扱ったがそれ以外にも整数値、カテゴリ変数など色々使える。探索空間の指定の仕方等、詳しくは下記URLを参照\n",
    "\n",
    "https://optuna.readthedocs.io/en/stable/tutorial/10_key_features/002_configurations.html"
   ]
  },
  {
   "cell_type": "code",
   "execution_count": 3,
   "metadata": {},
   "outputs": [
    {
     "name": "stderr",
     "output_type": "stream",
     "text": [
      "\u001b[32m[I 2022-06-22 13:17:22,976]\u001b[0m A new study created in memory with name: no-name-322910c1-247e-498c-a6f7-4ccb5770c6aa\u001b[0m\n",
      "\u001b[32m[I 2022-06-22 13:17:22,980]\u001b[0m Trial 0 finished with value: 24.2610954717778 and parameters: {'x': -2.925555346534825}. Best is trial 0 with value: 24.2610954717778.\u001b[0m\n",
      "\u001b[32m[I 2022-06-22 13:17:22,981]\u001b[0m Trial 1 finished with value: 82.25738503635753 and parameters: {'x': -7.069585714703706}. Best is trial 0 with value: 24.2610954717778.\u001b[0m\n",
      "\u001b[32m[I 2022-06-22 13:17:22,983]\u001b[0m Trial 2 finished with value: 90.2835428792137 and parameters: {'x': -7.501765250689669}. Best is trial 0 with value: 24.2610954717778.\u001b[0m\n",
      "\u001b[32m[I 2022-06-22 13:17:22,984]\u001b[0m Trial 3 finished with value: 5.3670348220213135 and parameters: {'x': -0.3166861725363912}. Best is trial 3 with value: 5.3670348220213135.\u001b[0m\n",
      "\u001b[32m[I 2022-06-22 13:17:22,985]\u001b[0m Trial 4 finished with value: 0.3897477215253496 and parameters: {'x': 1.3757022172669924}. Best is trial 4 with value: 0.3897477215253496.\u001b[0m\n",
      "\u001b[32m[I 2022-06-22 13:17:22,988]\u001b[0m Trial 5 finished with value: 10.949367555439396 and parameters: {'x': -1.3089828581362273}. Best is trial 4 with value: 0.3897477215253496.\u001b[0m\n",
      "\u001b[32m[I 2022-06-22 13:17:22,990]\u001b[0m Trial 6 finished with value: 31.955360566323655 and parameters: {'x': -3.6529072667366176}. Best is trial 4 with value: 0.3897477215253496.\u001b[0m\n",
      "\u001b[32m[I 2022-06-22 13:17:22,991]\u001b[0m Trial 7 finished with value: 0.06361838889696307 and parameters: {'x': 1.747773140016843}. Best is trial 7 with value: 0.06361838889696307.\u001b[0m\n",
      "\u001b[32m[I 2022-06-22 13:17:22,993]\u001b[0m Trial 8 finished with value: 15.00717990347956 and parameters: {'x': -1.8739101568672911}. Best is trial 7 with value: 0.06361838889696307.\u001b[0m\n",
      "\u001b[32m[I 2022-06-22 13:17:22,995]\u001b[0m Trial 9 finished with value: 29.89236795924649 and parameters: {'x': -3.4673913303555004}. Best is trial 7 with value: 0.06361838889696307.\u001b[0m\n",
      "\u001b[32m[I 2022-06-22 13:17:23,006]\u001b[0m Trial 10 finished with value: 34.354376660369546 and parameters: {'x': 7.861260671593573}. Best is trial 7 with value: 0.06361838889696307.\u001b[0m\n",
      "\u001b[32m[I 2022-06-22 13:17:23,010]\u001b[0m Trial 11 finished with value: 10.149724944714817 and parameters: {'x': 5.185863296614407}. Best is trial 7 with value: 0.06361838889696307.\u001b[0m\n",
      "\u001b[32m[I 2022-06-22 13:17:23,015]\u001b[0m Trial 12 finished with value: 5.154942473701412 and parameters: {'x': 4.270449839503487}. Best is trial 7 with value: 0.06361838889696307.\u001b[0m\n",
      "\u001b[32m[I 2022-06-22 13:17:23,020]\u001b[0m Trial 13 finished with value: 0.517566918624932 and parameters: {'x': 2.719421238652941}. Best is trial 7 with value: 0.06361838889696307.\u001b[0m\n",
      "\u001b[32m[I 2022-06-22 13:17:23,026]\u001b[0m Trial 14 finished with value: 0.006312744963794585 and parameters: {'x': 2.0794527844936512}. Best is trial 14 with value: 0.006312744963794585.\u001b[0m\n",
      "\u001b[32m[I 2022-06-22 13:17:23,030]\u001b[0m Trial 15 finished with value: 55.71593012795563 and parameters: {'x': 9.464310425481756}. Best is trial 14 with value: 0.006312744963794585.\u001b[0m\n",
      "\u001b[32m[I 2022-06-22 13:17:23,036]\u001b[0m Trial 16 finished with value: 10.912478174810884 and parameters: {'x': 5.303404028394178}. Best is trial 14 with value: 0.006312744963794585.\u001b[0m\n",
      "\u001b[32m[I 2022-06-22 13:17:23,041]\u001b[0m Trial 17 finished with value: 0.4397532621538544 and parameters: {'x': 1.3368610536592995}. Best is trial 14 with value: 0.006312744963794585.\u001b[0m\n",
      "\u001b[32m[I 2022-06-22 13:17:23,046]\u001b[0m Trial 18 finished with value: 24.868173999083687 and parameters: {'x': 6.986799975844598}. Best is trial 14 with value: 0.006312744963794585.\u001b[0m\n",
      "\u001b[32m[I 2022-06-22 13:17:23,049]\u001b[0m Trial 19 finished with value: 132.0861076969312 and parameters: {'x': -9.492872038656447}. Best is trial 14 with value: 0.006312744963794585.\u001b[0m\n",
      "\u001b[32m[I 2022-06-22 13:17:23,054]\u001b[0m Trial 20 finished with value: 1.4123741474287665 and parameters: {'x': 3.188433484646392}. Best is trial 14 with value: 0.006312744963794585.\u001b[0m\n",
      "\u001b[32m[I 2022-06-22 13:17:23,058]\u001b[0m Trial 21 finished with value: 0.09136900536545235 and parameters: {'x': 1.6977269357593165}. Best is trial 14 with value: 0.006312744963794585.\u001b[0m\n",
      "\u001b[32m[I 2022-06-22 13:17:23,063]\u001b[0m Trial 22 finished with value: 0.9646479739199145 and parameters: {'x': 1.0178350576812902}. Best is trial 14 with value: 0.006312744963794585.\u001b[0m\n",
      "\u001b[32m[I 2022-06-22 13:17:23,067]\u001b[0m Trial 23 finished with value: 0.17659211232047817 and parameters: {'x': 2.4202286429082127}. Best is trial 14 with value: 0.006312744963794585.\u001b[0m\n",
      "\u001b[32m[I 2022-06-22 13:17:23,074]\u001b[0m Trial 24 finished with value: 4.646499812939796 and parameters: {'x': -0.15557412606010734}. Best is trial 14 with value: 0.006312744963794585.\u001b[0m\n",
      "\u001b[32m[I 2022-06-22 13:17:23,079]\u001b[0m Trial 25 finished with value: 51.18829774122457 and parameters: {'x': -5.154599761078503}. Best is trial 14 with value: 0.006312744963794585.\u001b[0m\n",
      "\u001b[32m[I 2022-06-22 13:17:23,083]\u001b[0m Trial 26 finished with value: 4.152918709623801 and parameters: {'x': 4.037871121936763}. Best is trial 14 with value: 0.006312744963794585.\u001b[0m\n",
      "\u001b[32m[I 2022-06-22 13:17:23,087]\u001b[0m Trial 27 finished with value: 21.644820558270027 and parameters: {'x': 6.652399440962698}. Best is trial 14 with value: 0.006312744963794585.\u001b[0m\n",
      "\u001b[32m[I 2022-06-22 13:17:23,093]\u001b[0m Trial 28 finished with value: 10.070056966530291 and parameters: {'x': -1.173335306350448}. Best is trial 14 with value: 0.006312744963794585.\u001b[0m\n",
      "\u001b[32m[I 2022-06-22 13:17:23,101]\u001b[0m Trial 29 finished with value: 1.0302672588236115 and parameters: {'x': 0.984979183058982}. Best is trial 14 with value: 0.006312744963794585.\u001b[0m\n",
      "\u001b[32m[I 2022-06-22 13:17:23,108]\u001b[0m Trial 30 finished with value: 0.06851238563346936 and parameters: {'x': 2.261748707033042}. Best is trial 14 with value: 0.006312744963794585.\u001b[0m\n",
      "\u001b[32m[I 2022-06-22 13:17:23,117]\u001b[0m Trial 31 finished with value: 0.021367908184546015 and parameters: {'x': 2.14617765966298}. Best is trial 14 with value: 0.006312744963794585.\u001b[0m\n",
      "\u001b[32m[I 2022-06-22 13:17:23,122]\u001b[0m Trial 32 finished with value: 2.313754789702576 and parameters: {'x': 3.5211031489358557}. Best is trial 14 with value: 0.006312744963794585.\u001b[0m\n",
      "\u001b[32m[I 2022-06-22 13:17:23,128]\u001b[0m Trial 33 finished with value: 10.99900201920879 and parameters: {'x': 5.316474335677692}. Best is trial 14 with value: 0.006312744963794585.\u001b[0m\n",
      "\u001b[32m[I 2022-06-22 13:17:23,135]\u001b[0m Trial 34 finished with value: 20.087728710426603 and parameters: {'x': -2.4819335905863893}. Best is trial 14 with value: 0.006312744963794585.\u001b[0m\n",
      "\u001b[32m[I 2022-06-22 13:17:23,141]\u001b[0m Trial 35 finished with value: 4.094163279454365 and parameters: {'x': -0.02340388441219643}. Best is trial 14 with value: 0.006312744963794585.\u001b[0m\n",
      "\u001b[32m[I 2022-06-22 13:17:23,148]\u001b[0m Trial 36 finished with value: 0.35546829267976415 and parameters: {'x': 2.5962116173639727}. Best is trial 14 with value: 0.006312744963794585.\u001b[0m\n",
      "\u001b[32m[I 2022-06-22 13:17:23,155]\u001b[0m Trial 37 finished with value: 47.6316589216783 and parameters: {'x': -4.901569308619475}. Best is trial 14 with value: 0.006312744963794585.\u001b[0m\n",
      "\u001b[32m[I 2022-06-22 13:17:23,162]\u001b[0m Trial 38 finished with value: 7.874589521692377 and parameters: {'x': -0.8061699024992013}. Best is trial 14 with value: 0.006312744963794585.\u001b[0m\n",
      "\u001b[32m[I 2022-06-22 13:17:23,201]\u001b[0m Trial 39 finished with value: 2.2374533179546225 and parameters: {'x': 0.5041880740030775}. Best is trial 14 with value: 0.006312744963794585.\u001b[0m\n",
      "\u001b[32m[I 2022-06-22 13:17:23,208]\u001b[0m Trial 40 finished with value: 0.21361737320001323 and parameters: {'x': 2.462187595246793}. Best is trial 14 with value: 0.006312744963794585.\u001b[0m\n",
      "\u001b[32m[I 2022-06-22 13:17:23,218]\u001b[0m Trial 41 finished with value: 0.06591129938578859 and parameters: {'x': 1.7432680398045686}. Best is trial 14 with value: 0.006312744963794585.\u001b[0m\n",
      "\u001b[32m[I 2022-06-22 13:17:23,225]\u001b[0m Trial 42 finished with value: 5.352332856236262 and parameters: {'x': 4.313510937133486}. Best is trial 14 with value: 0.006312744963794585.\u001b[0m\n",
      "\u001b[32m[I 2022-06-22 13:17:23,232]\u001b[0m Trial 43 finished with value: 0.2609136499252651 and parameters: {'x': 1.4892029268630593}. Best is trial 14 with value: 0.006312744963794585.\u001b[0m\n",
      "\u001b[32m[I 2022-06-22 13:17:23,239]\u001b[0m Trial 44 finished with value: 0.010043570511409965 and parameters: {'x': 2.1002176157739245}. Best is trial 14 with value: 0.006312744963794585.\u001b[0m\n",
      "\u001b[32m[I 2022-06-22 13:17:23,246]\u001b[0m Trial 45 finished with value: 3.2879411379665013 and parameters: {'x': 0.18673191778862958}. Best is trial 14 with value: 0.006312744963794585.\u001b[0m\n",
      "\u001b[32m[I 2022-06-22 13:17:23,253]\u001b[0m Trial 46 finished with value: 12.867032329689327 and parameters: {'x': -1.5870645839863724}. Best is trial 14 with value: 0.006312744963794585.\u001b[0m\n",
      "\u001b[32m[I 2022-06-22 13:17:23,263]\u001b[0m Trial 47 finished with value: 6.884775465550398 and parameters: {'x': 4.623885566397742}. Best is trial 14 with value: 0.006312744963794585.\u001b[0m\n",
      "\u001b[32m[I 2022-06-22 13:17:23,269]\u001b[0m Trial 48 finished with value: 21.048088229704884 and parameters: {'x': 6.587819550691252}. Best is trial 14 with value: 0.006312744963794585.\u001b[0m\n",
      "\u001b[32m[I 2022-06-22 13:17:23,274]\u001b[0m Trial 49 finished with value: 2.7948055086645724 and parameters: {'x': 3.671767181357671}. Best is trial 14 with value: 0.006312744963794585.\u001b[0m\n",
      "\u001b[32m[I 2022-06-22 13:17:23,279]\u001b[0m Trial 50 finished with value: 18.83690184229433 and parameters: {'x': -2.3401499792396963}. Best is trial 14 with value: 0.006312744963794585.\u001b[0m\n",
      "\u001b[32m[I 2022-06-22 13:17:23,287]\u001b[0m Trial 51 finished with value: 0.008163733090517645 and parameters: {'x': 1.9096466210343097}. Best is trial 14 with value: 0.006312744963794585.\u001b[0m\n",
      "\u001b[32m[I 2022-06-22 13:17:23,292]\u001b[0m Trial 52 finished with value: 0.0029220168710216536 and parameters: {'x': 1.945944316940569}. Best is trial 52 with value: 0.0029220168710216536.\u001b[0m\n",
      "\u001b[32m[I 2022-06-22 13:17:23,297]\u001b[0m Trial 53 finished with value: 1.2599676366049335 and parameters: {'x': 3.122482800137683}. Best is trial 52 with value: 0.0029220168710216536.\u001b[0m\n",
      "\u001b[32m[I 2022-06-22 13:17:23,303]\u001b[0m Trial 54 finished with value: 6.888036840281046 and parameters: {'x': -0.6245069708958759}. Best is trial 52 with value: 0.0029220168710216536.\u001b[0m\n",
      "\u001b[32m[I 2022-06-22 13:17:23,307]\u001b[0m Trial 55 finished with value: 1.7925399019413049 and parameters: {'x': 0.6611423145302915}. Best is trial 52 with value: 0.0029220168710216536.\u001b[0m\n",
      "\u001b[32m[I 2022-06-22 13:17:23,315]\u001b[0m Trial 56 finished with value: 12.179253174386215 and parameters: {'x': 5.4898786761700205}. Best is trial 52 with value: 0.0029220168710216536.\u001b[0m\n",
      "\u001b[32m[I 2022-06-22 13:17:23,322]\u001b[0m Trial 57 finished with value: 0.01515764694777489 and parameters: {'x': 2.1231163959339896}. Best is trial 52 with value: 0.0029220168710216536.\u001b[0m\n",
      "\u001b[32m[I 2022-06-22 13:17:23,327]\u001b[0m Trial 58 finished with value: 1.1742707006053443 and parameters: {'x': 3.083637716492622}. Best is trial 52 with value: 0.0029220168710216536.\u001b[0m\n",
      "\u001b[32m[I 2022-06-22 13:17:23,333]\u001b[0m Trial 59 finished with value: 0.0010867077895799092 and parameters: {'x': 1.967034748756002}. Best is trial 59 with value: 0.0010867077895799092.\u001b[0m\n",
      "\u001b[32m[I 2022-06-22 13:17:23,340]\u001b[0m Trial 60 finished with value: 7.608755554490321 and parameters: {'x': 4.758397280032432}. Best is trial 59 with value: 0.0010867077895799092.\u001b[0m\n",
      "\u001b[32m[I 2022-06-22 13:17:23,346]\u001b[0m Trial 61 finished with value: 0.015952149405006166 and parameters: {'x': 1.8736981813076068}. Best is trial 59 with value: 0.0010867077895799092.\u001b[0m\n",
      "\u001b[32m[I 2022-06-22 13:17:23,352]\u001b[0m Trial 62 finished with value: 0.7929182419058767 and parameters: {'x': 1.109540432189155}. Best is trial 59 with value: 0.0010867077895799092.\u001b[0m\n",
      "\u001b[32m[I 2022-06-22 13:17:23,357]\u001b[0m Trial 63 finished with value: 0.0886761659841565 and parameters: {'x': 1.702214563848135}. Best is trial 59 with value: 0.0010867077895799092.\u001b[0m\n",
      "\u001b[32m[I 2022-06-22 13:17:23,362]\u001b[0m Trial 64 finished with value: 2.3519493692522206 and parameters: {'x': 3.533606654019283}. Best is trial 59 with value: 0.0010867077895799092.\u001b[0m\n",
      "\u001b[32m[I 2022-06-22 13:17:23,368]\u001b[0m Trial 65 finished with value: 1.5023408848985549 and parameters: {'x': 0.774299838908979}. Best is trial 59 with value: 0.0010867077895799092.\u001b[0m\n",
      "\u001b[32m[I 2022-06-22 13:17:23,374]\u001b[0m Trial 66 finished with value: 0.009924697024542923 and parameters: {'x': 2.099622773624021}. Best is trial 59 with value: 0.0010867077895799092.\u001b[0m\n",
      "\u001b[32m[I 2022-06-22 13:17:23,378]\u001b[0m Trial 67 finished with value: 0.5386904328607742 and parameters: {'x': 2.7339553343772183}. Best is trial 59 with value: 0.0010867077895799092.\u001b[0m\n",
      "\u001b[32m[I 2022-06-22 13:17:23,383]\u001b[0m Trial 68 finished with value: 6.44893061876946 and parameters: {'x': -0.5394744768887638}. Best is trial 59 with value: 0.0010867077895799092.\u001b[0m\n",
      "\u001b[32m[I 2022-06-22 13:17:23,390]\u001b[0m Trial 69 finished with value: 16.28475520916781 and parameters: {'x': 6.035437424761758}. Best is trial 59 with value: 0.0010867077895799092.\u001b[0m\n",
      "\u001b[32m[I 2022-06-22 13:17:23,396]\u001b[0m Trial 70 finished with value: 3.030027464361131 and parameters: {'x': 3.740697407466654}. Best is trial 59 with value: 0.0010867077895799092.\u001b[0m\n",
      "\u001b[32m[I 2022-06-22 13:17:23,403]\u001b[0m Trial 71 finished with value: 0.027468991413977968 and parameters: {'x': 2.16573771874253}. Best is trial 59 with value: 0.0010867077895799092.\u001b[0m\n",
      "\u001b[32m[I 2022-06-22 13:17:23,411]\u001b[0m Trial 72 finished with value: 0.3631824641883019 and parameters: {'x': 1.397353781901602}. Best is trial 59 with value: 0.0010867077895799092.\u001b[0m\n",
      "\u001b[32m[I 2022-06-22 13:17:23,417]\u001b[0m Trial 73 finished with value: 3.2074915251443694 and parameters: {'x': 0.20905289716743192}. Best is trial 59 with value: 0.0010867077895799092.\u001b[0m\n",
      "\u001b[32m[I 2022-06-22 13:17:23,425]\u001b[0m Trial 74 finished with value: 1.1316499146522918 and parameters: {'x': 3.0637903527727124}. Best is trial 59 with value: 0.0010867077895799092.\u001b[0m\n",
      "\u001b[32m[I 2022-06-22 13:17:23,430]\u001b[0m Trial 75 finished with value: 0.001965757442268662 and parameters: {'x': 1.955663136756547}. Best is trial 59 with value: 0.0010867077895799092.\u001b[0m\n",
      "\u001b[32m[I 2022-06-22 13:17:23,437]\u001b[0m Trial 76 finished with value: 0.91274489332966 and parameters: {'x': 1.0446231668447994}. Best is trial 59 with value: 0.0010867077895799092.\u001b[0m\n",
      "\u001b[32m[I 2022-06-22 13:17:23,457]\u001b[0m Trial 77 finished with value: 0.6276637363925841 and parameters: {'x': 2.792252318641343}. Best is trial 59 with value: 0.0010867077895799092.\u001b[0m\n",
      "\u001b[32m[I 2022-06-22 13:17:23,467]\u001b[0m Trial 78 finished with value: 0.0041017661763125875 and parameters: {'x': 2.0640450324093336}. Best is trial 59 with value: 0.0010867077895799092.\u001b[0m\n",
      "\u001b[32m[I 2022-06-22 13:17:23,474]\u001b[0m Trial 79 finished with value: 2.069274529402719 and parameters: {'x': 0.5615026835608212}. Best is trial 59 with value: 0.0010867077895799092.\u001b[0m\n",
      "\u001b[32m[I 2022-06-22 13:17:23,481]\u001b[0m Trial 80 finished with value: 4.945515165747729 and parameters: {'x': 4.2238514261856}. Best is trial 59 with value: 0.0010867077895799092.\u001b[0m\n",
      "\u001b[32m[I 2022-06-22 13:17:23,491]\u001b[0m Trial 81 finished with value: 0.016434661100646338 and parameters: {'x': 2.128197742182327}. Best is trial 59 with value: 0.0010867077895799092.\u001b[0m\n",
      "\u001b[32m[I 2022-06-22 13:17:23,498]\u001b[0m Trial 82 finished with value: 0.4231909679186523 and parameters: {'x': 1.3494687033519046}. Best is trial 59 with value: 0.0010867077895799092.\u001b[0m\n",
      "\u001b[32m[I 2022-06-22 13:17:23,503]\u001b[0m Trial 83 finished with value: 0.07833981058119178 and parameters: {'x': 2.279892498258156}. Best is trial 59 with value: 0.0010867077895799092.\u001b[0m\n",
      "\u001b[32m[I 2022-06-22 13:17:23,508]\u001b[0m Trial 84 finished with value: 3.6662895274419496 and parameters: {'x': 0.0852442642880138}. Best is trial 59 with value: 0.0010867077895799092.\u001b[0m\n",
      "\u001b[32m[I 2022-06-22 13:17:23,514]\u001b[0m Trial 85 finished with value: 125.50810596292092 and parameters: {'x': -9.203040032193089}. Best is trial 59 with value: 0.0010867077895799092.\u001b[0m\n",
      "\u001b[32m[I 2022-06-22 13:17:23,520]\u001b[0m Trial 86 finished with value: 1.9221881979730249 and parameters: {'x': 3.3864300191401746}. Best is trial 59 with value: 0.0010867077895799092.\u001b[0m\n",
      "\u001b[32m[I 2022-06-22 13:17:23,525]\u001b[0m Trial 87 finished with value: 9.189552653033683 and parameters: {'x': -1.0314274942729016}. Best is trial 59 with value: 0.0010867077895799092.\u001b[0m\n",
      "\u001b[32m[I 2022-06-22 13:17:23,530]\u001b[0m Trial 88 finished with value: 0.4711969132120424 and parameters: {'x': 2.6864378436625143}. Best is trial 59 with value: 0.0010867077895799092.\u001b[0m\n",
      "\u001b[32m[I 2022-06-22 13:17:23,541]\u001b[0m Trial 89 finished with value: 3.866149929414427 and parameters: {'x': 3.96625276335837}. Best is trial 59 with value: 0.0010867077895799092.\u001b[0m\n",
      "\u001b[32m[I 2022-06-22 13:17:23,548]\u001b[0m Trial 90 finished with value: 0.06122643381143672 and parameters: {'x': 1.7525602420558961}. Best is trial 59 with value: 0.0010867077895799092.\u001b[0m\n",
      "\u001b[32m[I 2022-06-22 13:17:23,555]\u001b[0m Trial 91 finished with value: 0.011432325358880077 and parameters: {'x': 1.8930779472752226}. Best is trial 59 with value: 0.0010867077895799092.\u001b[0m\n",
      "\u001b[32m[I 2022-06-22 13:17:23,560]\u001b[0m Trial 92 finished with value: 1.6445712925578422e-07 and parameters: {'x': 2.0004055331419943}. Best is trial 92 with value: 1.6445712925578422e-07.\u001b[0m\n",
      "\u001b[32m[I 2022-06-22 13:17:23,568]\u001b[0m Trial 93 finished with value: 50.68663582678787 and parameters: {'x': 9.119454742238894}. Best is trial 92 with value: 1.6445712925578422e-07.\u001b[0m\n",
      "\u001b[32m[I 2022-06-22 13:17:23,574]\u001b[0m Trial 94 finished with value: 4.85793129902422 and parameters: {'x': -0.20407152765608316}. Best is trial 92 with value: 1.6445712925578422e-07.\u001b[0m\n",
      "\u001b[32m[I 2022-06-22 13:17:23,580]\u001b[0m Trial 95 finished with value: 0.6278922996843559 and parameters: {'x': 1.2076034454363422}. Best is trial 92 with value: 1.6445712925578422e-07.\u001b[0m\n",
      "\u001b[32m[I 2022-06-22 13:17:23,586]\u001b[0m Trial 96 finished with value: 0.816392244834784 and parameters: {'x': 2.9035442683315433}. Best is trial 92 with value: 1.6445712925578422e-07.\u001b[0m\n",
      "\u001b[32m[I 2022-06-22 13:17:23,595]\u001b[0m Trial 97 finished with value: 7.996008519613405 and parameters: {'x': 4.827721435999912}. Best is trial 92 with value: 1.6445712925578422e-07.\u001b[0m\n",
      "\u001b[32m[I 2022-06-22 13:17:23,602]\u001b[0m Trial 98 finished with value: 0.004318685165309908 and parameters: {'x': 1.9342832961469467}. Best is trial 92 with value: 1.6445712925578422e-07.\u001b[0m\n",
      "\u001b[32m[I 2022-06-22 13:17:23,614]\u001b[0m Trial 99 finished with value: 1.9000630694493215 and parameters: {'x': 0.6215722472870326}. Best is trial 92 with value: 1.6445712925578422e-07.\u001b[0m\n"
     ]
    }
   ],
   "source": [
    "# 最適化プロジェクトの定義\n",
    "study = optuna.create_study()\n",
    "# 最適化実行\n",
    "study.optimize(objective, n_trials=100)"
   ]
  },
  {
   "cell_type": "code",
   "execution_count": 4,
   "metadata": {},
   "outputs": [
    {
     "name": "stdout",
     "output_type": "stream",
     "text": [
      "Found x: 2.0004055331419943, (x - 2)^2: 1.6445712925578422e-07\n"
     ]
    }
   ],
   "source": [
    "# 最小値の表示\n",
    "best_params = study.best_params\n",
    "found_x = best_params[\"x\"]\n",
    "print(f\"Found x: {found_x}, (x - 2)^2: {(found_x - 2) ** 2}\")"
   ]
  },
  {
   "cell_type": "markdown",
   "metadata": {},
   "source": [
    "探索の経過の可視化 (**Plotlyパッケージをインストール必要**)\n",
    "\n",
    "https://optuna.readthedocs.io/en/stable/tutorial/10_key_features/005_visualization.html"
   ]
  },
  {
   "cell_type": "code",
   "execution_count": 5,
   "metadata": {},
   "outputs": [
    {
     "data": {
      "application/vnd.plotly.v1+json": {
       "config": {
        "plotlyServerURL": "https://plot.ly"
       },
       "data": [
        {
         "mode": "markers",
         "name": "Objective Value",
         "type": "scatter",
         "x": [
          0,
          1,
          2,
          3,
          4,
          5,
          6,
          7,
          8,
          9,
          10,
          11,
          12,
          13,
          14,
          15,
          16,
          17,
          18,
          19,
          20,
          21,
          22,
          23,
          24,
          25,
          26,
          27,
          28,
          29,
          30,
          31,
          32,
          33,
          34,
          35,
          36,
          37,
          38,
          39,
          40,
          41,
          42,
          43,
          44,
          45,
          46,
          47,
          48,
          49,
          50,
          51,
          52,
          53,
          54,
          55,
          56,
          57,
          58,
          59,
          60,
          61,
          62,
          63,
          64,
          65,
          66,
          67,
          68,
          69,
          70,
          71,
          72,
          73,
          74,
          75,
          76,
          77,
          78,
          79,
          80,
          81,
          82,
          83,
          84,
          85,
          86,
          87,
          88,
          89,
          90,
          91,
          92,
          93,
          94,
          95,
          96,
          97,
          98,
          99
         ],
         "y": [
          24.2610954717778,
          82.25738503635753,
          90.2835428792137,
          5.3670348220213135,
          0.3897477215253496,
          10.949367555439396,
          31.955360566323655,
          0.06361838889696307,
          15.00717990347956,
          29.89236795924649,
          34.354376660369546,
          10.149724944714817,
          5.154942473701412,
          0.517566918624932,
          0.006312744963794585,
          55.71593012795563,
          10.912478174810884,
          0.4397532621538544,
          24.868173999083687,
          132.0861076969312,
          1.4123741474287665,
          0.09136900536545235,
          0.9646479739199145,
          0.17659211232047817,
          4.646499812939796,
          51.18829774122457,
          4.152918709623801,
          21.644820558270027,
          10.070056966530291,
          1.0302672588236115,
          0.06851238563346936,
          0.021367908184546015,
          2.313754789702576,
          10.99900201920879,
          20.087728710426603,
          4.094163279454365,
          0.35546829267976415,
          47.6316589216783,
          7.874589521692377,
          2.2374533179546225,
          0.21361737320001323,
          0.06591129938578859,
          5.352332856236262,
          0.2609136499252651,
          0.010043570511409965,
          3.2879411379665013,
          12.867032329689327,
          6.884775465550398,
          21.048088229704884,
          2.7948055086645724,
          18.83690184229433,
          0.008163733090517645,
          0.0029220168710216536,
          1.2599676366049335,
          6.888036840281046,
          1.7925399019413049,
          12.179253174386215,
          0.01515764694777489,
          1.1742707006053443,
          0.0010867077895799092,
          7.608755554490321,
          0.015952149405006166,
          0.7929182419058767,
          0.0886761659841565,
          2.3519493692522206,
          1.5023408848985549,
          0.009924697024542923,
          0.5386904328607742,
          6.44893061876946,
          16.28475520916781,
          3.030027464361131,
          0.027468991413977968,
          0.3631824641883019,
          3.2074915251443694,
          1.1316499146522918,
          0.001965757442268662,
          0.91274489332966,
          0.6276637363925841,
          0.0041017661763125875,
          2.069274529402719,
          4.945515165747729,
          0.016434661100646338,
          0.4231909679186523,
          0.07833981058119178,
          3.6662895274419496,
          125.50810596292092,
          1.9221881979730249,
          9.189552653033683,
          0.4711969132120424,
          3.866149929414427,
          0.06122643381143672,
          0.011432325358880077,
          1.6445712925578422e-7,
          50.68663582678787,
          4.85793129902422,
          0.6278922996843559,
          0.816392244834784,
          7.996008519613405,
          0.004318685165309908,
          1.9000630694493215
         ]
        },
        {
         "name": "Best Value",
         "type": "scatter",
         "x": [
          0,
          1,
          2,
          3,
          4,
          5,
          6,
          7,
          8,
          9,
          10,
          11,
          12,
          13,
          14,
          15,
          16,
          17,
          18,
          19,
          20,
          21,
          22,
          23,
          24,
          25,
          26,
          27,
          28,
          29,
          30,
          31,
          32,
          33,
          34,
          35,
          36,
          37,
          38,
          39,
          40,
          41,
          42,
          43,
          44,
          45,
          46,
          47,
          48,
          49,
          50,
          51,
          52,
          53,
          54,
          55,
          56,
          57,
          58,
          59,
          60,
          61,
          62,
          63,
          64,
          65,
          66,
          67,
          68,
          69,
          70,
          71,
          72,
          73,
          74,
          75,
          76,
          77,
          78,
          79,
          80,
          81,
          82,
          83,
          84,
          85,
          86,
          87,
          88,
          89,
          90,
          91,
          92,
          93,
          94,
          95,
          96,
          97,
          98,
          99
         ],
         "y": [
          24.2610954717778,
          24.2610954717778,
          24.2610954717778,
          5.3670348220213135,
          0.3897477215253496,
          0.3897477215253496,
          0.3897477215253496,
          0.06361838889696307,
          0.06361838889696307,
          0.06361838889696307,
          0.06361838889696307,
          0.06361838889696307,
          0.06361838889696307,
          0.06361838889696307,
          0.006312744963794585,
          0.006312744963794585,
          0.006312744963794585,
          0.006312744963794585,
          0.006312744963794585,
          0.006312744963794585,
          0.006312744963794585,
          0.006312744963794585,
          0.006312744963794585,
          0.006312744963794585,
          0.006312744963794585,
          0.006312744963794585,
          0.006312744963794585,
          0.006312744963794585,
          0.006312744963794585,
          0.006312744963794585,
          0.006312744963794585,
          0.006312744963794585,
          0.006312744963794585,
          0.006312744963794585,
          0.006312744963794585,
          0.006312744963794585,
          0.006312744963794585,
          0.006312744963794585,
          0.006312744963794585,
          0.006312744963794585,
          0.006312744963794585,
          0.006312744963794585,
          0.006312744963794585,
          0.006312744963794585,
          0.006312744963794585,
          0.006312744963794585,
          0.006312744963794585,
          0.006312744963794585,
          0.006312744963794585,
          0.006312744963794585,
          0.006312744963794585,
          0.006312744963794585,
          0.0029220168710216536,
          0.0029220168710216536,
          0.0029220168710216536,
          0.0029220168710216536,
          0.0029220168710216536,
          0.0029220168710216536,
          0.0029220168710216536,
          0.0010867077895799092,
          0.0010867077895799092,
          0.0010867077895799092,
          0.0010867077895799092,
          0.0010867077895799092,
          0.0010867077895799092,
          0.0010867077895799092,
          0.0010867077895799092,
          0.0010867077895799092,
          0.0010867077895799092,
          0.0010867077895799092,
          0.0010867077895799092,
          0.0010867077895799092,
          0.0010867077895799092,
          0.0010867077895799092,
          0.0010867077895799092,
          0.0010867077895799092,
          0.0010867077895799092,
          0.0010867077895799092,
          0.0010867077895799092,
          0.0010867077895799092,
          0.0010867077895799092,
          0.0010867077895799092,
          0.0010867077895799092,
          0.0010867077895799092,
          0.0010867077895799092,
          0.0010867077895799092,
          0.0010867077895799092,
          0.0010867077895799092,
          0.0010867077895799092,
          0.0010867077895799092,
          0.0010867077895799092,
          0.0010867077895799092,
          1.6445712925578422e-7,
          1.6445712925578422e-7,
          1.6445712925578422e-7,
          1.6445712925578422e-7,
          1.6445712925578422e-7,
          1.6445712925578422e-7,
          1.6445712925578422e-7,
          1.6445712925578422e-7
         ]
        }
       ],
       "layout": {
        "template": {
         "data": {
          "bar": [
           {
            "error_x": {
             "color": "#2a3f5f"
            },
            "error_y": {
             "color": "#2a3f5f"
            },
            "marker": {
             "line": {
              "color": "#E5ECF6",
              "width": 0.5
             },
             "pattern": {
              "fillmode": "overlay",
              "size": 10,
              "solidity": 0.2
             }
            },
            "type": "bar"
           }
          ],
          "barpolar": [
           {
            "marker": {
             "line": {
              "color": "#E5ECF6",
              "width": 0.5
             },
             "pattern": {
              "fillmode": "overlay",
              "size": 10,
              "solidity": 0.2
             }
            },
            "type": "barpolar"
           }
          ],
          "carpet": [
           {
            "aaxis": {
             "endlinecolor": "#2a3f5f",
             "gridcolor": "white",
             "linecolor": "white",
             "minorgridcolor": "white",
             "startlinecolor": "#2a3f5f"
            },
            "baxis": {
             "endlinecolor": "#2a3f5f",
             "gridcolor": "white",
             "linecolor": "white",
             "minorgridcolor": "white",
             "startlinecolor": "#2a3f5f"
            },
            "type": "carpet"
           }
          ],
          "choropleth": [
           {
            "colorbar": {
             "outlinewidth": 0,
             "ticks": ""
            },
            "type": "choropleth"
           }
          ],
          "contour": [
           {
            "colorbar": {
             "outlinewidth": 0,
             "ticks": ""
            },
            "colorscale": [
             [
              0,
              "#0d0887"
             ],
             [
              0.1111111111111111,
              "#46039f"
             ],
             [
              0.2222222222222222,
              "#7201a8"
             ],
             [
              0.3333333333333333,
              "#9c179e"
             ],
             [
              0.4444444444444444,
              "#bd3786"
             ],
             [
              0.5555555555555556,
              "#d8576b"
             ],
             [
              0.6666666666666666,
              "#ed7953"
             ],
             [
              0.7777777777777778,
              "#fb9f3a"
             ],
             [
              0.8888888888888888,
              "#fdca26"
             ],
             [
              1,
              "#f0f921"
             ]
            ],
            "type": "contour"
           }
          ],
          "contourcarpet": [
           {
            "colorbar": {
             "outlinewidth": 0,
             "ticks": ""
            },
            "type": "contourcarpet"
           }
          ],
          "heatmap": [
           {
            "colorbar": {
             "outlinewidth": 0,
             "ticks": ""
            },
            "colorscale": [
             [
              0,
              "#0d0887"
             ],
             [
              0.1111111111111111,
              "#46039f"
             ],
             [
              0.2222222222222222,
              "#7201a8"
             ],
             [
              0.3333333333333333,
              "#9c179e"
             ],
             [
              0.4444444444444444,
              "#bd3786"
             ],
             [
              0.5555555555555556,
              "#d8576b"
             ],
             [
              0.6666666666666666,
              "#ed7953"
             ],
             [
              0.7777777777777778,
              "#fb9f3a"
             ],
             [
              0.8888888888888888,
              "#fdca26"
             ],
             [
              1,
              "#f0f921"
             ]
            ],
            "type": "heatmap"
           }
          ],
          "heatmapgl": [
           {
            "colorbar": {
             "outlinewidth": 0,
             "ticks": ""
            },
            "colorscale": [
             [
              0,
              "#0d0887"
             ],
             [
              0.1111111111111111,
              "#46039f"
             ],
             [
              0.2222222222222222,
              "#7201a8"
             ],
             [
              0.3333333333333333,
              "#9c179e"
             ],
             [
              0.4444444444444444,
              "#bd3786"
             ],
             [
              0.5555555555555556,
              "#d8576b"
             ],
             [
              0.6666666666666666,
              "#ed7953"
             ],
             [
              0.7777777777777778,
              "#fb9f3a"
             ],
             [
              0.8888888888888888,
              "#fdca26"
             ],
             [
              1,
              "#f0f921"
             ]
            ],
            "type": "heatmapgl"
           }
          ],
          "histogram": [
           {
            "marker": {
             "pattern": {
              "fillmode": "overlay",
              "size": 10,
              "solidity": 0.2
             }
            },
            "type": "histogram"
           }
          ],
          "histogram2d": [
           {
            "colorbar": {
             "outlinewidth": 0,
             "ticks": ""
            },
            "colorscale": [
             [
              0,
              "#0d0887"
             ],
             [
              0.1111111111111111,
              "#46039f"
             ],
             [
              0.2222222222222222,
              "#7201a8"
             ],
             [
              0.3333333333333333,
              "#9c179e"
             ],
             [
              0.4444444444444444,
              "#bd3786"
             ],
             [
              0.5555555555555556,
              "#d8576b"
             ],
             [
              0.6666666666666666,
              "#ed7953"
             ],
             [
              0.7777777777777778,
              "#fb9f3a"
             ],
             [
              0.8888888888888888,
              "#fdca26"
             ],
             [
              1,
              "#f0f921"
             ]
            ],
            "type": "histogram2d"
           }
          ],
          "histogram2dcontour": [
           {
            "colorbar": {
             "outlinewidth": 0,
             "ticks": ""
            },
            "colorscale": [
             [
              0,
              "#0d0887"
             ],
             [
              0.1111111111111111,
              "#46039f"
             ],
             [
              0.2222222222222222,
              "#7201a8"
             ],
             [
              0.3333333333333333,
              "#9c179e"
             ],
             [
              0.4444444444444444,
              "#bd3786"
             ],
             [
              0.5555555555555556,
              "#d8576b"
             ],
             [
              0.6666666666666666,
              "#ed7953"
             ],
             [
              0.7777777777777778,
              "#fb9f3a"
             ],
             [
              0.8888888888888888,
              "#fdca26"
             ],
             [
              1,
              "#f0f921"
             ]
            ],
            "type": "histogram2dcontour"
           }
          ],
          "mesh3d": [
           {
            "colorbar": {
             "outlinewidth": 0,
             "ticks": ""
            },
            "type": "mesh3d"
           }
          ],
          "parcoords": [
           {
            "line": {
             "colorbar": {
              "outlinewidth": 0,
              "ticks": ""
             }
            },
            "type": "parcoords"
           }
          ],
          "pie": [
           {
            "automargin": true,
            "type": "pie"
           }
          ],
          "scatter": [
           {
            "fillpattern": {
             "fillmode": "overlay",
             "size": 10,
             "solidity": 0.2
            },
            "type": "scatter"
           }
          ],
          "scatter3d": [
           {
            "line": {
             "colorbar": {
              "outlinewidth": 0,
              "ticks": ""
             }
            },
            "marker": {
             "colorbar": {
              "outlinewidth": 0,
              "ticks": ""
             }
            },
            "type": "scatter3d"
           }
          ],
          "scattercarpet": [
           {
            "marker": {
             "colorbar": {
              "outlinewidth": 0,
              "ticks": ""
             }
            },
            "type": "scattercarpet"
           }
          ],
          "scattergeo": [
           {
            "marker": {
             "colorbar": {
              "outlinewidth": 0,
              "ticks": ""
             }
            },
            "type": "scattergeo"
           }
          ],
          "scattergl": [
           {
            "marker": {
             "colorbar": {
              "outlinewidth": 0,
              "ticks": ""
             }
            },
            "type": "scattergl"
           }
          ],
          "scattermapbox": [
           {
            "marker": {
             "colorbar": {
              "outlinewidth": 0,
              "ticks": ""
             }
            },
            "type": "scattermapbox"
           }
          ],
          "scatterpolar": [
           {
            "marker": {
             "colorbar": {
              "outlinewidth": 0,
              "ticks": ""
             }
            },
            "type": "scatterpolar"
           }
          ],
          "scatterpolargl": [
           {
            "marker": {
             "colorbar": {
              "outlinewidth": 0,
              "ticks": ""
             }
            },
            "type": "scatterpolargl"
           }
          ],
          "scatterternary": [
           {
            "marker": {
             "colorbar": {
              "outlinewidth": 0,
              "ticks": ""
             }
            },
            "type": "scatterternary"
           }
          ],
          "surface": [
           {
            "colorbar": {
             "outlinewidth": 0,
             "ticks": ""
            },
            "colorscale": [
             [
              0,
              "#0d0887"
             ],
             [
              0.1111111111111111,
              "#46039f"
             ],
             [
              0.2222222222222222,
              "#7201a8"
             ],
             [
              0.3333333333333333,
              "#9c179e"
             ],
             [
              0.4444444444444444,
              "#bd3786"
             ],
             [
              0.5555555555555556,
              "#d8576b"
             ],
             [
              0.6666666666666666,
              "#ed7953"
             ],
             [
              0.7777777777777778,
              "#fb9f3a"
             ],
             [
              0.8888888888888888,
              "#fdca26"
             ],
             [
              1,
              "#f0f921"
             ]
            ],
            "type": "surface"
           }
          ],
          "table": [
           {
            "cells": {
             "fill": {
              "color": "#EBF0F8"
             },
             "line": {
              "color": "white"
             }
            },
            "header": {
             "fill": {
              "color": "#C8D4E3"
             },
             "line": {
              "color": "white"
             }
            },
            "type": "table"
           }
          ]
         },
         "layout": {
          "annotationdefaults": {
           "arrowcolor": "#2a3f5f",
           "arrowhead": 0,
           "arrowwidth": 1
          },
          "autotypenumbers": "strict",
          "coloraxis": {
           "colorbar": {
            "outlinewidth": 0,
            "ticks": ""
           }
          },
          "colorscale": {
           "diverging": [
            [
             0,
             "#8e0152"
            ],
            [
             0.1,
             "#c51b7d"
            ],
            [
             0.2,
             "#de77ae"
            ],
            [
             0.3,
             "#f1b6da"
            ],
            [
             0.4,
             "#fde0ef"
            ],
            [
             0.5,
             "#f7f7f7"
            ],
            [
             0.6,
             "#e6f5d0"
            ],
            [
             0.7,
             "#b8e186"
            ],
            [
             0.8,
             "#7fbc41"
            ],
            [
             0.9,
             "#4d9221"
            ],
            [
             1,
             "#276419"
            ]
           ],
           "sequential": [
            [
             0,
             "#0d0887"
            ],
            [
             0.1111111111111111,
             "#46039f"
            ],
            [
             0.2222222222222222,
             "#7201a8"
            ],
            [
             0.3333333333333333,
             "#9c179e"
            ],
            [
             0.4444444444444444,
             "#bd3786"
            ],
            [
             0.5555555555555556,
             "#d8576b"
            ],
            [
             0.6666666666666666,
             "#ed7953"
            ],
            [
             0.7777777777777778,
             "#fb9f3a"
            ],
            [
             0.8888888888888888,
             "#fdca26"
            ],
            [
             1,
             "#f0f921"
            ]
           ],
           "sequentialminus": [
            [
             0,
             "#0d0887"
            ],
            [
             0.1111111111111111,
             "#46039f"
            ],
            [
             0.2222222222222222,
             "#7201a8"
            ],
            [
             0.3333333333333333,
             "#9c179e"
            ],
            [
             0.4444444444444444,
             "#bd3786"
            ],
            [
             0.5555555555555556,
             "#d8576b"
            ],
            [
             0.6666666666666666,
             "#ed7953"
            ],
            [
             0.7777777777777778,
             "#fb9f3a"
            ],
            [
             0.8888888888888888,
             "#fdca26"
            ],
            [
             1,
             "#f0f921"
            ]
           ]
          },
          "colorway": [
           "#636efa",
           "#EF553B",
           "#00cc96",
           "#ab63fa",
           "#FFA15A",
           "#19d3f3",
           "#FF6692",
           "#B6E880",
           "#FF97FF",
           "#FECB52"
          ],
          "font": {
           "color": "#2a3f5f"
          },
          "geo": {
           "bgcolor": "white",
           "lakecolor": "white",
           "landcolor": "#E5ECF6",
           "showlakes": true,
           "showland": true,
           "subunitcolor": "white"
          },
          "hoverlabel": {
           "align": "left"
          },
          "hovermode": "closest",
          "mapbox": {
           "style": "light"
          },
          "paper_bgcolor": "white",
          "plot_bgcolor": "#E5ECF6",
          "polar": {
           "angularaxis": {
            "gridcolor": "white",
            "linecolor": "white",
            "ticks": ""
           },
           "bgcolor": "#E5ECF6",
           "radialaxis": {
            "gridcolor": "white",
            "linecolor": "white",
            "ticks": ""
           }
          },
          "scene": {
           "xaxis": {
            "backgroundcolor": "#E5ECF6",
            "gridcolor": "white",
            "gridwidth": 2,
            "linecolor": "white",
            "showbackground": true,
            "ticks": "",
            "zerolinecolor": "white"
           },
           "yaxis": {
            "backgroundcolor": "#E5ECF6",
            "gridcolor": "white",
            "gridwidth": 2,
            "linecolor": "white",
            "showbackground": true,
            "ticks": "",
            "zerolinecolor": "white"
           },
           "zaxis": {
            "backgroundcolor": "#E5ECF6",
            "gridcolor": "white",
            "gridwidth": 2,
            "linecolor": "white",
            "showbackground": true,
            "ticks": "",
            "zerolinecolor": "white"
           }
          },
          "shapedefaults": {
           "line": {
            "color": "#2a3f5f"
           }
          },
          "ternary": {
           "aaxis": {
            "gridcolor": "white",
            "linecolor": "white",
            "ticks": ""
           },
           "baxis": {
            "gridcolor": "white",
            "linecolor": "white",
            "ticks": ""
           },
           "bgcolor": "#E5ECF6",
           "caxis": {
            "gridcolor": "white",
            "linecolor": "white",
            "ticks": ""
           }
          },
          "title": {
           "x": 0.05
          },
          "xaxis": {
           "automargin": true,
           "gridcolor": "white",
           "linecolor": "white",
           "ticks": "",
           "title": {
            "standoff": 15
           },
           "zerolinecolor": "white",
           "zerolinewidth": 2
          },
          "yaxis": {
           "automargin": true,
           "gridcolor": "white",
           "linecolor": "white",
           "ticks": "",
           "title": {
            "standoff": 15
           },
           "zerolinecolor": "white",
           "zerolinewidth": 2
          }
         }
        },
        "title": {
         "text": "Optimization History Plot"
        },
        "xaxis": {
         "title": {
          "text": "#Trials"
         }
        },
        "yaxis": {
         "title": {
          "text": "Objective Value"
         }
        }
       }
      }
     },
     "metadata": {},
     "output_type": "display_data"
    }
   ],
   "source": [
    "from optuna.visualization import plot_optimization_history\n",
    "\n",
    "plot_optimization_history(study)"
   ]
  },
  {
   "cell_type": "markdown",
   "metadata": {},
   "source": [
    "バッチ最適化\n",
    "\n",
    "基本的にはAsk-and-Tellインターフェースという対話的な利用の一ユースケースとしてバッチ最適化がある。たとえば、観山が困っていたパラメタ側に関する制約を守らせるためのサンプリングを事前にして、満たす入力値とこれに対する評価値のみをOptunaに伝えたいときもおそらくこの対話インターフェースを使えばよさそう。\n",
    "\n",
    "https://optuna.readthedocs.io/en/stable/tutorial/20_recipes/009_ask_and_tell.html"
   ]
  },
  {
   "cell_type": "code",
   "execution_count": 7,
   "metadata": {},
   "outputs": [],
   "source": [
    "# バッチでパラメタを受け取って値を返す目的関数\n",
    "# バッチ最適化というか対話的にOptunaを使う場合には目的関数内でパラメタを定義しないみたい\n",
    "def batched_objective(xs: np.ndarray, ys: np.ndarray):\n",
    "    return xs ** 2 + ys"
   ]
  },
  {
   "cell_type": "code",
   "execution_count": 8,
   "metadata": {},
   "outputs": [
    {
     "name": "stderr",
     "output_type": "stream",
     "text": [
      "\u001b[32m[I 2022-06-22 13:21:00,418]\u001b[0m A new study created in memory with name: no-name-a2983e11-c652-4946-9c0e-54848aa678e1\u001b[0m\n",
      "100%|██████████| 10/10 [00:00<00:00, 17.82it/s]\n"
     ]
    }
   ],
   "source": [
    "# バッチサイズ\n",
    "batch_size = 10\n",
    "# 問い合わせ回数\n",
    "num_query = 10\n",
    "study = optuna.create_study()\n",
    "\n",
    "X = []\n",
    "Y = []\n",
    "\n",
    "for _ in tqdm(range(num_query)):\n",
    "    # create batch\n",
    "    trial_ids = []\n",
    "    x_batch = []\n",
    "    y_batch = []\n",
    "\n",
    "    # バッチサイズ分だけデータを作る\n",
    "    for _ in range(batch_size):\n",
    "        # Optunaにぶち込むためのデータ形式を作る\n",
    "        trial = study.ask()\n",
    "        trial_ids.append(trial.number)\n",
    "        # ここでパラメタの定義と探索空間を指定\n",
    "        x_batch.append(trial.suggest_float(\"x\", -10, 10))\n",
    "        y_batch.append(trial.suggest_float(\"y\", -10, 10))\n",
    "\n",
    "    # 現在のバッチに対する評価値をオラクルに問い合わせる\n",
    "    x_batch = np.array(x_batch)\n",
    "    y_batch = np.array(y_batch)\n",
    "    objectives = batched_objective(x_batch, y_batch)\n",
    "    X.extend(x_batch)\n",
    "    Y.extend(y_batch)\n",
    "\n",
    "    # 問い合わせ結果をOptunaに伝える\n",
    "    for trial_id, objective in zip(trial_ids, objectives):\n",
    "        study.tell(trial_id, objective)"
   ]
  },
  {
   "cell_type": "code",
   "execution_count": 12,
   "metadata": {},
   "outputs": [
    {
     "data": {
      "text/plain": [
       "[<matplotlib.lines.Line2D at 0x13383f550>]"
      ]
     },
     "execution_count": 12,
     "metadata": {},
     "output_type": "execute_result"
    },
    {
     "data": {
      "image/png": "[encoded data removed]",
      "text/plain": [
       "<Figure size 432x288 with 1 Axes>"
      ]
     },
     "metadata": {
      "needs_background": "light"
     },
     "output_type": "display_data"
    }
   ],
   "source": [
    "import matplotlib.pyplot as plt\n",
    "\n",
    "plt.plot(X)\n",
    "plt.plot(Y)"
   ]
  },
  {
   "cell_type": "code",
   "execution_count": 24,
   "metadata": {},
   "outputs": [
    {
     "name": "stdout",
     "output_type": "stream",
     "text": [
      "Found x: 0.22177243177503503, y: -9.908083700605765, objective: -9.858900689110353\n"
     ]
    }
   ],
   "source": [
    "# 最小値の表示\n",
    "best_params = study.best_params\n",
    "found_x = best_params[\"x\"]\n",
    "found_y = best_params[\"y\"]\n",
    "print(f\"Found x: {found_x}, y: {found_y}, objective: {batched_objective(found_x, found_y)}\")"
   ]
  },
  {
   "cell_type": "code",
   "execution_count": 25,
   "metadata": {},
   "outputs": [
    {
     "data": {
      "application/vnd.plotly.v1+json": {
       "config": {
        "plotlyServerURL": "https://plot.ly"
       },
       "data": [
        {
         "mode": "markers",
         "name": "Objective Value",
         "type": "scatter",
         "x": [
          0,
          1,
          2,
          3,
          4,
          5,
          6,
          7,
          8,
          9,
          10,
          11,
          12,
          13,
          14,
          15,
          16,
          17,
          18,
          19,
          20,
          21,
          22,
          23,
          24,
          25,
          26,
          27,
          28,
          29,
          30,
          31,
          32,
          33,
          34,
          35,
          36,
          37,
          38,
          39,
          40,
          41,
          42,
          43,
          44,
          45,
          46,
          47,
          48,
          49,
          50,
          51,
          52,
          53,
          54,
          55,
          56,
          57,
          58,
          59,
          60,
          61,
          62,
          63,
          64,
          65,
          66,
          67,
          68,
          69,
          70,
          71,
          72,
          73,
          74,
          75,
          76,
          77,
          78,
          79,
          80,
          81,
          82,
          83,
          84,
          85,
          86,
          87,
          88,
          89,
          90,
          91,
          92,
          93,
          94,
          95,
          96,
          97,
          98,
          99
         ],
         "y": [
          94.2016517356264,
          65.1026007314717,
          5.995341611653054,
          64.13880109185826,
          31.087512113163065,
          5.687766392683113,
          7.7429232532480095,
          77.73027661797414,
          9.524614341830473,
          -3.394192664063073,
          23.07134470682879,
          21.309432791915015,
          21.072664072333623,
          22.383612834721994,
          21.21983417012504,
          22.84970507733701,
          21.863085759190934,
          19.70293255854333,
          13.960168375539276,
          22.002939866530948,
          -8.663798525743838,
          -7.047251758054893,
          -9.513640233083562,
          -8.605604468315487,
          -9.233148005714844,
          -7.7647518860993605,
          -8.464839444500244,
          10.170658138818789,
          -9.595034688510708,
          10.291284791461651,
          16.656677367729024,
          9.282213816247674,
          12.41745685031474,
          15.862304021275225,
          11.012114389336032,
          13.315122352752084,
          10.860529397168586,
          8.281792010689065,
          12.213266365533062,
          15.616276749011778,
          0.6409675962587551,
          -6.799965257635895,
          -0.8142788041499767,
          0.4898339844683015,
          2.3603911103447572,
          -6.94649332008952,
          1.74190136215448,
          -1.5155194578337303,
          2.4806109241826366,
          1.095159271310962,
          -9.3203586908091,
          50.73322651218163,
          50.83238570379149,
          -9.75333010755508,
          -9.858900689110353,
          32.296549934483224,
          -9.816924406643247,
          37.04370745431172,
          34.34141367855126,
          -9.621755215254503,
          -3.370788714863158,
          -3.5811169945019756,
          -2.870813919486647,
          -2.7080616791289716,
          -2.3094462436677805,
          -5.288220193887986,
          -2.4999110772198945,
          -2.25286593766488,
          -2.2974336842041048,
          -3.758682080517257,
          -4.843187472845842,
          -6.389572850253489,
          -5.264576940384221,
          4.543694393291629,
          4.716619805928589,
          3.62788487667155,
          3.587722769534841,
          -6.4388779372383205,
          5.279981045893325,
          -6.036900229942986,
          -6.611092782381212,
          -7.63332760221688,
          -7.526122947554814,
          -7.56689234386238,
          -7.502509613254042,
          -7.32779394978116,
          -5.448289603935183,
          -7.335566163426942,
          -9.222327200734043,
          -7.753368121779541,
          -7.799875712642683,
          0.42104636364277914,
          1.1916554994720798,
          -7.790414142993115,
          -7.768201562935061,
          -7.989527057526638,
          -7.976112757206677,
          -7.830506255654964,
          -7.783026331222916,
          -7.992426533664727
         ]
        },
        {
         "name": "Best Value",
         "type": "scatter",
         "x": [
          0,
          1,
          2,
          3,
          4,
          5,
          6,
          7,
          8,
          9,
          10,
          11,
          12,
          13,
          14,
          15,
          16,
          17,
          18,
          19,
          20,
          21,
          22,
          23,
          24,
          25,
          26,
          27,
          28,
          29,
          30,
          31,
          32,
          33,
          34,
          35,
          36,
          37,
          38,
          39,
          40,
          41,
          42,
          43,
          44,
          45,
          46,
          47,
          48,
          49,
          50,
          51,
          52,
          53,
          54,
          55,
          56,
          57,
          58,
          59,
          60,
          61,
          62,
          63,
          64,
          65,
          66,
          67,
          68,
          69,
          70,
          71,
          72,
          73,
          74,
          75,
          76,
          77,
          78,
          79,
          80,
          81,
          82,
          83,
          84,
          85,
          86,
          87,
          88,
          89,
          90,
          91,
          92,
          93,
          94,
          95,
          96,
          97,
          98,
          99
         ],
         "y": [
          94.2016517356264,
          65.1026007314717,
          5.995341611653054,
          5.995341611653054,
          5.995341611653054,
          5.687766392683113,
          5.687766392683113,
          5.687766392683113,
          5.687766392683113,
          -3.394192664063073,
          -3.394192664063073,
          -3.394192664063073,
          -3.394192664063073,
          -3.394192664063073,
          -3.394192664063073,
          -3.394192664063073,
          -3.394192664063073,
          -3.394192664063073,
          -3.394192664063073,
          -3.394192664063073,
          -8.663798525743838,
          -8.663798525743838,
          -9.513640233083562,
          -9.513640233083562,
          -9.513640233083562,
          -9.513640233083562,
          -9.513640233083562,
          -9.513640233083562,
          -9.595034688510708,
          -9.595034688510708,
          -9.595034688510708,
          -9.595034688510708,
          -9.595034688510708,
          -9.595034688510708,
          -9.595034688510708,
          -9.595034688510708,
          -9.595034688510708,
          -9.595034688510708,
          -9.595034688510708,
          -9.595034688510708,
          -9.595034688510708,
          -9.595034688510708,
          -9.595034688510708,
          -9.595034688510708,
          -9.595034688510708,
          -9.595034688510708,
          -9.595034688510708,
          -9.595034688510708,
          -9.595034688510708,
          -9.595034688510708,
          -9.595034688510708,
          -9.595034688510708,
          -9.595034688510708,
          -9.75333010755508,
          -9.858900689110353,
          -9.858900689110353,
          -9.858900689110353,
          -9.858900689110353,
          -9.858900689110353,
          -9.858900689110353,
          -9.858900689110353,
          -9.858900689110353,
          -9.858900689110353,
          -9.858900689110353,
          -9.858900689110353,
          -9.858900689110353,
          -9.858900689110353,
          -9.858900689110353,
          -9.858900689110353,
          -9.858900689110353,
          -9.858900689110353,
          -9.858900689110353,
          -9.858900689110353,
          -9.858900689110353,
          -9.858900689110353,
          -9.858900689110353,
          -9.858900689110353,
          -9.858900689110353,
          -9.858900689110353,
          -9.858900689110353,
          -9.858900689110353,
          -9.858900689110353,
          -9.858900689110353,
          -9.858900689110353,
          -9.858900689110353,
          -9.858900689110353,
          -9.858900689110353,
          -9.858900689110353,
          -9.858900689110353,
          -9.858900689110353,
          -9.858900689110353,
          -9.858900689110353,
          -9.858900689110353,
          -9.858900689110353,
          -9.858900689110353,
          -9.858900689110353,
          -9.858900689110353,
          -9.858900689110353,
          -9.858900689110353,
          -9.858900689110353
         ]
        }
       ],
       "layout": {
        "template": {
         "data": {
          "bar": [
           {
            "error_x": {
             "color": "#2a3f5f"
            },
            "error_y": {
             "color": "#2a3f5f"
            },
            "marker": {
             "line": {
              "color": "#E5ECF6",
              "width": 0.5
             },
             "pattern": {
              "fillmode": "overlay",
              "size": 10,
              "solidity": 0.2
             }
            },
            "type": "bar"
           }
          ],
          "barpolar": [
           {
            "marker": {
             "line": {
              "color": "#E5ECF6",
              "width": 0.5
             },
             "pattern": {
              "fillmode": "overlay",
              "size": 10,
              "solidity": 0.2
             }
            },
            "type": "barpolar"
           }
          ],
          "carpet": [
           {
            "aaxis": {
             "endlinecolor": "#2a3f5f",
             "gridcolor": "white",
             "linecolor": "white",
             "minorgridcolor": "white",
             "startlinecolor": "#2a3f5f"
            },
            "baxis": {
             "endlinecolor": "#2a3f5f",
             "gridcolor": "white",
             "linecolor": "white",
             "minorgridcolor": "white",
             "startlinecolor": "#2a3f5f"
            },
            "type": "carpet"
           }
          ],
          "choropleth": [
           {
            "colorbar": {
             "outlinewidth": 0,
             "ticks": ""
            },
            "type": "choropleth"
           }
          ],
          "contour": [
           {
            "colorbar": {
             "outlinewidth": 0,
             "ticks": ""
            },
            "colorscale": [
             [
              0,
              "#0d0887"
             ],
             [
              0.1111111111111111,
              "#46039f"
             ],
             [
              0.2222222222222222,
              "#7201a8"
             ],
             [
              0.3333333333333333,
              "#9c179e"
             ],
             [
              0.4444444444444444,
              "#bd3786"
             ],
             [
              0.5555555555555556,
              "#d8576b"
             ],
             [
              0.6666666666666666,
              "#ed7953"
             ],
             [
              0.7777777777777778,
              "#fb9f3a"
             ],
             [
              0.8888888888888888,
              "#fdca26"
             ],
             [
              1,
              "#f0f921"
             ]
            ],
            "type": "contour"
           }
          ],
          "contourcarpet": [
           {
            "colorbar": {
             "outlinewidth": 0,
             "ticks": ""
            },
            "type": "contourcarpet"
           }
          ],
          "heatmap": [
           {
            "colorbar": {
             "outlinewidth": 0,
             "ticks": ""
            },
            "colorscale": [
             [
              0,
              "#0d0887"
             ],
             [
              0.1111111111111111,
              "#46039f"
             ],
             [
              0.2222222222222222,
              "#7201a8"
             ],
             [
              0.3333333333333333,
              "#9c179e"
             ],
             [
              0.4444444444444444,
              "#bd3786"
             ],
             [
              0.5555555555555556,
              "#d8576b"
             ],
             [
              0.6666666666666666,
              "#ed7953"
             ],
             [
              0.7777777777777778,
              "#fb9f3a"
             ],
             [
              0.8888888888888888,
              "#fdca26"
             ],
             [
              1,
              "#f0f921"
             ]
            ],
            "type": "heatmap"
           }
          ],
          "heatmapgl": [
           {
            "colorbar": {
             "outlinewidth": 0,
             "ticks": ""
            },
            "colorscale": [
             [
              0,
              "#0d0887"
             ],
             [
              0.1111111111111111,
              "#46039f"
             ],
             [
              0.2222222222222222,
              "#7201a8"
             ],
             [
              0.3333333333333333,
              "#9c179e"
             ],
             [
              0.4444444444444444,
              "#bd3786"
             ],
             [
              0.5555555555555556,
              "#d8576b"
             ],
             [
              0.6666666666666666,
              "#ed7953"
             ],
             [
              0.7777777777777778,
              "#fb9f3a"
             ],
             [
              0.8888888888888888,
              "#fdca26"
             ],
             [
              1,
              "#f0f921"
             ]
            ],
            "type": "heatmapgl"
           }
          ],
          "histogram": [
           {
            "marker": {
             "pattern": {
              "fillmode": "overlay",
              "size": 10,
              "solidity": 0.2
             }
            },
            "type": "histogram"
           }
          ],
          "histogram2d": [
           {
            "colorbar": {
             "outlinewidth": 0,
             "ticks": ""
            },
            "colorscale": [
             [
              0,
              "#0d0887"
             ],
             [
              0.1111111111111111,
              "#46039f"
             ],
             [
              0.2222222222222222,
              "#7201a8"
             ],
             [
              0.3333333333333333,
              "#9c179e"
             ],
             [
              0.4444444444444444,
              "#bd3786"
             ],
             [
              0.5555555555555556,
              "#d8576b"
             ],
             [
              0.6666666666666666,
              "#ed7953"
             ],
             [
              0.7777777777777778,
              "#fb9f3a"
             ],
             [
              0.8888888888888888,
              "#fdca26"
             ],
             [
              1,
              "#f0f921"
             ]
            ],
            "type": "histogram2d"
           }
          ],
          "histogram2dcontour": [
           {
            "colorbar": {
             "outlinewidth": 0,
             "ticks": ""
            },
            "colorscale": [
             [
              0,
              "#0d0887"
             ],
             [
              0.1111111111111111,
              "#46039f"
             ],
             [
              0.2222222222222222,
              "#7201a8"
             ],
             [
              0.3333333333333333,
              "#9c179e"
             ],
             [
              0.4444444444444444,
              "#bd3786"
             ],
             [
              0.5555555555555556,
              "#d8576b"
             ],
             [
              0.6666666666666666,
              "#ed7953"
             ],
             [
              0.7777777777777778,
              "#fb9f3a"
             ],
             [
              0.8888888888888888,
              "#fdca26"
             ],
             [
              1,
              "#f0f921"
             ]
            ],
            "type": "histogram2dcontour"
           }
          ],
          "mesh3d": [
           {
            "colorbar": {
             "outlinewidth": 0,
             "ticks": ""
            },
            "type": "mesh3d"
           }
          ],
          "parcoords": [
           {
            "line": {
             "colorbar": {
              "outlinewidth": 0,
              "ticks": ""
             }
            },
            "type": "parcoords"
           }
          ],
          "pie": [
           {
            "automargin": true,
            "type": "pie"
           }
          ],
          "scatter": [
           {
            "fillpattern": {
             "fillmode": "overlay",
             "size": 10,
             "solidity": 0.2
            },
            "type": "scatter"
           }
          ],
          "scatter3d": [
           {
            "line": {
             "colorbar": {
              "outlinewidth": 0,
              "ticks": ""
             }
            },
            "marker": {
             "colorbar": {
              "outlinewidth": 0,
              "ticks": ""
             }
            },
            "type": "scatter3d"
           }
          ],
          "scattercarpet": [
           {
            "marker": {
             "colorbar": {
              "outlinewidth": 0,
              "ticks": ""
             }
            },
            "type": "scattercarpet"
           }
          ],
          "scattergeo": [
           {
            "marker": {
             "colorbar": {
              "outlinewidth": 0,
              "ticks": ""
             }
            },
            "type": "scattergeo"
           }
          ],
          "scattergl": [
           {
            "marker": {
             "colorbar": {
              "outlinewidth": 0,
              "ticks": ""
             }
            },
            "type": "scattergl"
           }
          ],
          "scattermapbox": [
           {
            "marker": {
             "colorbar": {
              "outlinewidth": 0,
              "ticks": ""
             }
            },
            "type": "scattermapbox"
           }
          ],
          "scatterpolar": [
           {
            "marker": {
             "colorbar": {
              "outlinewidth": 0,
              "ticks": ""
             }
            },
            "type": "scatterpolar"
           }
          ],
          "scatterpolargl": [
           {
            "marker": {
             "colorbar": {
              "outlinewidth": 0,
              "ticks": ""
             }
            },
            "type": "scatterpolargl"
           }
          ],
          "scatterternary": [
           {
            "marker": {
             "colorbar": {
              "outlinewidth": 0,
              "ticks": ""
             }
            },
            "type": "scatterternary"
           }
          ],
          "surface": [
           {
            "colorbar": {
             "outlinewidth": 0,
             "ticks": ""
            },
            "colorscale": [
             [
              0,
              "#0d0887"
             ],
             [
              0.1111111111111111,
              "#46039f"
             ],
             [
              0.2222222222222222,
              "#7201a8"
             ],
             [
              0.3333333333333333,
              "#9c179e"
             ],
             [
              0.4444444444444444,
              "#bd3786"
             ],
             [
              0.5555555555555556,
              "#d8576b"
             ],
             [
              0.6666666666666666,
              "#ed7953"
             ],
             [
              0.7777777777777778,
              "#fb9f3a"
             ],
             [
              0.8888888888888888,
              "#fdca26"
             ],
             [
              1,
              "#f0f921"
             ]
            ],
            "type": "surface"
           }
          ],
          "table": [
           {
            "cells": {
             "fill": {
              "color": "#EBF0F8"
             },
             "line": {
              "color": "white"
             }
            },
            "header": {
             "fill": {
              "color": "#C8D4E3"
             },
             "line": {
              "color": "white"
             }
            },
            "type": "table"
           }
          ]
         },
         "layout": {
          "annotationdefaults": {
           "arrowcolor": "#2a3f5f",
           "arrowhead": 0,
           "arrowwidth": 1
          },
          "autotypenumbers": "strict",
          "coloraxis": {
           "colorbar": {
            "outlinewidth": 0,
            "ticks": ""
           }
          },
          "colorscale": {
           "diverging": [
            [
             0,
             "#8e0152"
            ],
            [
             0.1,
             "#c51b7d"
            ],
            [
             0.2,
             "#de77ae"
            ],
            [
             0.3,
             "#f1b6da"
            ],
            [
             0.4,
             "#fde0ef"
            ],
            [
             0.5,
             "#f7f7f7"
            ],
            [
             0.6,
             "#e6f5d0"
            ],
            [
             0.7,
             "#b8e186"
            ],
            [
             0.8,
             "#7fbc41"
            ],
            [
             0.9,
             "#4d9221"
            ],
            [
             1,
             "#276419"
            ]
           ],
           "sequential": [
            [
             0,
             "#0d0887"
            ],
            [
             0.1111111111111111,
             "#46039f"
            ],
            [
             0.2222222222222222,
             "#7201a8"
            ],
            [
             0.3333333333333333,
             "#9c179e"
            ],
            [
             0.4444444444444444,
             "#bd3786"
            ],
            [
             0.5555555555555556,
             "#d8576b"
            ],
            [
             0.6666666666666666,
             "#ed7953"
            ],
            [
             0.7777777777777778,
             "#fb9f3a"
            ],
            [
             0.8888888888888888,
             "#fdca26"
            ],
            [
             1,
             "#f0f921"
            ]
           ],
           "sequentialminus": [
            [
             0,
             "#0d0887"
            ],
            [
             0.1111111111111111,
             "#46039f"
            ],
            [
             0.2222222222222222,
             "#7201a8"
            ],
            [
             0.3333333333333333,
             "#9c179e"
            ],
            [
             0.4444444444444444,
             "#bd3786"
            ],
            [
             0.5555555555555556,
             "#d8576b"
            ],
            [
             0.6666666666666666,
             "#ed7953"
            ],
            [
             0.7777777777777778,
             "#fb9f3a"
            ],
            [
             0.8888888888888888,
             "#fdca26"
            ],
            [
             1,
             "#f0f921"
            ]
           ]
          },
          "colorway": [
           "#636efa",
           "#EF553B",
           "#00cc96",
           "#ab63fa",
           "#FFA15A",
           "#19d3f3",
           "#FF6692",
           "#B6E880",
           "#FF97FF",
           "#FECB52"
          ],
          "font": {
           "color": "#2a3f5f"
          },
          "geo": {
           "bgcolor": "white",
           "lakecolor": "white",
           "landcolor": "#E5ECF6",
           "showlakes": true,
           "showland": true,
           "subunitcolor": "white"
          },
          "hoverlabel": {
           "align": "left"
          },
          "hovermode": "closest",
          "mapbox": {
           "style": "light"
          },
          "paper_bgcolor": "white",
          "plot_bgcolor": "#E5ECF6",
          "polar": {
           "angularaxis": {
            "gridcolor": "white",
            "linecolor": "white",
            "ticks": ""
           },
           "bgcolor": "#E5ECF6",
           "radialaxis": {
            "gridcolor": "white",
            "linecolor": "white",
            "ticks": ""
           }
          },
          "scene": {
           "xaxis": {
            "backgroundcolor": "#E5ECF6",
            "gridcolor": "white",
            "gridwidth": 2,
            "linecolor": "white",
            "showbackground": true,
            "ticks": "",
            "zerolinecolor": "white"
           },
           "yaxis": {
            "backgroundcolor": "#E5ECF6",
            "gridcolor": "white",
            "gridwidth": 2,
            "linecolor": "white",
            "showbackground": true,
            "ticks": "",
            "zerolinecolor": "white"
           },
           "zaxis": {
            "backgroundcolor": "#E5ECF6",
            "gridcolor": "white",
            "gridwidth": 2,
            "linecolor": "white",
            "showbackground": true,
            "ticks": "",
            "zerolinecolor": "white"
           }
          },
          "shapedefaults": {
           "line": {
            "color": "#2a3f5f"
           }
          },
          "ternary": {
           "aaxis": {
            "gridcolor": "white",
            "linecolor": "white",
            "ticks": ""
           },
           "baxis": {
            "gridcolor": "white",
            "linecolor": "white",
            "ticks": ""
           },
           "bgcolor": "#E5ECF6",
           "caxis": {
            "gridcolor": "white",
            "linecolor": "white",
            "ticks": ""
           }
          },
          "title": {
           "x": 0.05
          },
          "xaxis": {
           "automargin": true,
           "gridcolor": "white",
           "linecolor": "white",
           "ticks": "",
           "title": {
            "standoff": 15
           },
           "zerolinecolor": "white",
           "zerolinewidth": 2
          },
          "yaxis": {
           "automargin": true,
           "gridcolor": "white",
           "linecolor": "white",
           "ticks": "",
           "title": {
            "standoff": 15
           },
           "zerolinecolor": "white",
           "zerolinewidth": 2
          }
         }
        },
        "title": {
         "text": "Optimization History Plot"
        },
        "xaxis": {
         "title": {
          "text": "#Trials"
         }
        },
        "yaxis": {
         "title": {
          "text": "Objective Value"
         }
        }
       }
      }
     },
     "metadata": {},
     "output_type": "display_data"
    }
   ],
   "source": [
    "# 10個ずつ10回聞いたのでトライアル合計数としては100個分となる\n",
    "# 割と1回の問い合わせバッチの中身が偏っている印象を受けるがアルゴリズムの選択を変えると挙動が変わるのかもしれない\n",
    "plot_optimization_history(study)"
   ]
  },
  {
   "cell_type": "code",
   "execution_count": null,
   "metadata": {},
   "outputs": [],
   "source": []
  }
 ],
 "metadata": {
  "kernelspec": {
   "display_name": "Python 3.9.13 ('.venv': pipenv)",
   "language": "python",
   "name": "python3"
  },
  "language_info": {
   "codemirror_mode": {
    "name": "ipython",
    "version": 3
   },
   "file_extension": ".py",
   "mimetype": "text/x-python",
   "name": "python",
   "nbconvert_exporter": "python",
   "pygments_lexer": "ipython3",
   "version": "3.9.13"
  },
  "orig_nbformat": 4,
  "vscode": {
   "interpreter": {
    "hash": "9731a8c9eb3904fb35f6421980f2dc98ff83bd32e2c16cdd62c1066991510b29"
   }
  }
 },
 "nbformat": 4,
 "nbformat_minor": 2
}
