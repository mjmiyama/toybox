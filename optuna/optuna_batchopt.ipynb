{
 "cells": [
  {
   "cell_type": "markdown",
   "metadata": {},
   "source": [
    "Copyright 2022 Masamichi J. Miyama"
   ]
  },
  {
   "cell_type": "code",
   "execution_count": 11,
   "metadata": {},
   "outputs": [],
   "source": [
    "import numpy as np\n",
    "import optuna\n",
    "from tqdm import tqdm"
   ]
  },
  {
   "cell_type": "markdown",
   "metadata": {},
   "source": [
    "最もシンプルな使い方\n",
    "\n",
    "https://optuna.readthedocs.io/en/stable/tutorial/10_key_features/001_first.html"
   ]
  },
  {
   "cell_type": "code",
   "execution_count": 12,
   "metadata": {},
   "outputs": [],
   "source": [
    "# 目的関数の定義\n",
    "def objective(trial):\n",
    "    # -10から10までの値を取るfloat変数の定義（最適化対象のパラメタ）\n",
    "    # hyperoptと異なるのはオラクルたる目的関数側で変数定義をやる点？\n",
    "    x = trial.suggest_float(\"x\", -10, 10)\n",
    "\n",
    "    return (x - 2) ** 2"
   ]
  },
  {
   "cell_type": "markdown",
   "metadata": {},
   "source": [
    "上の例では`float`型のパラメタを扱ったがそれ以外にも整数値、カテゴリ変数など色々使える。探索空間の指定の仕方等、詳しくは下記URLを参照\n",
    "\n",
    "https://optuna.readthedocs.io/en/stable/tutorial/10_key_features/002_configurations.html"
   ]
  },
  {
   "cell_type": "code",
   "execution_count": 13,
   "metadata": {},
   "outputs": [
    {
     "name": "stderr",
     "output_type": "stream",
     "text": [
      "\u001b[32m[I 2022-06-19 00:08:05,615]\u001b[0m A new study created in memory with name: no-name-970d9cf6-6e89-4e6c-8fe6-7ebe0648ae4b\u001b[0m\n",
      "\u001b[32m[I 2022-06-19 00:08:05,617]\u001b[0m Trial 0 finished with value: 123.70723061162384 and parameters: {'x': -9.122375223468405}. Best is trial 0 with value: 123.70723061162384.\u001b[0m\n",
      "\u001b[32m[I 2022-06-19 00:08:05,618]\u001b[0m Trial 1 finished with value: 20.023617635649824 and parameters: {'x': -2.4747757078595374}. Best is trial 1 with value: 20.023617635649824.\u001b[0m\n",
      "\u001b[32m[I 2022-06-19 00:08:05,618]\u001b[0m Trial 2 finished with value: 54.579494590416715 and parameters: {'x': -5.387793621265873}. Best is trial 1 with value: 20.023617635649824.\u001b[0m\n",
      "\u001b[32m[I 2022-06-19 00:08:05,619]\u001b[0m Trial 3 finished with value: 68.69620909171522 and parameters: {'x': -6.288317627342428}. Best is trial 1 with value: 20.023617635649824.\u001b[0m\n",
      "\u001b[32m[I 2022-06-19 00:08:05,620]\u001b[0m Trial 4 finished with value: 44.27785904125987 and parameters: {'x': -4.65416103211065}. Best is trial 1 with value: 20.023617635649824.\u001b[0m\n",
      "\u001b[32m[I 2022-06-19 00:08:05,621]\u001b[0m Trial 5 finished with value: 47.17597045008372 and parameters: {'x': -4.868476574181768}. Best is trial 1 with value: 20.023617635649824.\u001b[0m\n",
      "\u001b[32m[I 2022-06-19 00:08:05,622]\u001b[0m Trial 6 finished with value: 72.4656233361887 and parameters: {'x': -6.512674276406251}. Best is trial 1 with value: 20.023617635649824.\u001b[0m\n",
      "\u001b[32m[I 2022-06-19 00:08:05,622]\u001b[0m Trial 7 finished with value: 63.57590453757212 and parameters: {'x': 9.973449977116061}. Best is trial 1 with value: 20.023617635649824.\u001b[0m\n",
      "\u001b[32m[I 2022-06-19 00:08:05,623]\u001b[0m Trial 8 finished with value: 0.0038995849047864313 and parameters: {'x': 1.9375533435259626}. Best is trial 8 with value: 0.0038995849047864313.\u001b[0m\n",
      "\u001b[32m[I 2022-06-19 00:08:05,624]\u001b[0m Trial 9 finished with value: 53.9220326631608 and parameters: {'x': 9.343162306742293}. Best is trial 8 with value: 0.0038995849047864313.\u001b[0m\n",
      "\u001b[32m[I 2022-06-19 00:08:05,627]\u001b[0m Trial 10 finished with value: 2.2344703653536815 and parameters: {'x': 3.4948144919533264}. Best is trial 8 with value: 0.0038995849047864313.\u001b[0m\n",
      "\u001b[32m[I 2022-06-19 00:08:05,631]\u001b[0m Trial 11 finished with value: 3.262582867829094 and parameters: {'x': 3.8062621260019527}. Best is trial 8 with value: 0.0038995849047864313.\u001b[0m\n",
      "\u001b[32m[I 2022-06-19 00:08:05,634]\u001b[0m Trial 12 finished with value: 0.4954099066180156 and parameters: {'x': 2.7038536116395337}. Best is trial 8 with value: 0.0038995849047864313.\u001b[0m\n",
      "\u001b[32m[I 2022-06-19 00:08:05,638]\u001b[0m Trial 13 finished with value: 0.06969674932190639 and parameters: {'x': 2.264001419166463}. Best is trial 8 with value: 0.0038995849047864313.\u001b[0m\n",
      "\u001b[32m[I 2022-06-19 00:08:05,641]\u001b[0m Trial 14 finished with value: 4.064973436234616 and parameters: {'x': -0.016177927722306862}. Best is trial 8 with value: 0.0038995849047864313.\u001b[0m\n",
      "\u001b[32m[I 2022-06-19 00:08:05,645]\u001b[0m Trial 15 finished with value: 15.08101436016685 and parameters: {'x': 5.883428171109497}. Best is trial 8 with value: 0.0038995849047864313.\u001b[0m\n",
      "\u001b[32m[I 2022-06-19 00:08:05,649]\u001b[0m Trial 16 finished with value: 3.864970970323547 and parameters: {'x': 0.03404705795801233}. Best is trial 8 with value: 0.0038995849047864313.\u001b[0m\n",
      "\u001b[32m[I 2022-06-19 00:08:05,653]\u001b[0m Trial 17 finished with value: 22.554224201515904 and parameters: {'x': 6.749128783420797}. Best is trial 8 with value: 0.0038995849047864313.\u001b[0m\n",
      "\u001b[32m[I 2022-06-19 00:08:05,657]\u001b[0m Trial 18 finished with value: 0.5873693935975867 and parameters: {'x': 1.2335997171206246}. Best is trial 8 with value: 0.0038995849047864313.\u001b[0m\n",
      "\u001b[32m[I 2022-06-19 00:08:05,660]\u001b[0m Trial 19 finished with value: 14.952817976400002 and parameters: {'x': -1.8668873757067197}. Best is trial 8 with value: 0.0038995849047864313.\u001b[0m\n",
      "\u001b[32m[I 2022-06-19 00:08:05,664]\u001b[0m Trial 20 finished with value: 15.204380110430566 and parameters: {'x': 5.899279434771323}. Best is trial 8 with value: 0.0038995849047864313.\u001b[0m\n",
      "\u001b[32m[I 2022-06-19 00:08:05,668]\u001b[0m Trial 21 finished with value: 0.3836372187726934 and parameters: {'x': 2.6193845483806433}. Best is trial 8 with value: 0.0038995849047864313.\u001b[0m\n",
      "\u001b[32m[I 2022-06-19 00:08:05,672]\u001b[0m Trial 22 finished with value: 1.8483076302218988e-05 and parameters: {'x': 1.9957008051565184}. Best is trial 22 with value: 1.8483076302218988e-05.\u001b[0m\n",
      "\u001b[32m[I 2022-06-19 00:08:05,675]\u001b[0m Trial 23 finished with value: 7.473101941794562 and parameters: {'x': -0.7336974854205359}. Best is trial 22 with value: 1.8483076302218988e-05.\u001b[0m\n",
      "\u001b[32m[I 2022-06-19 00:08:05,680]\u001b[0m Trial 24 finished with value: 0.07520112902449871 and parameters: {'x': 1.7257717574273235}. Best is trial 22 with value: 1.8483076302218988e-05.\u001b[0m\n",
      "\u001b[32m[I 2022-06-19 00:08:05,684]\u001b[0m Trial 25 finished with value: 7.268676585398752 and parameters: {'x': 4.696048327719433}. Best is trial 22 with value: 1.8483076302218988e-05.\u001b[0m\n",
      "\u001b[32m[I 2022-06-19 00:08:05,688]\u001b[0m Trial 26 finished with value: 37.93594723344427 and parameters: {'x': 8.159216446387013}. Best is trial 22 with value: 1.8483076302218988e-05.\u001b[0m\n",
      "\u001b[32m[I 2022-06-19 00:08:05,691]\u001b[0m Trial 27 finished with value: 1.226596040927439 and parameters: {'x': 0.8924820358443666}. Best is trial 22 with value: 1.8483076302218988e-05.\u001b[0m\n",
      "\u001b[32m[I 2022-06-19 00:08:05,695]\u001b[0m Trial 28 finished with value: 15.551052355486789 and parameters: {'x': -1.9434822626058292}. Best is trial 22 with value: 1.8483076302218988e-05.\u001b[0m\n",
      "\u001b[32m[I 2022-06-19 00:08:05,699]\u001b[0m Trial 29 finished with value: 6.887365692817157 and parameters: {'x': 4.624379106153903}. Best is trial 22 with value: 1.8483076302218988e-05.\u001b[0m\n",
      "\u001b[32m[I 2022-06-19 00:08:05,704]\u001b[0m Trial 30 finished with value: 0.16700980305317156 and parameters: {'x': 2.408668328908874}. Best is trial 22 with value: 1.8483076302218988e-05.\u001b[0m\n",
      "\u001b[32m[I 2022-06-19 00:08:05,714]\u001b[0m Trial 31 finished with value: 27.223770932765788 and parameters: {'x': -3.2176403606195194}. Best is trial 22 with value: 1.8483076302218988e-05.\u001b[0m\n",
      "\u001b[32m[I 2022-06-19 00:08:05,718]\u001b[0m Trial 32 finished with value: 0.5798145642103456 and parameters: {'x': 1.238544443706433}. Best is trial 22 with value: 1.8483076302218988e-05.\u001b[0m\n",
      "\u001b[32m[I 2022-06-19 00:08:05,723]\u001b[0m Trial 33 finished with value: 117.1966166992627 and parameters: {'x': -8.825738621418065}. Best is trial 22 with value: 1.8483076302218988e-05.\u001b[0m\n",
      "\u001b[32m[I 2022-06-19 00:08:05,727]\u001b[0m Trial 34 finished with value: 0.26517689362015534 and parameters: {'x': 1.4850467073411848}. Best is trial 22 with value: 1.8483076302218988e-05.\u001b[0m\n",
      "\u001b[32m[I 2022-06-19 00:08:05,732]\u001b[0m Trial 35 finished with value: 8.005849686018552 and parameters: {'x': -0.8294610239440572}. Best is trial 22 with value: 1.8483076302218988e-05.\u001b[0m\n",
      "\u001b[32m[I 2022-06-19 00:08:05,737]\u001b[0m Trial 36 finished with value: 5.983552973749998 and parameters: {'x': 4.446130203760625}. Best is trial 22 with value: 1.8483076302218988e-05.\u001b[0m\n",
      "\u001b[32m[I 2022-06-19 00:08:05,740]\u001b[0m Trial 37 finished with value: 27.988843133072706 and parameters: {'x': -3.290448292259618}. Best is trial 22 with value: 1.8483076302218988e-05.\u001b[0m\n",
      "\u001b[32m[I 2022-06-19 00:08:05,744]\u001b[0m Trial 38 finished with value: 0.5683577767547089 and parameters: {'x': 2.753895070122301}. Best is trial 22 with value: 1.8483076302218988e-05.\u001b[0m\n",
      "\u001b[32m[I 2022-06-19 00:08:05,748]\u001b[0m Trial 39 finished with value: 4.447100135708658 and parameters: {'x': -0.1088148652047809}. Best is trial 22 with value: 1.8483076302218988e-05.\u001b[0m\n",
      "\u001b[32m[I 2022-06-19 00:08:05,753]\u001b[0m Trial 40 finished with value: 0.010603278155517508 and parameters: {'x': 1.8970277796902606}. Best is trial 22 with value: 1.8483076302218988e-05.\u001b[0m\n",
      "\u001b[32m[I 2022-06-19 00:08:05,757]\u001b[0m Trial 41 finished with value: 0.03450096609506717 and parameters: {'x': 2.1857443568323602}. Best is trial 22 with value: 1.8483076302218988e-05.\u001b[0m\n",
      "\u001b[32m[I 2022-06-19 00:08:05,761]\u001b[0m Trial 42 finished with value: 1.9480965758425135 and parameters: {'x': 3.3957423028061138}. Best is trial 22 with value: 1.8483076302218988e-05.\u001b[0m\n",
      "\u001b[32m[I 2022-06-19 00:08:05,765]\u001b[0m Trial 43 finished with value: 2.364598606807378 and parameters: {'x': 0.46227485979861216}. Best is trial 22 with value: 1.8483076302218988e-05.\u001b[0m\n",
      "\u001b[32m[I 2022-06-19 00:08:05,769]\u001b[0m Trial 44 finished with value: 0.013124692694231754 and parameters: {'x': 1.8854369488262828}. Best is trial 22 with value: 1.8483076302218988e-05.\u001b[0m\n",
      "\u001b[32m[I 2022-06-19 00:08:05,773]\u001b[0m Trial 45 finished with value: 9.846784214217791 and parameters: {'x': -1.1379586061989078}. Best is trial 22 with value: 1.8483076302218988e-05.\u001b[0m\n",
      "\u001b[32m[I 2022-06-19 00:08:05,776]\u001b[0m Trial 46 finished with value: 4.773787762710217 and parameters: {'x': 4.184899943409358}. Best is trial 22 with value: 1.8483076302218988e-05.\u001b[0m\n",
      "\u001b[32m[I 2022-06-19 00:08:05,781]\u001b[0m Trial 47 finished with value: 11.172390245593993 and parameters: {'x': 5.3425125647623215}. Best is trial 22 with value: 1.8483076302218988e-05.\u001b[0m\n",
      "\u001b[32m[I 2022-06-19 00:08:05,785]\u001b[0m Trial 48 finished with value: 1.8327857112950157 and parameters: {'x': 3.3538041628296966}. Best is trial 22 with value: 1.8483076302218988e-05.\u001b[0m\n",
      "\u001b[32m[I 2022-06-19 00:08:05,788]\u001b[0m Trial 49 finished with value: 2.287332832225332 and parameters: {'x': 0.4876069187458798}. Best is trial 22 with value: 1.8483076302218988e-05.\u001b[0m\n",
      "\u001b[32m[I 2022-06-19 00:08:05,792]\u001b[0m Trial 50 finished with value: 25.24386426118567 and parameters: {'x': 7.024327244635412}. Best is trial 22 with value: 1.8483076302218988e-05.\u001b[0m\n",
      "\u001b[32m[I 2022-06-19 00:08:05,796]\u001b[0m Trial 51 finished with value: 0.18447322539787825 and parameters: {'x': 1.5704965362213266}. Best is trial 22 with value: 1.8483076302218988e-05.\u001b[0m\n",
      "\u001b[32m[I 2022-06-19 00:08:05,800]\u001b[0m Trial 52 finished with value: 0.09207119333947494 and parameters: {'x': 2.303432353811315}. Best is trial 22 with value: 1.8483076302218988e-05.\u001b[0m\n",
      "\u001b[32m[I 2022-06-19 00:08:05,804]\u001b[0m Trial 53 finished with value: 1.0973296323257806 and parameters: {'x': 3.0475350267775205}. Best is trial 22 with value: 1.8483076302218988e-05.\u001b[0m\n",
      "\u001b[32m[I 2022-06-19 00:08:05,808]\u001b[0m Trial 54 finished with value: 0.10211395678248497 and parameters: {'x': 2.3195527449146462}. Best is trial 22 with value: 1.8483076302218988e-05.\u001b[0m\n",
      "\u001b[32m[I 2022-06-19 00:08:05,812]\u001b[0m Trial 55 finished with value: 0.0027496849984946004 and parameters: {'x': 1.9475625610990144}. Best is trial 22 with value: 1.8483076302218988e-05.\u001b[0m\n",
      "\u001b[32m[I 2022-06-19 00:08:05,816]\u001b[0m Trial 56 finished with value: 3.494234715986938 and parameters: {'x': 3.8692872213726113}. Best is trial 22 with value: 1.8483076302218988e-05.\u001b[0m\n",
      "\u001b[32m[I 2022-06-19 00:08:05,820]\u001b[0m Trial 57 finished with value: 0.010710360736758096 and parameters: {'x': 1.896509127278015}. Best is trial 22 with value: 1.8483076302218988e-05.\u001b[0m\n",
      "\u001b[32m[I 2022-06-19 00:08:05,824]\u001b[0m Trial 58 finished with value: 5.70691042856667 and parameters: {'x': -0.3889140688954613}. Best is trial 22 with value: 1.8483076302218988e-05.\u001b[0m\n",
      "\u001b[32m[I 2022-06-19 00:08:05,829]\u001b[0m Trial 59 finished with value: 1.7864890316078512 and parameters: {'x': 0.663403938503539}. Best is trial 22 with value: 1.8483076302218988e-05.\u001b[0m\n",
      "\u001b[32m[I 2022-06-19 00:08:05,834]\u001b[0m Trial 60 finished with value: 11.557366495895666 and parameters: {'x': -1.399612697925407}. Best is trial 22 with value: 1.8483076302218988e-05.\u001b[0m\n",
      "\u001b[32m[I 2022-06-19 00:08:05,839]\u001b[0m Trial 61 finished with value: 0.05586290066585662 and parameters: {'x': 1.7636466614031936}. Best is trial 22 with value: 1.8483076302218988e-05.\u001b[0m\n",
      "\u001b[32m[I 2022-06-19 00:08:05,842]\u001b[0m Trial 62 finished with value: 0.01623236779168721 and parameters: {'x': 1.8725936901417861}. Best is trial 22 with value: 1.8483076302218988e-05.\u001b[0m\n",
      "\u001b[32m[I 2022-06-19 00:08:05,846]\u001b[0m Trial 63 finished with value: 10.029448320712316 and parameters: {'x': 5.166930425619154}. Best is trial 22 with value: 1.8483076302218988e-05.\u001b[0m\n",
      "\u001b[32m[I 2022-06-19 00:08:05,850]\u001b[0m Trial 64 finished with value: 1.098335114588953 and parameters: {'x': 0.9519851553584974}. Best is trial 22 with value: 1.8483076302218988e-05.\u001b[0m\n",
      "\u001b[32m[I 2022-06-19 00:08:05,854]\u001b[0m Trial 65 finished with value: 1.5101185667446315 and parameters: {'x': 3.228868815921631}. Best is trial 22 with value: 1.8483076302218988e-05.\u001b[0m\n",
      "\u001b[32m[I 2022-06-19 00:08:05,859]\u001b[0m Trial 66 finished with value: 3.550675513362527 and parameters: {'x': 0.11567637775181328}. Best is trial 22 with value: 1.8483076302218988e-05.\u001b[0m\n",
      "\u001b[32m[I 2022-06-19 00:08:05,864]\u001b[0m Trial 67 finished with value: 0.17644613223755917 and parameters: {'x': 1.5799450842597373}. Best is trial 22 with value: 1.8483076302218988e-05.\u001b[0m\n",
      "\u001b[32m[I 2022-06-19 00:08:05,869]\u001b[0m Trial 68 finished with value: 3.546626093370298 and parameters: {'x': 3.883248813452513}. Best is trial 22 with value: 1.8483076302218988e-05.\u001b[0m\n",
      "\u001b[32m[I 2022-06-19 00:08:05,873]\u001b[0m Trial 69 finished with value: 0.02119544522803859 and parameters: {'x': 1.8544134442057283}. Best is trial 22 with value: 1.8483076302218988e-05.\u001b[0m\n",
      "\u001b[32m[I 2022-06-19 00:08:05,878]\u001b[0m Trial 70 finished with value: 0.4615794319605924 and parameters: {'x': 2.679396373231851}. Best is trial 22 with value: 1.8483076302218988e-05.\u001b[0m\n",
      "\u001b[32m[I 2022-06-19 00:08:05,884]\u001b[0m Trial 71 finished with value: 0.0342217283729757 and parameters: {'x': 1.815008842446522}. Best is trial 22 with value: 1.8483076302218988e-05.\u001b[0m\n",
      "\u001b[32m[I 2022-06-19 00:08:05,896]\u001b[0m Trial 72 finished with value: 0.7044627621711035 and parameters: {'x': 1.1606772002554062}. Best is trial 22 with value: 1.8483076302218988e-05.\u001b[0m\n",
      "\u001b[32m[I 2022-06-19 00:08:05,910]\u001b[0m Trial 73 finished with value: 0.7899773998345244 and parameters: {'x': 2.888806728054263}. Best is trial 22 with value: 1.8483076302218988e-05.\u001b[0m\n",
      "\u001b[32m[I 2022-06-19 00:08:05,920]\u001b[0m Trial 74 finished with value: 6.087567561867916 and parameters: {'x': -0.467299649792849}. Best is trial 22 with value: 1.8483076302218988e-05.\u001b[0m\n",
      "\u001b[32m[I 2022-06-19 00:08:05,925]\u001b[0m Trial 75 finished with value: 2.5154787991754 and parameters: {'x': 0.4139738970699758}. Best is trial 22 with value: 1.8483076302218988e-05.\u001b[0m\n",
      "\u001b[32m[I 2022-06-19 00:08:05,932]\u001b[0m Trial 76 finished with value: 0.0030499002520285195 and parameters: {'x': 2.055225902002851}. Best is trial 22 with value: 1.8483076302218988e-05.\u001b[0m\n",
      "\u001b[32m[I 2022-06-19 00:08:05,938]\u001b[0m Trial 77 finished with value: 2.4108071126206214 and parameters: {'x': 3.5526774013363567}. Best is trial 22 with value: 1.8483076302218988e-05.\u001b[0m\n",
      "\u001b[32m[I 2022-06-19 00:08:05,943]\u001b[0m Trial 78 finished with value: 1.0242340295242225 and parameters: {'x': 0.9879555199872773}. Best is trial 22 with value: 1.8483076302218988e-05.\u001b[0m\n",
      "\u001b[32m[I 2022-06-19 00:08:05,948]\u001b[0m Trial 79 finished with value: 98.04627787760217 and parameters: {'x': -7.901832046525641}. Best is trial 22 with value: 1.8483076302218988e-05.\u001b[0m\n",
      "\u001b[32m[I 2022-06-19 00:08:05,953]\u001b[0m Trial 80 finished with value: 0.011378356417985274 and parameters: {'x': 2.1066693790081543}. Best is trial 22 with value: 1.8483076302218988e-05.\u001b[0m\n",
      "\u001b[32m[I 2022-06-19 00:08:05,958]\u001b[0m Trial 81 finished with value: 0.011166105845537308 and parameters: {'x': 2.1056697962784887}. Best is trial 22 with value: 1.8483076302218988e-05.\u001b[0m\n",
      "\u001b[32m[I 2022-06-19 00:08:05,963]\u001b[0m Trial 82 finished with value: 0.07746125428297648 and parameters: {'x': 2.278318620079535}. Best is trial 22 with value: 1.8483076302218988e-05.\u001b[0m\n",
      "\u001b[32m[I 2022-06-19 00:08:05,969]\u001b[0m Trial 83 finished with value: 0.627122063964048 and parameters: {'x': 1.2080896111528476}. Best is trial 22 with value: 1.8483076302218988e-05.\u001b[0m\n",
      "\u001b[32m[I 2022-06-19 00:08:05,982]\u001b[0m Trial 84 finished with value: 0.6271575994075983 and parameters: {'x': 2.791932825060054}. Best is trial 22 with value: 1.8483076302218988e-05.\u001b[0m\n",
      "\u001b[32m[I 2022-06-19 00:08:05,987]\u001b[0m Trial 85 finished with value: 8.55135777040284 and parameters: {'x': 4.924270468065982}. Best is trial 22 with value: 1.8483076302218988e-05.\u001b[0m\n",
      "\u001b[32m[I 2022-06-19 00:08:05,992]\u001b[0m Trial 86 finished with value: 4.004434367646637 and parameters: {'x': 4.001108284837839}. Best is trial 22 with value: 1.8483076302218988e-05.\u001b[0m\n",
      "\u001b[32m[I 2022-06-19 00:08:05,996]\u001b[0m Trial 87 finished with value: 3.517243324048423 and parameters: {'x': 0.12456849657247604}. Best is trial 22 with value: 1.8483076302218988e-05.\u001b[0m\n",
      "\u001b[32m[I 2022-06-19 00:08:06,002]\u001b[0m Trial 88 finished with value: 1.1785032258253285 and parameters: {'x': 3.085588884350484}. Best is trial 22 with value: 1.8483076302218988e-05.\u001b[0m\n",
      "\u001b[32m[I 2022-06-19 00:08:06,006]\u001b[0m Trial 89 finished with value: 13.878012545465394 and parameters: {'x': 5.725320462116701}. Best is trial 22 with value: 1.8483076302218988e-05.\u001b[0m\n",
      "\u001b[32m[I 2022-06-19 00:08:06,010]\u001b[0m Trial 90 finished with value: 0.04002720153198943 and parameters: {'x': 2.2000679922726007}. Best is trial 22 with value: 1.8483076302218988e-05.\u001b[0m\n",
      "\u001b[32m[I 2022-06-19 00:08:06,016]\u001b[0m Trial 91 finished with value: 0.007402529080430643 and parameters: {'x': 1.9139620486039408}. Best is trial 22 with value: 1.8483076302218988e-05.\u001b[0m\n",
      "\u001b[32m[I 2022-06-19 00:08:06,024]\u001b[0m Trial 92 finished with value: 1.7824661494646972 and parameters: {'x': 0.6649096849034155}. Best is trial 22 with value: 1.8483076302218988e-05.\u001b[0m\n",
      "\u001b[32m[I 2022-06-19 00:08:06,031]\u001b[0m Trial 93 finished with value: 0.439206559330725 and parameters: {'x': 1.3372733902047353}. Best is trial 22 with value: 1.8483076302218988e-05.\u001b[0m\n",
      "\u001b[32m[I 2022-06-19 00:08:06,039]\u001b[0m Trial 94 finished with value: 2.250832771752428 and parameters: {'x': 3.500277564903384}. Best is trial 22 with value: 1.8483076302218988e-05.\u001b[0m\n",
      "\u001b[32m[I 2022-06-19 00:08:06,043]\u001b[0m Trial 95 finished with value: 5.953175330428543 and parameters: {'x': 4.439912975994952}. Best is trial 22 with value: 1.8483076302218988e-05.\u001b[0m\n",
      "\u001b[32m[I 2022-06-19 00:08:06,049]\u001b[0m Trial 96 finished with value: 0.004342820642039381 and parameters: {'x': 2.0659000807438}. Best is trial 22 with value: 1.8483076302218988e-05.\u001b[0m\n",
      "\u001b[32m[I 2022-06-19 00:08:06,054]\u001b[0m Trial 97 finished with value: 0.31356035260747167 and parameters: {'x': 2.559964599423456}. Best is trial 22 with value: 1.8483076302218988e-05.\u001b[0m\n",
      "\u001b[32m[I 2022-06-19 00:08:06,058]\u001b[0m Trial 98 finished with value: 9.315581544155904e-05 and parameters: {'x': 1.9903482739656806}. Best is trial 22 with value: 1.8483076302218988e-05.\u001b[0m\n",
      "\u001b[32m[I 2022-06-19 00:08:06,062]\u001b[0m Trial 99 finished with value: 1.3815884119545538 and parameters: {'x': 0.8245901089600471}. Best is trial 22 with value: 1.8483076302218988e-05.\u001b[0m\n"
     ]
    }
   ],
   "source": [
    "# 最適化プロジェクトの定義\n",
    "study = optuna.create_study()\n",
    "# 最適化実行\n",
    "study.optimize(objective, n_trials=100)"
   ]
  },
  {
   "cell_type": "code",
   "execution_count": 22,
   "metadata": {},
   "outputs": [
    {
     "name": "stdout",
     "output_type": "stream",
     "text": [
      "Found x: 0.004240863732467695, (x - 2)^2: 3.9830545299953264\n"
     ]
    }
   ],
   "source": [
    "# 最小値の表示\n",
    "best_params = study.best_params\n",
    "found_x = best_params[\"x\"]\n",
    "print(f\"Found x: {found_x}, (x - 2)^2: {(found_x - 2) ** 2}\")"
   ]
  },
  {
   "cell_type": "markdown",
   "metadata": {},
   "source": [
    "探索の経過の可視化 (**Plotlyパッケージをインストール必要**)\n",
    "\n",
    "https://optuna.readthedocs.io/en/stable/tutorial/10_key_features/005_visualization.html"
   ]
  },
  {
   "cell_type": "code",
   "execution_count": 15,
   "metadata": {},
   "outputs": [
    {
     "data": {
      "application/vnd.plotly.v1+json": {
       "config": {
        "plotlyServerURL": "https://plot.ly"
       },
       "data": [
        {
         "mode": "markers",
         "name": "Objective Value",
         "type": "scatter",
         "x": [
          0,
          1,
          2,
          3,
          4,
          5,
          6,
          7,
          8,
          9,
          10,
          11,
          12,
          13,
          14,
          15,
          16,
          17,
          18,
          19,
          20,
          21,
          22,
          23,
          24,
          25,
          26,
          27,
          28,
          29,
          30,
          31,
          32,
          33,
          34,
          35,
          36,
          37,
          38,
          39,
          40,
          41,
          42,
          43,
          44,
          45,
          46,
          47,
          48,
          49,
          50,
          51,
          52,
          53,
          54,
          55,
          56,
          57,
          58,
          59,
          60,
          61,
          62,
          63,
          64,
          65,
          66,
          67,
          68,
          69,
          70,
          71,
          72,
          73,
          74,
          75,
          76,
          77,
          78,
          79,
          80,
          81,
          82,
          83,
          84,
          85,
          86,
          87,
          88,
          89,
          90,
          91,
          92,
          93,
          94,
          95,
          96,
          97,
          98,
          99
         ],
         "y": [
          123.70723061162384,
          20.023617635649824,
          54.579494590416715,
          68.69620909171522,
          44.27785904125987,
          47.17597045008372,
          72.4656233361887,
          63.57590453757212,
          0.0038995849047864313,
          53.9220326631608,
          2.2344703653536815,
          3.262582867829094,
          0.4954099066180156,
          0.06969674932190639,
          4.064973436234616,
          15.08101436016685,
          3.864970970323547,
          22.554224201515904,
          0.5873693935975867,
          14.952817976400002,
          15.204380110430566,
          0.3836372187726934,
          0.000018483076302218988,
          7.473101941794562,
          0.07520112902449871,
          7.268676585398752,
          37.93594723344427,
          1.226596040927439,
          15.551052355486789,
          6.887365692817157,
          0.16700980305317156,
          27.223770932765788,
          0.5798145642103456,
          117.1966166992627,
          0.26517689362015534,
          8.005849686018552,
          5.983552973749998,
          27.988843133072706,
          0.5683577767547089,
          4.447100135708658,
          0.010603278155517508,
          0.03450096609506717,
          1.9480965758425135,
          2.364598606807378,
          0.013124692694231754,
          9.846784214217791,
          4.773787762710217,
          11.172390245593993,
          1.8327857112950157,
          2.287332832225332,
          25.24386426118567,
          0.18447322539787825,
          0.09207119333947494,
          1.0973296323257806,
          0.10211395678248497,
          0.0027496849984946004,
          3.494234715986938,
          0.010710360736758096,
          5.70691042856667,
          1.7864890316078512,
          11.557366495895666,
          0.05586290066585662,
          0.01623236779168721,
          10.029448320712316,
          1.098335114588953,
          1.5101185667446315,
          3.550675513362527,
          0.17644613223755917,
          3.546626093370298,
          0.02119544522803859,
          0.4615794319605924,
          0.0342217283729757,
          0.7044627621711035,
          0.7899773998345244,
          6.087567561867916,
          2.5154787991754,
          0.0030499002520285195,
          2.4108071126206214,
          1.0242340295242225,
          98.04627787760217,
          0.011378356417985274,
          0.011166105845537308,
          0.07746125428297648,
          0.627122063964048,
          0.6271575994075983,
          8.55135777040284,
          4.004434367646637,
          3.517243324048423,
          1.1785032258253285,
          13.878012545465394,
          0.04002720153198943,
          0.007402529080430643,
          1.7824661494646972,
          0.439206559330725,
          2.250832771752428,
          5.953175330428543,
          0.004342820642039381,
          0.31356035260747167,
          0.00009315581544155904,
          1.3815884119545538
         ]
        },
        {
         "name": "Best Value",
         "type": "scatter",
         "x": [
          0,
          1,
          2,
          3,
          4,
          5,
          6,
          7,
          8,
          9,
          10,
          11,
          12,
          13,
          14,
          15,
          16,
          17,
          18,
          19,
          20,
          21,
          22,
          23,
          24,
          25,
          26,
          27,
          28,
          29,
          30,
          31,
          32,
          33,
          34,
          35,
          36,
          37,
          38,
          39,
          40,
          41,
          42,
          43,
          44,
          45,
          46,
          47,
          48,
          49,
          50,
          51,
          52,
          53,
          54,
          55,
          56,
          57,
          58,
          59,
          60,
          61,
          62,
          63,
          64,
          65,
          66,
          67,
          68,
          69,
          70,
          71,
          72,
          73,
          74,
          75,
          76,
          77,
          78,
          79,
          80,
          81,
          82,
          83,
          84,
          85,
          86,
          87,
          88,
          89,
          90,
          91,
          92,
          93,
          94,
          95,
          96,
          97,
          98,
          99
         ],
         "y": [
          123.70723061162384,
          20.023617635649824,
          20.023617635649824,
          20.023617635649824,
          20.023617635649824,
          20.023617635649824,
          20.023617635649824,
          20.023617635649824,
          0.0038995849047864313,
          0.0038995849047864313,
          0.0038995849047864313,
          0.0038995849047864313,
          0.0038995849047864313,
          0.0038995849047864313,
          0.0038995849047864313,
          0.0038995849047864313,
          0.0038995849047864313,
          0.0038995849047864313,
          0.0038995849047864313,
          0.0038995849047864313,
          0.0038995849047864313,
          0.0038995849047864313,
          0.000018483076302218988,
          0.000018483076302218988,
          0.000018483076302218988,
          0.000018483076302218988,
          0.000018483076302218988,
          0.000018483076302218988,
          0.000018483076302218988,
          0.000018483076302218988,
          0.000018483076302218988,
          0.000018483076302218988,
          0.000018483076302218988,
          0.000018483076302218988,
          0.000018483076302218988,
          0.000018483076302218988,
          0.000018483076302218988,
          0.000018483076302218988,
          0.000018483076302218988,
          0.000018483076302218988,
          0.000018483076302218988,
          0.000018483076302218988,
          0.000018483076302218988,
          0.000018483076302218988,
          0.000018483076302218988,
          0.000018483076302218988,
          0.000018483076302218988,
          0.000018483076302218988,
          0.000018483076302218988,
          0.000018483076302218988,
          0.000018483076302218988,
          0.000018483076302218988,
          0.000018483076302218988,
          0.000018483076302218988,
          0.000018483076302218988,
          0.000018483076302218988,
          0.000018483076302218988,
          0.000018483076302218988,
          0.000018483076302218988,
          0.000018483076302218988,
          0.000018483076302218988,
          0.000018483076302218988,
          0.000018483076302218988,
          0.000018483076302218988,
          0.000018483076302218988,
          0.000018483076302218988,
          0.000018483076302218988,
          0.000018483076302218988,
          0.000018483076302218988,
          0.000018483076302218988,
          0.000018483076302218988,
          0.000018483076302218988,
          0.000018483076302218988,
          0.000018483076302218988,
          0.000018483076302218988,
          0.000018483076302218988,
          0.000018483076302218988,
          0.000018483076302218988,
          0.000018483076302218988,
          0.000018483076302218988,
          0.000018483076302218988,
          0.000018483076302218988,
          0.000018483076302218988,
          0.000018483076302218988,
          0.000018483076302218988,
          0.000018483076302218988,
          0.000018483076302218988,
          0.000018483076302218988,
          0.000018483076302218988,
          0.000018483076302218988,
          0.000018483076302218988,
          0.000018483076302218988,
          0.000018483076302218988,
          0.000018483076302218988,
          0.000018483076302218988,
          0.000018483076302218988,
          0.000018483076302218988,
          0.000018483076302218988,
          0.000018483076302218988,
          0.000018483076302218988
         ]
        }
       ],
       "layout": {
        "template": {
         "data": {
          "bar": [
           {
            "error_x": {
             "color": "#2a3f5f"
            },
            "error_y": {
             "color": "#2a3f5f"
            },
            "marker": {
             "line": {
              "color": "#E5ECF6",
              "width": 0.5
             },
             "pattern": {
              "fillmode": "overlay",
              "size": 10,
              "solidity": 0.2
             }
            },
            "type": "bar"
           }
          ],
          "barpolar": [
           {
            "marker": {
             "line": {
              "color": "#E5ECF6",
              "width": 0.5
             },
             "pattern": {
              "fillmode": "overlay",
              "size": 10,
              "solidity": 0.2
             }
            },
            "type": "barpolar"
           }
          ],
          "carpet": [
           {
            "aaxis": {
             "endlinecolor": "#2a3f5f",
             "gridcolor": "white",
             "linecolor": "white",
             "minorgridcolor": "white",
             "startlinecolor": "#2a3f5f"
            },
            "baxis": {
             "endlinecolor": "#2a3f5f",
             "gridcolor": "white",
             "linecolor": "white",
             "minorgridcolor": "white",
             "startlinecolor": "#2a3f5f"
            },
            "type": "carpet"
           }
          ],
          "choropleth": [
           {
            "colorbar": {
             "outlinewidth": 0,
             "ticks": ""
            },
            "type": "choropleth"
           }
          ],
          "contour": [
           {
            "colorbar": {
             "outlinewidth": 0,
             "ticks": ""
            },
            "colorscale": [
             [
              0,
              "#0d0887"
             ],
             [
              0.1111111111111111,
              "#46039f"
             ],
             [
              0.2222222222222222,
              "#7201a8"
             ],
             [
              0.3333333333333333,
              "#9c179e"
             ],
             [
              0.4444444444444444,
              "#bd3786"
             ],
             [
              0.5555555555555556,
              "#d8576b"
             ],
             [
              0.6666666666666666,
              "#ed7953"
             ],
             [
              0.7777777777777778,
              "#fb9f3a"
             ],
             [
              0.8888888888888888,
              "#fdca26"
             ],
             [
              1,
              "#f0f921"
             ]
            ],
            "type": "contour"
           }
          ],
          "contourcarpet": [
           {
            "colorbar": {
             "outlinewidth": 0,
             "ticks": ""
            },
            "type": "contourcarpet"
           }
          ],
          "heatmap": [
           {
            "colorbar": {
             "outlinewidth": 0,
             "ticks": ""
            },
            "colorscale": [
             [
              0,
              "#0d0887"
             ],
             [
              0.1111111111111111,
              "#46039f"
             ],
             [
              0.2222222222222222,
              "#7201a8"
             ],
             [
              0.3333333333333333,
              "#9c179e"
             ],
             [
              0.4444444444444444,
              "#bd3786"
             ],
             [
              0.5555555555555556,
              "#d8576b"
             ],
             [
              0.6666666666666666,
              "#ed7953"
             ],
             [
              0.7777777777777778,
              "#fb9f3a"
             ],
             [
              0.8888888888888888,
              "#fdca26"
             ],
             [
              1,
              "#f0f921"
             ]
            ],
            "type": "heatmap"
           }
          ],
          "heatmapgl": [
           {
            "colorbar": {
             "outlinewidth": 0,
             "ticks": ""
            },
            "colorscale": [
             [
              0,
              "#0d0887"
             ],
             [
              0.1111111111111111,
              "#46039f"
             ],
             [
              0.2222222222222222,
              "#7201a8"
             ],
             [
              0.3333333333333333,
              "#9c179e"
             ],
             [
              0.4444444444444444,
              "#bd3786"
             ],
             [
              0.5555555555555556,
              "#d8576b"
             ],
             [
              0.6666666666666666,
              "#ed7953"
             ],
             [
              0.7777777777777778,
              "#fb9f3a"
             ],
             [
              0.8888888888888888,
              "#fdca26"
             ],
             [
              1,
              "#f0f921"
             ]
            ],
            "type": "heatmapgl"
           }
          ],
          "histogram": [
           {
            "marker": {
             "pattern": {
              "fillmode": "overlay",
              "size": 10,
              "solidity": 0.2
             }
            },
            "type": "histogram"
           }
          ],
          "histogram2d": [
           {
            "colorbar": {
             "outlinewidth": 0,
             "ticks": ""
            },
            "colorscale": [
             [
              0,
              "#0d0887"
             ],
             [
              0.1111111111111111,
              "#46039f"
             ],
             [
              0.2222222222222222,
              "#7201a8"
             ],
             [
              0.3333333333333333,
              "#9c179e"
             ],
             [
              0.4444444444444444,
              "#bd3786"
             ],
             [
              0.5555555555555556,
              "#d8576b"
             ],
             [
              0.6666666666666666,
              "#ed7953"
             ],
             [
              0.7777777777777778,
              "#fb9f3a"
             ],
             [
              0.8888888888888888,
              "#fdca26"
             ],
             [
              1,
              "#f0f921"
             ]
            ],
            "type": "histogram2d"
           }
          ],
          "histogram2dcontour": [
           {
            "colorbar": {
             "outlinewidth": 0,
             "ticks": ""
            },
            "colorscale": [
             [
              0,
              "#0d0887"
             ],
             [
              0.1111111111111111,
              "#46039f"
             ],
             [
              0.2222222222222222,
              "#7201a8"
             ],
             [
              0.3333333333333333,
              "#9c179e"
             ],
             [
              0.4444444444444444,
              "#bd3786"
             ],
             [
              0.5555555555555556,
              "#d8576b"
             ],
             [
              0.6666666666666666,
              "#ed7953"
             ],
             [
              0.7777777777777778,
              "#fb9f3a"
             ],
             [
              0.8888888888888888,
              "#fdca26"
             ],
             [
              1,
              "#f0f921"
             ]
            ],
            "type": "histogram2dcontour"
           }
          ],
          "mesh3d": [
           {
            "colorbar": {
             "outlinewidth": 0,
             "ticks": ""
            },
            "type": "mesh3d"
           }
          ],
          "parcoords": [
           {
            "line": {
             "colorbar": {
              "outlinewidth": 0,
              "ticks": ""
             }
            },
            "type": "parcoords"
           }
          ],
          "pie": [
           {
            "automargin": true,
            "type": "pie"
           }
          ],
          "scatter": [
           {
            "fillpattern": {
             "fillmode": "overlay",
             "size": 10,
             "solidity": 0.2
            },
            "type": "scatter"
           }
          ],
          "scatter3d": [
           {
            "line": {
             "colorbar": {
              "outlinewidth": 0,
              "ticks": ""
             }
            },
            "marker": {
             "colorbar": {
              "outlinewidth": 0,
              "ticks": ""
             }
            },
            "type": "scatter3d"
           }
          ],
          "scattercarpet": [
           {
            "marker": {
             "colorbar": {
              "outlinewidth": 0,
              "ticks": ""
             }
            },
            "type": "scattercarpet"
           }
          ],
          "scattergeo": [
           {
            "marker": {
             "colorbar": {
              "outlinewidth": 0,
              "ticks": ""
             }
            },
            "type": "scattergeo"
           }
          ],
          "scattergl": [
           {
            "marker": {
             "colorbar": {
              "outlinewidth": 0,
              "ticks": ""
             }
            },
            "type": "scattergl"
           }
          ],
          "scattermapbox": [
           {
            "marker": {
             "colorbar": {
              "outlinewidth": 0,
              "ticks": ""
             }
            },
            "type": "scattermapbox"
           }
          ],
          "scatterpolar": [
           {
            "marker": {
             "colorbar": {
              "outlinewidth": 0,
              "ticks": ""
             }
            },
            "type": "scatterpolar"
           }
          ],
          "scatterpolargl": [
           {
            "marker": {
             "colorbar": {
              "outlinewidth": 0,
              "ticks": ""
             }
            },
            "type": "scatterpolargl"
           }
          ],
          "scatterternary": [
           {
            "marker": {
             "colorbar": {
              "outlinewidth": 0,
              "ticks": ""
             }
            },
            "type": "scatterternary"
           }
          ],
          "surface": [
           {
            "colorbar": {
             "outlinewidth": 0,
             "ticks": ""
            },
            "colorscale": [
             [
              0,
              "#0d0887"
             ],
             [
              0.1111111111111111,
              "#46039f"
             ],
             [
              0.2222222222222222,
              "#7201a8"
             ],
             [
              0.3333333333333333,
              "#9c179e"
             ],
             [
              0.4444444444444444,
              "#bd3786"
             ],
             [
              0.5555555555555556,
              "#d8576b"
             ],
             [
              0.6666666666666666,
              "#ed7953"
             ],
             [
              0.7777777777777778,
              "#fb9f3a"
             ],
             [
              0.8888888888888888,
              "#fdca26"
             ],
             [
              1,
              "#f0f921"
             ]
            ],
            "type": "surface"
           }
          ],
          "table": [
           {
            "cells": {
             "fill": {
              "color": "#EBF0F8"
             },
             "line": {
              "color": "white"
             }
            },
            "header": {
             "fill": {
              "color": "#C8D4E3"
             },
             "line": {
              "color": "white"
             }
            },
            "type": "table"
           }
          ]
         },
         "layout": {
          "annotationdefaults": {
           "arrowcolor": "#2a3f5f",
           "arrowhead": 0,
           "arrowwidth": 1
          },
          "autotypenumbers": "strict",
          "coloraxis": {
           "colorbar": {
            "outlinewidth": 0,
            "ticks": ""
           }
          },
          "colorscale": {
           "diverging": [
            [
             0,
             "#8e0152"
            ],
            [
             0.1,
             "#c51b7d"
            ],
            [
             0.2,
             "#de77ae"
            ],
            [
             0.3,
             "#f1b6da"
            ],
            [
             0.4,
             "#fde0ef"
            ],
            [
             0.5,
             "#f7f7f7"
            ],
            [
             0.6,
             "#e6f5d0"
            ],
            [
             0.7,
             "#b8e186"
            ],
            [
             0.8,
             "#7fbc41"
            ],
            [
             0.9,
             "#4d9221"
            ],
            [
             1,
             "#276419"
            ]
           ],
           "sequential": [
            [
             0,
             "#0d0887"
            ],
            [
             0.1111111111111111,
             "#46039f"
            ],
            [
             0.2222222222222222,
             "#7201a8"
            ],
            [
             0.3333333333333333,
             "#9c179e"
            ],
            [
             0.4444444444444444,
             "#bd3786"
            ],
            [
             0.5555555555555556,
             "#d8576b"
            ],
            [
             0.6666666666666666,
             "#ed7953"
            ],
            [
             0.7777777777777778,
             "#fb9f3a"
            ],
            [
             0.8888888888888888,
             "#fdca26"
            ],
            [
             1,
             "#f0f921"
            ]
           ],
           "sequentialminus": [
            [
             0,
             "#0d0887"
            ],
            [
             0.1111111111111111,
             "#46039f"
            ],
            [
             0.2222222222222222,
             "#7201a8"
            ],
            [
             0.3333333333333333,
             "#9c179e"
            ],
            [
             0.4444444444444444,
             "#bd3786"
            ],
            [
             0.5555555555555556,
             "#d8576b"
            ],
            [
             0.6666666666666666,
             "#ed7953"
            ],
            [
             0.7777777777777778,
             "#fb9f3a"
            ],
            [
             0.8888888888888888,
             "#fdca26"
            ],
            [
             1,
             "#f0f921"
            ]
           ]
          },
          "colorway": [
           "#636efa",
           "#EF553B",
           "#00cc96",
           "#ab63fa",
           "#FFA15A",
           "#19d3f3",
           "#FF6692",
           "#B6E880",
           "#FF97FF",
           "#FECB52"
          ],
          "font": {
           "color": "#2a3f5f"
          },
          "geo": {
           "bgcolor": "white",
           "lakecolor": "white",
           "landcolor": "#E5ECF6",
           "showlakes": true,
           "showland": true,
           "subunitcolor": "white"
          },
          "hoverlabel": {
           "align": "left"
          },
          "hovermode": "closest",
          "mapbox": {
           "style": "light"
          },
          "paper_bgcolor": "white",
          "plot_bgcolor": "#E5ECF6",
          "polar": {
           "angularaxis": {
            "gridcolor": "white",
            "linecolor": "white",
            "ticks": ""
           },
           "bgcolor": "#E5ECF6",
           "radialaxis": {
            "gridcolor": "white",
            "linecolor": "white",
            "ticks": ""
           }
          },
          "scene": {
           "xaxis": {
            "backgroundcolor": "#E5ECF6",
            "gridcolor": "white",
            "gridwidth": 2,
            "linecolor": "white",
            "showbackground": true,
            "ticks": "",
            "zerolinecolor": "white"
           },
           "yaxis": {
            "backgroundcolor": "#E5ECF6",
            "gridcolor": "white",
            "gridwidth": 2,
            "linecolor": "white",
            "showbackground": true,
            "ticks": "",
            "zerolinecolor": "white"
           },
           "zaxis": {
            "backgroundcolor": "#E5ECF6",
            "gridcolor": "white",
            "gridwidth": 2,
            "linecolor": "white",
            "showbackground": true,
            "ticks": "",
            "zerolinecolor": "white"
           }
          },
          "shapedefaults": {
           "line": {
            "color": "#2a3f5f"
           }
          },
          "ternary": {
           "aaxis": {
            "gridcolor": "white",
            "linecolor": "white",
            "ticks": ""
           },
           "baxis": {
            "gridcolor": "white",
            "linecolor": "white",
            "ticks": ""
           },
           "bgcolor": "#E5ECF6",
           "caxis": {
            "gridcolor": "white",
            "linecolor": "white",
            "ticks": ""
           }
          },
          "title": {
           "x": 0.05
          },
          "xaxis": {
           "automargin": true,
           "gridcolor": "white",
           "linecolor": "white",
           "ticks": "",
           "title": {
            "standoff": 15
           },
           "zerolinecolor": "white",
           "zerolinewidth": 2
          },
          "yaxis": {
           "automargin": true,
           "gridcolor": "white",
           "linecolor": "white",
           "ticks": "",
           "title": {
            "standoff": 15
           },
           "zerolinecolor": "white",
           "zerolinewidth": 2
          }
         }
        },
        "title": {
         "text": "Optimization History Plot"
        },
        "xaxis": {
         "title": {
          "text": "#Trials"
         }
        },
        "yaxis": {
         "title": {
          "text": "Objective Value"
         }
        }
       }
      }
     },
     "metadata": {},
     "output_type": "display_data"
    }
   ],
   "source": [
    "from optuna.visualization import plot_optimization_history\n",
    "\n",
    "plot_optimization_history(study)"
   ]
  },
  {
   "cell_type": "markdown",
   "metadata": {},
   "source": [
    "バッチ最適化\n",
    "\n",
    "基本的にはAsk-and-Tellインターフェースという対話的な利用の一ユースケースとしてバッチ最適化がある。たとえば、観山が困っていたパラメタ側に関する制約を守らせるためのサンプリングを事前にして、満たす入力値とこれに対する評価値のみをOptunaに伝えたいときもおそらくこの対話インターフェースを使えばよさそう。\n",
    "\n",
    "https://optuna.readthedocs.io/en/stable/tutorial/20_recipes/009_ask_and_tell.html"
   ]
  },
  {
   "cell_type": "code",
   "execution_count": 16,
   "metadata": {},
   "outputs": [],
   "source": [
    "# バッチでパラメタを受け取って値を返す目的関数\n",
    "# バッチ最適化というか対話的にOptunaを使う場合には目的関数内でパラメタを定義しないみたい\n",
    "def batched_objective(xs: np.ndarray, ys: np.ndarray):\n",
    "    return xs ** 2 + ys"
   ]
  },
  {
   "cell_type": "code",
   "execution_count": 23,
   "metadata": {},
   "outputs": [
    {
     "name": "stderr",
     "output_type": "stream",
     "text": [
      "\u001b[32m[I 2022-06-19 00:14:53,273]\u001b[0m A new study created in memory with name: no-name-323a7932-a2bd-48ac-b63e-19707dd2484f\u001b[0m\n",
      "100%|██████████| 10/10 [00:00<00:00, 20.34it/s]\n"
     ]
    }
   ],
   "source": [
    "# バッチサイズ\n",
    "batch_size = 10\n",
    "# 問い合わせ回数\n",
    "num_query = 10\n",
    "study = optuna.create_study()\n",
    "\n",
    "for _ in tqdm(range(num_query)):\n",
    "    # create batch\n",
    "    trial_ids = []\n",
    "    x_batch = []\n",
    "    y_batch = []\n",
    "\n",
    "    # バッチサイズ分だけデータを作る\n",
    "    for _ in range(batch_size):\n",
    "        # Optunaにぶち込むためのデータ形式を作る\n",
    "        trial = study.ask()\n",
    "        trial_ids.append(trial.number)\n",
    "        # ここでパラメタの定義と探索空間を指定\n",
    "        x_batch.append(trial.suggest_float(\"x\", -10, 10))\n",
    "        y_batch.append(trial.suggest_float(\"y\", -10, 10))\n",
    "\n",
    "    # 現在のバッチに対する評価値をオラクルに問い合わせる\n",
    "    x_batch = np.array(x_batch)\n",
    "    y_batch = np.array(y_batch)\n",
    "    objectives = batched_objective(x_batch, y_batch)\n",
    "\n",
    "    # 問い合わせ結果をOptunaに伝える\n",
    "    for trial_id, objective in zip(trial_ids, objectives):\n",
    "        study.tell(trial_id, objective)"
   ]
  },
  {
   "cell_type": "code",
   "execution_count": 24,
   "metadata": {},
   "outputs": [
    {
     "name": "stdout",
     "output_type": "stream",
     "text": [
      "Found x: 0.22177243177503503, y: -9.908083700605765, objective: -9.858900689110353\n"
     ]
    }
   ],
   "source": [
    "# 最小値の表示\n",
    "best_params = study.best_params\n",
    "found_x = best_params[\"x\"]\n",
    "found_y = best_params[\"y\"]\n",
    "print(f\"Found x: {found_x}, y: {found_y}, objective: {batched_objective(found_x, found_y)}\")"
   ]
  },
  {
   "cell_type": "code",
   "execution_count": 25,
   "metadata": {},
   "outputs": [
    {
     "data": {
      "application/vnd.plotly.v1+json": {
       "config": {
        "plotlyServerURL": "https://plot.ly"
       },
       "data": [
        {
         "mode": "markers",
         "name": "Objective Value",
         "type": "scatter",
         "x": [
          0,
          1,
          2,
          3,
          4,
          5,
          6,
          7,
          8,
          9,
          10,
          11,
          12,
          13,
          14,
          15,
          16,
          17,
          18,
          19,
          20,
          21,
          22,
          23,
          24,
          25,
          26,
          27,
          28,
          29,
          30,
          31,
          32,
          33,
          34,
          35,
          36,
          37,
          38,
          39,
          40,
          41,
          42,
          43,
          44,
          45,
          46,
          47,
          48,
          49,
          50,
          51,
          52,
          53,
          54,
          55,
          56,
          57,
          58,
          59,
          60,
          61,
          62,
          63,
          64,
          65,
          66,
          67,
          68,
          69,
          70,
          71,
          72,
          73,
          74,
          75,
          76,
          77,
          78,
          79,
          80,
          81,
          82,
          83,
          84,
          85,
          86,
          87,
          88,
          89,
          90,
          91,
          92,
          93,
          94,
          95,
          96,
          97,
          98,
          99
         ],
         "y": [
          94.2016517356264,
          65.1026007314717,
          5.995341611653054,
          64.13880109185826,
          31.087512113163065,
          5.687766392683113,
          7.7429232532480095,
          77.73027661797414,
          9.524614341830473,
          -3.394192664063073,
          23.07134470682879,
          21.309432791915015,
          21.072664072333623,
          22.383612834721994,
          21.21983417012504,
          22.84970507733701,
          21.863085759190934,
          19.70293255854333,
          13.960168375539276,
          22.002939866530948,
          -8.663798525743838,
          -7.047251758054893,
          -9.513640233083562,
          -8.605604468315487,
          -9.233148005714844,
          -7.7647518860993605,
          -8.464839444500244,
          10.170658138818789,
          -9.595034688510708,
          10.291284791461651,
          16.656677367729024,
          9.282213816247674,
          12.41745685031474,
          15.862304021275225,
          11.012114389336032,
          13.315122352752084,
          10.860529397168586,
          8.281792010689065,
          12.213266365533062,
          15.616276749011778,
          0.6409675962587551,
          -6.799965257635895,
          -0.8142788041499767,
          0.4898339844683015,
          2.3603911103447572,
          -6.94649332008952,
          1.74190136215448,
          -1.5155194578337303,
          2.4806109241826366,
          1.095159271310962,
          -9.3203586908091,
          50.73322651218163,
          50.83238570379149,
          -9.75333010755508,
          -9.858900689110353,
          32.296549934483224,
          -9.816924406643247,
          37.04370745431172,
          34.34141367855126,
          -9.621755215254503,
          -3.370788714863158,
          -3.5811169945019756,
          -2.870813919486647,
          -2.7080616791289716,
          -2.3094462436677805,
          -5.288220193887986,
          -2.4999110772198945,
          -2.25286593766488,
          -2.2974336842041048,
          -3.758682080517257,
          -4.843187472845842,
          -6.389572850253489,
          -5.264576940384221,
          4.543694393291629,
          4.716619805928589,
          3.62788487667155,
          3.587722769534841,
          -6.4388779372383205,
          5.279981045893325,
          -6.036900229942986,
          -6.611092782381212,
          -7.63332760221688,
          -7.526122947554814,
          -7.56689234386238,
          -7.502509613254042,
          -7.32779394978116,
          -5.448289603935183,
          -7.335566163426942,
          -9.222327200734043,
          -7.753368121779541,
          -7.799875712642683,
          0.42104636364277914,
          1.1916554994720798,
          -7.790414142993115,
          -7.768201562935061,
          -7.989527057526638,
          -7.976112757206677,
          -7.830506255654964,
          -7.783026331222916,
          -7.992426533664727
         ]
        },
        {
         "name": "Best Value",
         "type": "scatter",
         "x": [
          0,
          1,
          2,
          3,
          4,
          5,
          6,
          7,
          8,
          9,
          10,
          11,
          12,
          13,
          14,
          15,
          16,
          17,
          18,
          19,
          20,
          21,
          22,
          23,
          24,
          25,
          26,
          27,
          28,
          29,
          30,
          31,
          32,
          33,
          34,
          35,
          36,
          37,
          38,
          39,
          40,
          41,
          42,
          43,
          44,
          45,
          46,
          47,
          48,
          49,
          50,
          51,
          52,
          53,
          54,
          55,
          56,
          57,
          58,
          59,
          60,
          61,
          62,
          63,
          64,
          65,
          66,
          67,
          68,
          69,
          70,
          71,
          72,
          73,
          74,
          75,
          76,
          77,
          78,
          79,
          80,
          81,
          82,
          83,
          84,
          85,
          86,
          87,
          88,
          89,
          90,
          91,
          92,
          93,
          94,
          95,
          96,
          97,
          98,
          99
         ],
         "y": [
          94.2016517356264,
          65.1026007314717,
          5.995341611653054,
          5.995341611653054,
          5.995341611653054,
          5.687766392683113,
          5.687766392683113,
          5.687766392683113,
          5.687766392683113,
          -3.394192664063073,
          -3.394192664063073,
          -3.394192664063073,
          -3.394192664063073,
          -3.394192664063073,
          -3.394192664063073,
          -3.394192664063073,
          -3.394192664063073,
          -3.394192664063073,
          -3.394192664063073,
          -3.394192664063073,
          -8.663798525743838,
          -8.663798525743838,
          -9.513640233083562,
          -9.513640233083562,
          -9.513640233083562,
          -9.513640233083562,
          -9.513640233083562,
          -9.513640233083562,
          -9.595034688510708,
          -9.595034688510708,
          -9.595034688510708,
          -9.595034688510708,
          -9.595034688510708,
          -9.595034688510708,
          -9.595034688510708,
          -9.595034688510708,
          -9.595034688510708,
          -9.595034688510708,
          -9.595034688510708,
          -9.595034688510708,
          -9.595034688510708,
          -9.595034688510708,
          -9.595034688510708,
          -9.595034688510708,
          -9.595034688510708,
          -9.595034688510708,
          -9.595034688510708,
          -9.595034688510708,
          -9.595034688510708,
          -9.595034688510708,
          -9.595034688510708,
          -9.595034688510708,
          -9.595034688510708,
          -9.75333010755508,
          -9.858900689110353,
          -9.858900689110353,
          -9.858900689110353,
          -9.858900689110353,
          -9.858900689110353,
          -9.858900689110353,
          -9.858900689110353,
          -9.858900689110353,
          -9.858900689110353,
          -9.858900689110353,
          -9.858900689110353,
          -9.858900689110353,
          -9.858900689110353,
          -9.858900689110353,
          -9.858900689110353,
          -9.858900689110353,
          -9.858900689110353,
          -9.858900689110353,
          -9.858900689110353,
          -9.858900689110353,
          -9.858900689110353,
          -9.858900689110353,
          -9.858900689110353,
          -9.858900689110353,
          -9.858900689110353,
          -9.858900689110353,
          -9.858900689110353,
          -9.858900689110353,
          -9.858900689110353,
          -9.858900689110353,
          -9.858900689110353,
          -9.858900689110353,
          -9.858900689110353,
          -9.858900689110353,
          -9.858900689110353,
          -9.858900689110353,
          -9.858900689110353,
          -9.858900689110353,
          -9.858900689110353,
          -9.858900689110353,
          -9.858900689110353,
          -9.858900689110353,
          -9.858900689110353,
          -9.858900689110353,
          -9.858900689110353,
          -9.858900689110353
         ]
        }
       ],
       "layout": {
        "template": {
         "data": {
          "bar": [
           {
            "error_x": {
             "color": "#2a3f5f"
            },
            "error_y": {
             "color": "#2a3f5f"
            },
            "marker": {
             "line": {
              "color": "#E5ECF6",
              "width": 0.5
             },
             "pattern": {
              "fillmode": "overlay",
              "size": 10,
              "solidity": 0.2
             }
            },
            "type": "bar"
           }
          ],
          "barpolar": [
           {
            "marker": {
             "line": {
              "color": "#E5ECF6",
              "width": 0.5
             },
             "pattern": {
              "fillmode": "overlay",
              "size": 10,
              "solidity": 0.2
             }
            },
            "type": "barpolar"
           }
          ],
          "carpet": [
           {
            "aaxis": {
             "endlinecolor": "#2a3f5f",
             "gridcolor": "white",
             "linecolor": "white",
             "minorgridcolor": "white",
             "startlinecolor": "#2a3f5f"
            },
            "baxis": {
             "endlinecolor": "#2a3f5f",
             "gridcolor": "white",
             "linecolor": "white",
             "minorgridcolor": "white",
             "startlinecolor": "#2a3f5f"
            },
            "type": "carpet"
           }
          ],
          "choropleth": [
           {
            "colorbar": {
             "outlinewidth": 0,
             "ticks": ""
            },
            "type": "choropleth"
           }
          ],
          "contour": [
           {
            "colorbar": {
             "outlinewidth": 0,
             "ticks": ""
            },
            "colorscale": [
             [
              0,
              "#0d0887"
             ],
             [
              0.1111111111111111,
              "#46039f"
             ],
             [
              0.2222222222222222,
              "#7201a8"
             ],
             [
              0.3333333333333333,
              "#9c179e"
             ],
             [
              0.4444444444444444,
              "#bd3786"
             ],
             [
              0.5555555555555556,
              "#d8576b"
             ],
             [
              0.6666666666666666,
              "#ed7953"
             ],
             [
              0.7777777777777778,
              "#fb9f3a"
             ],
             [
              0.8888888888888888,
              "#fdca26"
             ],
             [
              1,
              "#f0f921"
             ]
            ],
            "type": "contour"
           }
          ],
          "contourcarpet": [
           {
            "colorbar": {
             "outlinewidth": 0,
             "ticks": ""
            },
            "type": "contourcarpet"
           }
          ],
          "heatmap": [
           {
            "colorbar": {
             "outlinewidth": 0,
             "ticks": ""
            },
            "colorscale": [
             [
              0,
              "#0d0887"
             ],
             [
              0.1111111111111111,
              "#46039f"
             ],
             [
              0.2222222222222222,
              "#7201a8"
             ],
             [
              0.3333333333333333,
              "#9c179e"
             ],
             [
              0.4444444444444444,
              "#bd3786"
             ],
             [
              0.5555555555555556,
              "#d8576b"
             ],
             [
              0.6666666666666666,
              "#ed7953"
             ],
             [
              0.7777777777777778,
              "#fb9f3a"
             ],
             [
              0.8888888888888888,
              "#fdca26"
             ],
             [
              1,
              "#f0f921"
             ]
            ],
            "type": "heatmap"
           }
          ],
          "heatmapgl": [
           {
            "colorbar": {
             "outlinewidth": 0,
             "ticks": ""
            },
            "colorscale": [
             [
              0,
              "#0d0887"
             ],
             [
              0.1111111111111111,
              "#46039f"
             ],
             [
              0.2222222222222222,
              "#7201a8"
             ],
             [
              0.3333333333333333,
              "#9c179e"
             ],
             [
              0.4444444444444444,
              "#bd3786"
             ],
             [
              0.5555555555555556,
              "#d8576b"
             ],
             [
              0.6666666666666666,
              "#ed7953"
             ],
             [
              0.7777777777777778,
              "#fb9f3a"
             ],
             [
              0.8888888888888888,
              "#fdca26"
             ],
             [
              1,
              "#f0f921"
             ]
            ],
            "type": "heatmapgl"
           }
          ],
          "histogram": [
           {
            "marker": {
             "pattern": {
              "fillmode": "overlay",
              "size": 10,
              "solidity": 0.2
             }
            },
            "type": "histogram"
           }
          ],
          "histogram2d": [
           {
            "colorbar": {
             "outlinewidth": 0,
             "ticks": ""
            },
            "colorscale": [
             [
              0,
              "#0d0887"
             ],
             [
              0.1111111111111111,
              "#46039f"
             ],
             [
              0.2222222222222222,
              "#7201a8"
             ],
             [
              0.3333333333333333,
              "#9c179e"
             ],
             [
              0.4444444444444444,
              "#bd3786"
             ],
             [
              0.5555555555555556,
              "#d8576b"
             ],
             [
              0.6666666666666666,
              "#ed7953"
             ],
             [
              0.7777777777777778,
              "#fb9f3a"
             ],
             [
              0.8888888888888888,
              "#fdca26"
             ],
             [
              1,
              "#f0f921"
             ]
            ],
            "type": "histogram2d"
           }
          ],
          "histogram2dcontour": [
           {
            "colorbar": {
             "outlinewidth": 0,
             "ticks": ""
            },
            "colorscale": [
             [
              0,
              "#0d0887"
             ],
             [
              0.1111111111111111,
              "#46039f"
             ],
             [
              0.2222222222222222,
              "#7201a8"
             ],
             [
              0.3333333333333333,
              "#9c179e"
             ],
             [
              0.4444444444444444,
              "#bd3786"
             ],
             [
              0.5555555555555556,
              "#d8576b"
             ],
             [
              0.6666666666666666,
              "#ed7953"
             ],
             [
              0.7777777777777778,
              "#fb9f3a"
             ],
             [
              0.8888888888888888,
              "#fdca26"
             ],
             [
              1,
              "#f0f921"
             ]
            ],
            "type": "histogram2dcontour"
           }
          ],
          "mesh3d": [
           {
            "colorbar": {
             "outlinewidth": 0,
             "ticks": ""
            },
            "type": "mesh3d"
           }
          ],
          "parcoords": [
           {
            "line": {
             "colorbar": {
              "outlinewidth": 0,
              "ticks": ""
             }
            },
            "type": "parcoords"
           }
          ],
          "pie": [
           {
            "automargin": true,
            "type": "pie"
           }
          ],
          "scatter": [
           {
            "fillpattern": {
             "fillmode": "overlay",
             "size": 10,
             "solidity": 0.2
            },
            "type": "scatter"
           }
          ],
          "scatter3d": [
           {
            "line": {
             "colorbar": {
              "outlinewidth": 0,
              "ticks": ""
             }
            },
            "marker": {
             "colorbar": {
              "outlinewidth": 0,
              "ticks": ""
             }
            },
            "type": "scatter3d"
           }
          ],
          "scattercarpet": [
           {
            "marker": {
             "colorbar": {
              "outlinewidth": 0,
              "ticks": ""
             }
            },
            "type": "scattercarpet"
           }
          ],
          "scattergeo": [
           {
            "marker": {
             "colorbar": {
              "outlinewidth": 0,
              "ticks": ""
             }
            },
            "type": "scattergeo"
           }
          ],
          "scattergl": [
           {
            "marker": {
             "colorbar": {
              "outlinewidth": 0,
              "ticks": ""
             }
            },
            "type": "scattergl"
           }
          ],
          "scattermapbox": [
           {
            "marker": {
             "colorbar": {
              "outlinewidth": 0,
              "ticks": ""
             }
            },
            "type": "scattermapbox"
           }
          ],
          "scatterpolar": [
           {
            "marker": {
             "colorbar": {
              "outlinewidth": 0,
              "ticks": ""
             }
            },
            "type": "scatterpolar"
           }
          ],
          "scatterpolargl": [
           {
            "marker": {
             "colorbar": {
              "outlinewidth": 0,
              "ticks": ""
             }
            },
            "type": "scatterpolargl"
           }
          ],
          "scatterternary": [
           {
            "marker": {
             "colorbar": {
              "outlinewidth": 0,
              "ticks": ""
             }
            },
            "type": "scatterternary"
           }
          ],
          "surface": [
           {
            "colorbar": {
             "outlinewidth": 0,
             "ticks": ""
            },
            "colorscale": [
             [
              0,
              "#0d0887"
             ],
             [
              0.1111111111111111,
              "#46039f"
             ],
             [
              0.2222222222222222,
              "#7201a8"
             ],
             [
              0.3333333333333333,
              "#9c179e"
             ],
             [
              0.4444444444444444,
              "#bd3786"
             ],
             [
              0.5555555555555556,
              "#d8576b"
             ],
             [
              0.6666666666666666,
              "#ed7953"
             ],
             [
              0.7777777777777778,
              "#fb9f3a"
             ],
             [
              0.8888888888888888,
              "#fdca26"
             ],
             [
              1,
              "#f0f921"
             ]
            ],
            "type": "surface"
           }
          ],
          "table": [
           {
            "cells": {
             "fill": {
              "color": "#EBF0F8"
             },
             "line": {
              "color": "white"
             }
            },
            "header": {
             "fill": {
              "color": "#C8D4E3"
             },
             "line": {
              "color": "white"
             }
            },
            "type": "table"
           }
          ]
         },
         "layout": {
          "annotationdefaults": {
           "arrowcolor": "#2a3f5f",
           "arrowhead": 0,
           "arrowwidth": 1
          },
          "autotypenumbers": "strict",
          "coloraxis": {
           "colorbar": {
            "outlinewidth": 0,
            "ticks": ""
           }
          },
          "colorscale": {
           "diverging": [
            [
             0,
             "#8e0152"
            ],
            [
             0.1,
             "#c51b7d"
            ],
            [
             0.2,
             "#de77ae"
            ],
            [
             0.3,
             "#f1b6da"
            ],
            [
             0.4,
             "#fde0ef"
            ],
            [
             0.5,
             "#f7f7f7"
            ],
            [
             0.6,
             "#e6f5d0"
            ],
            [
             0.7,
             "#b8e186"
            ],
            [
             0.8,
             "#7fbc41"
            ],
            [
             0.9,
             "#4d9221"
            ],
            [
             1,
             "#276419"
            ]
           ],
           "sequential": [
            [
             0,
             "#0d0887"
            ],
            [
             0.1111111111111111,
             "#46039f"
            ],
            [
             0.2222222222222222,
             "#7201a8"
            ],
            [
             0.3333333333333333,
             "#9c179e"
            ],
            [
             0.4444444444444444,
             "#bd3786"
            ],
            [
             0.5555555555555556,
             "#d8576b"
            ],
            [
             0.6666666666666666,
             "#ed7953"
            ],
            [
             0.7777777777777778,
             "#fb9f3a"
            ],
            [
             0.8888888888888888,
             "#fdca26"
            ],
            [
             1,
             "#f0f921"
            ]
           ],
           "sequentialminus": [
            [
             0,
             "#0d0887"
            ],
            [
             0.1111111111111111,
             "#46039f"
            ],
            [
             0.2222222222222222,
             "#7201a8"
            ],
            [
             0.3333333333333333,
             "#9c179e"
            ],
            [
             0.4444444444444444,
             "#bd3786"
            ],
            [
             0.5555555555555556,
             "#d8576b"
            ],
            [
             0.6666666666666666,
             "#ed7953"
            ],
            [
             0.7777777777777778,
             "#fb9f3a"
            ],
            [
             0.8888888888888888,
             "#fdca26"
            ],
            [
             1,
             "#f0f921"
            ]
           ]
          },
          "colorway": [
           "#636efa",
           "#EF553B",
           "#00cc96",
           "#ab63fa",
           "#FFA15A",
           "#19d3f3",
           "#FF6692",
           "#B6E880",
           "#FF97FF",
           "#FECB52"
          ],
          "font": {
           "color": "#2a3f5f"
          },
          "geo": {
           "bgcolor": "white",
           "lakecolor": "white",
           "landcolor": "#E5ECF6",
           "showlakes": true,
           "showland": true,
           "subunitcolor": "white"
          },
          "hoverlabel": {
           "align": "left"
          },
          "hovermode": "closest",
          "mapbox": {
           "style": "light"
          },
          "paper_bgcolor": "white",
          "plot_bgcolor": "#E5ECF6",
          "polar": {
           "angularaxis": {
            "gridcolor": "white",
            "linecolor": "white",
            "ticks": ""
           },
           "bgcolor": "#E5ECF6",
           "radialaxis": {
            "gridcolor": "white",
            "linecolor": "white",
            "ticks": ""
           }
          },
          "scene": {
           "xaxis": {
            "backgroundcolor": "#E5ECF6",
            "gridcolor": "white",
            "gridwidth": 2,
            "linecolor": "white",
            "showbackground": true,
            "ticks": "",
            "zerolinecolor": "white"
           },
           "yaxis": {
            "backgroundcolor": "#E5ECF6",
            "gridcolor": "white",
            "gridwidth": 2,
            "linecolor": "white",
            "showbackground": true,
            "ticks": "",
            "zerolinecolor": "white"
           },
           "zaxis": {
            "backgroundcolor": "#E5ECF6",
            "gridcolor": "white",
            "gridwidth": 2,
            "linecolor": "white",
            "showbackground": true,
            "ticks": "",
            "zerolinecolor": "white"
           }
          },
          "shapedefaults": {
           "line": {
            "color": "#2a3f5f"
           }
          },
          "ternary": {
           "aaxis": {
            "gridcolor": "white",
            "linecolor": "white",
            "ticks": ""
           },
           "baxis": {
            "gridcolor": "white",
            "linecolor": "white",
            "ticks": ""
           },
           "bgcolor": "#E5ECF6",
           "caxis": {
            "gridcolor": "white",
            "linecolor": "white",
            "ticks": ""
           }
          },
          "title": {
           "x": 0.05
          },
          "xaxis": {
           "automargin": true,
           "gridcolor": "white",
           "linecolor": "white",
           "ticks": "",
           "title": {
            "standoff": 15
           },
           "zerolinecolor": "white",
           "zerolinewidth": 2
          },
          "yaxis": {
           "automargin": true,
           "gridcolor": "white",
           "linecolor": "white",
           "ticks": "",
           "title": {
            "standoff": 15
           },
           "zerolinecolor": "white",
           "zerolinewidth": 2
          }
         }
        },
        "title": {
         "text": "Optimization History Plot"
        },
        "xaxis": {
         "title": {
          "text": "#Trials"
         }
        },
        "yaxis": {
         "title": {
          "text": "Objective Value"
         }
        }
       }
      }
     },
     "metadata": {},
     "output_type": "display_data"
    }
   ],
   "source": [
    "# 10個ずつ10回聞いたのでトライアル合計数としては100個分となる\n",
    "# 割と1回の問い合わせバッチの中身が偏っている印象を受けるがアルゴリズムの選択を変えると挙動が変わるのかもしれない\n",
    "plot_optimization_history(study)"
   ]
  }
 ],
 "metadata": {
  "kernelspec": {
   "display_name": "Python 3.9.13 ('.venv': pipenv)",
   "language": "python",
   "name": "python3"
  },
  "language_info": {
   "codemirror_mode": {
    "name": "ipython",
    "version": 3
   },
   "file_extension": ".py",
   "mimetype": "text/x-python",
   "name": "python",
   "nbconvert_exporter": "python",
   "pygments_lexer": "ipython3",
   "version": "3.9.13"
  },
  "orig_nbformat": 4,
  "vscode": {
   "interpreter": {
    "hash": "9731a8c9eb3904fb35f6421980f2dc98ff83bd32e2c16cdd62c1066991510b29"
   }
  }
 },
 "nbformat": 4,
 "nbformat_minor": 2
}
