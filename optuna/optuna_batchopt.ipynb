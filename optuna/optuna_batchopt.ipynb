{
 "cells": [
  {
   "cell_type": "code",
   "execution_count": 6,
   "metadata": {},
   "outputs": [],
   "source": [
    "import numpy as np\n",
    "import optuna"
   ]
  },
  {
   "cell_type": "markdown",
   "metadata": {},
   "source": [
    "最もシンプルな使い方\n",
    "\n",
    "https://optuna.readthedocs.io/en/stable/tutorial/10_key_features/001_first.html"
   ]
  },
  {
   "cell_type": "code",
   "execution_count": 2,
   "metadata": {},
   "outputs": [],
   "source": [
    "# 目的関数の定義\n",
    "def objective(trial):\n",
    "    # -10から10までの値を取るfloat変数の定義（最適化対象のパラメタ）\n",
    "    # hyperoptと異なるのはオラクルたる目的関数側で変数定義をやる点？\n",
    "    x = trial.suggest_float(\"x\", -10, 10)\n",
    "\n",
    "    return (x - 2) ** 2"
   ]
  },
  {
   "cell_type": "markdown",
   "metadata": {},
   "source": [
    "上の例では`float`型のパラメタを扱ったがそれ以外にも整数値、カテゴリ変数など色々使える。探索空間の指定の仕方等、詳しくは下記URLを参照\n",
    "\n",
    "https://optuna.readthedocs.io/en/stable/tutorial/10_key_features/002_configurations.html"
   ]
  },
  {
   "cell_type": "code",
   "execution_count": 3,
   "metadata": {},
   "outputs": [
    {
     "name": "stderr",
     "output_type": "stream",
     "text": [
      "\u001b[32m[I 2022-06-18 01:05:22,958]\u001b[0m A new study created in memory with name: no-name-2fbd79a2-6120-4af1-90f3-c437c2697b1d\u001b[0m\n",
      "\u001b[32m[I 2022-06-18 01:05:22,960]\u001b[0m Trial 0 finished with value: 41.22795321702103 and parameters: {'x': -4.420899720212194}. Best is trial 0 with value: 41.22795321702103.\u001b[0m\n",
      "\u001b[32m[I 2022-06-18 01:05:22,961]\u001b[0m Trial 1 finished with value: 21.48037042085271 and parameters: {'x': -2.6346920524294504}. Best is trial 1 with value: 21.48037042085271.\u001b[0m\n",
      "\u001b[32m[I 2022-06-18 01:05:22,962]\u001b[0m Trial 2 finished with value: 34.42950383392392 and parameters: {'x': -3.867665961344759}. Best is trial 1 with value: 21.48037042085271.\u001b[0m\n",
      "\u001b[32m[I 2022-06-18 01:05:22,962]\u001b[0m Trial 3 finished with value: 10.468880693997265 and parameters: {'x': -1.2355649729216172}. Best is trial 3 with value: 10.468880693997265.\u001b[0m\n",
      "\u001b[32m[I 2022-06-18 01:05:22,963]\u001b[0m Trial 4 finished with value: 59.54234906384511 and parameters: {'x': -5.716368904079503}. Best is trial 3 with value: 10.468880693997265.\u001b[0m\n",
      "\u001b[32m[I 2022-06-18 01:05:22,964]\u001b[0m Trial 5 finished with value: 128.00942998778538 and parameters: {'x': -9.314125241828702}. Best is trial 3 with value: 10.468880693997265.\u001b[0m\n",
      "\u001b[32m[I 2022-06-18 01:05:22,965]\u001b[0m Trial 6 finished with value: 14.774956558492324 and parameters: {'x': 5.843820567936584}. Best is trial 3 with value: 10.468880693997265.\u001b[0m\n",
      "\u001b[32m[I 2022-06-18 01:05:22,965]\u001b[0m Trial 7 finished with value: 42.61636206666194 and parameters: {'x': -4.528120867957481}. Best is trial 3 with value: 10.468880693997265.\u001b[0m\n",
      "\u001b[32m[I 2022-06-18 01:05:22,966]\u001b[0m Trial 8 finished with value: 22.74461245378879 and parameters: {'x': -2.7691312053443013}. Best is trial 3 with value: 10.468880693997265.\u001b[0m\n",
      "\u001b[32m[I 2022-06-18 01:05:22,967]\u001b[0m Trial 9 finished with value: 10.497953834837947 and parameters: {'x': 5.240054603681541}. Best is trial 3 with value: 10.468880693997265.\u001b[0m\n",
      "\u001b[32m[I 2022-06-18 01:05:22,971]\u001b[0m Trial 10 finished with value: 0.0006197461870302674 and parameters: {'x': 1.9751052980128248}. Best is trial 10 with value: 0.0006197461870302674.\u001b[0m\n",
      "\u001b[32m[I 2022-06-18 01:05:22,975]\u001b[0m Trial 11 finished with value: 0.22058195152477228 and parameters: {'x': 1.5303384713170853}. Best is trial 10 with value: 0.0006197461870302674.\u001b[0m\n",
      "\u001b[32m[I 2022-06-18 01:05:22,979]\u001b[0m Trial 12 finished with value: 0.23624020600357784 and parameters: {'x': 2.486045477299787}. Best is trial 10 with value: 0.0006197461870302674.\u001b[0m\n",
      "\u001b[32m[I 2022-06-18 01:05:22,982]\u001b[0m Trial 13 finished with value: 56.21037939133174 and parameters: {'x': 9.49735816080116}. Best is trial 10 with value: 0.0006197461870302674.\u001b[0m\n",
      "\u001b[32m[I 2022-06-18 01:05:22,986]\u001b[0m Trial 14 finished with value: 0.012778726061561918 and parameters: {'x': 1.8869569725212478}. Best is trial 10 with value: 0.0006197461870302674.\u001b[0m\n",
      "\u001b[32m[I 2022-06-18 01:05:22,989]\u001b[0m Trial 15 finished with value: 3.9935257781311764 and parameters: {'x': 3.9983807890717866}. Best is trial 10 with value: 0.0006197461870302674.\u001b[0m\n",
      "\u001b[32m[I 2022-06-18 01:05:22,993]\u001b[0m Trial 16 finished with value: 43.74827810362904 and parameters: {'x': 8.614248113249838}. Best is trial 10 with value: 0.0006197461870302674.\u001b[0m\n",
      "\u001b[32m[I 2022-06-18 01:05:22,996]\u001b[0m Trial 17 finished with value: 3.9261364253354962 and parameters: {'x': 0.01855193726015214}. Best is trial 10 with value: 0.0006197461870302674.\u001b[0m\n",
      "\u001b[32m[I 2022-06-18 01:05:23,030]\u001b[0m Trial 18 finished with value: 28.665109265533967 and parameters: {'x': 7.353980693421855}. Best is trial 10 with value: 0.0006197461870302674.\u001b[0m\n",
      "\u001b[32m[I 2022-06-18 01:05:23,034]\u001b[0m Trial 19 finished with value: 0.01485766811677448 and parameters: {'x': 2.1218920346732077}. Best is trial 10 with value: 0.0006197461870302674.\u001b[0m\n",
      "\u001b[32m[I 2022-06-18 01:05:23,039]\u001b[0m Trial 20 finished with value: 3.016849356991924 and parameters: {'x': 0.26309201251421377}. Best is trial 10 with value: 0.0006197461870302674.\u001b[0m\n",
      "\u001b[32m[I 2022-06-18 01:05:23,042]\u001b[0m Trial 21 finished with value: 2.2628572046586 and parameters: {'x': 3.504279629809099}. Best is trial 10 with value: 0.0006197461870302674.\u001b[0m\n",
      "\u001b[32m[I 2022-06-18 01:05:23,047]\u001b[0m Trial 22 finished with value: 0.19803970225625842 and parameters: {'x': 1.5549834809175525}. Best is trial 10 with value: 0.0006197461870302674.\u001b[0m\n",
      "\u001b[32m[I 2022-06-18 01:05:23,054]\u001b[0m Trial 23 finished with value: 11.86919081210993 and parameters: {'x': 5.445169199344196}. Best is trial 10 with value: 0.0006197461870302674.\u001b[0m\n",
      "\u001b[32m[I 2022-06-18 01:05:23,058]\u001b[0m Trial 24 finished with value: 9.435458556507347 and parameters: {'x': -1.0717191532604908}. Best is trial 10 with value: 0.0006197461870302674.\u001b[0m\n",
      "\u001b[32m[I 2022-06-18 01:05:23,063]\u001b[0m Trial 25 finished with value: 0.8813015043006304 and parameters: {'x': 2.938776599783266}. Best is trial 10 with value: 0.0006197461870302674.\u001b[0m\n",
      "\u001b[32m[I 2022-06-18 01:05:23,066]\u001b[0m Trial 26 finished with value: 0.3953604519446688 and parameters: {'x': 1.3712230507209502}. Best is trial 10 with value: 0.0006197461870302674.\u001b[0m\n",
      "\u001b[32m[I 2022-06-18 01:05:23,070]\u001b[0m Trial 27 finished with value: 5.253448962980361 and parameters: {'x': 4.292040349335142}. Best is trial 10 with value: 0.0006197461870302674.\u001b[0m\n",
      "\u001b[32m[I 2022-06-18 01:05:23,074]\u001b[0m Trial 28 finished with value: 22.166670065864206 and parameters: {'x': 6.7081493249326964}. Best is trial 10 with value: 0.0006197461870302674.\u001b[0m\n",
      "\u001b[32m[I 2022-06-18 01:05:23,080]\u001b[0m Trial 29 finished with value: 76.7631508163098 and parameters: {'x': -6.7614582585497605}. Best is trial 10 with value: 0.0006197461870302674.\u001b[0m\n",
      "\u001b[32m[I 2022-06-18 01:05:23,084]\u001b[0m Trial 30 finished with value: 10.203609938453898 and parameters: {'x': -1.1943089923258674}. Best is trial 10 with value: 0.0006197461870302674.\u001b[0m\n",
      "\u001b[32m[I 2022-06-18 01:05:23,088]\u001b[0m Trial 31 finished with value: 0.14558956612870946 and parameters: {'x': 1.6184379917644978}. Best is trial 10 with value: 0.0006197461870302674.\u001b[0m\n",
      "\u001b[32m[I 2022-06-18 01:05:23,092]\u001b[0m Trial 32 finished with value: 1.0147109429416221 and parameters: {'x': 0.9926713828438993}. Best is trial 10 with value: 0.0006197461870302674.\u001b[0m\n",
      "\u001b[32m[I 2022-06-18 01:05:23,096]\u001b[0m Trial 33 finished with value: 0.010209350330566592 and parameters: {'x': 1.898958670186074}. Best is trial 10 with value: 0.0006197461870302674.\u001b[0m\n",
      "\u001b[32m[I 2022-06-18 01:05:23,100]\u001b[0m Trial 34 finished with value: 0.43745591135323547 and parameters: {'x': 2.661404499042179}. Best is trial 10 with value: 0.0006197461870302674.\u001b[0m\n",
      "\u001b[32m[I 2022-06-18 01:05:23,103]\u001b[0m Trial 35 finished with value: 22.380752235404866 and parameters: {'x': -2.7308299732081753}. Best is trial 10 with value: 0.0006197461870302674.\u001b[0m\n",
      "\u001b[32m[I 2022-06-18 01:05:23,109]\u001b[0m Trial 36 finished with value: 5.726925061932747 and parameters: {'x': 4.39309946762201}. Best is trial 10 with value: 0.0006197461870302674.\u001b[0m\n",
      "\u001b[32m[I 2022-06-18 01:05:23,112]\u001b[0m Trial 37 finished with value: 6.7314071777072675 and parameters: {'x': -0.5944955536110037}. Best is trial 10 with value: 0.0006197461870302674.\u001b[0m\n",
      "\u001b[32m[I 2022-06-18 01:05:23,117]\u001b[0m Trial 38 finished with value: 17.36886583717695 and parameters: {'x': -2.1675971299031476}. Best is trial 10 with value: 0.0006197461870302674.\u001b[0m\n",
      "\u001b[32m[I 2022-06-18 01:05:23,121]\u001b[0m Trial 39 finished with value: 2.55364043005485 and parameters: {'x': 0.4019886014002121}. Best is trial 10 with value: 0.0006197461870302674.\u001b[0m\n",
      "\u001b[32m[I 2022-06-18 01:05:23,125]\u001b[0m Trial 40 finished with value: 0.0027406048522474694 and parameters: {'x': 2.052350786548508}. Best is trial 10 with value: 0.0006197461870302674.\u001b[0m\n",
      "\u001b[32m[I 2022-06-18 01:05:23,129]\u001b[0m Trial 41 finished with value: 0.3144165754408544 and parameters: {'x': 2.560728611220129}. Best is trial 10 with value: 0.0006197461870302674.\u001b[0m\n",
      "\u001b[32m[I 2022-06-18 01:05:23,133]\u001b[0m Trial 42 finished with value: 1.9333233171781243 and parameters: {'x': 3.3904399725188155}. Best is trial 10 with value: 0.0006197461870302674.\u001b[0m\n",
      "\u001b[32m[I 2022-06-18 01:05:23,139]\u001b[0m Trial 43 finished with value: 0.017231026697753712 and parameters: {'x': 2.1312670053659857}. Best is trial 10 with value: 0.0006197461870302674.\u001b[0m\n",
      "\u001b[32m[I 2022-06-18 01:05:23,143]\u001b[0m Trial 44 finished with value: 7.837051821634263 and parameters: {'x': 4.799473490075279}. Best is trial 10 with value: 0.0006197461870302674.\u001b[0m\n",
      "\u001b[32m[I 2022-06-18 01:05:23,148]\u001b[0m Trial 45 finished with value: 4.287821192247211 and parameters: {'x': -0.07070548177359363}. Best is trial 10 with value: 0.0006197461870302674.\u001b[0m\n",
      "\u001b[32m[I 2022-06-18 01:05:23,152]\u001b[0m Trial 46 finished with value: 19.732127900937545 and parameters: {'x': 6.442085985315631}. Best is trial 10 with value: 0.0006197461870302674.\u001b[0m\n",
      "\u001b[32m[I 2022-06-18 01:05:23,156]\u001b[0m Trial 47 finished with value: 15.600971341211588 and parameters: {'x': -1.9498064941477309}. Best is trial 10 with value: 0.0006197461870302674.\u001b[0m\n",
      "\u001b[32m[I 2022-06-18 01:05:23,163]\u001b[0m Trial 48 finished with value: 37.973444035941405 and parameters: {'x': -4.162259653401616}. Best is trial 10 with value: 0.0006197461870302674.\u001b[0m\n",
      "\u001b[32m[I 2022-06-18 01:05:23,167]\u001b[0m Trial 49 finished with value: 1.3682906500958305 and parameters: {'x': 0.8302604349275731}. Best is trial 10 with value: 0.0006197461870302674.\u001b[0m\n",
      "\u001b[32m[I 2022-06-18 01:05:23,172]\u001b[0m Trial 50 finished with value: 1.1025168029033865 and parameters: {'x': 3.0500080013520785}. Best is trial 10 with value: 0.0006197461870302674.\u001b[0m\n",
      "\u001b[32m[I 2022-06-18 01:05:23,177]\u001b[0m Trial 51 finished with value: 0.003227171024336495 and parameters: {'x': 2.0568081950455785}. Best is trial 10 with value: 0.0006197461870302674.\u001b[0m\n",
      "\u001b[32m[I 2022-06-18 01:05:23,182]\u001b[0m Trial 52 finished with value: 0.014035905401500676 and parameters: {'x': 1.8815267734823573}. Best is trial 10 with value: 0.0006197461870302674.\u001b[0m\n",
      "\u001b[32m[I 2022-06-18 01:05:23,186]\u001b[0m Trial 53 finished with value: 2.5066692532188863 and parameters: {'x': 3.5832464284560652}. Best is trial 10 with value: 0.0006197461870302674.\u001b[0m\n",
      "\u001b[32m[I 2022-06-18 01:05:23,192]\u001b[0m Trial 54 finished with value: 6.010466221149317 and parameters: {'x': -0.45162522036899366}. Best is trial 10 with value: 0.0006197461870302674.\u001b[0m\n",
      "\u001b[32m[I 2022-06-18 01:05:23,197]\u001b[0m Trial 55 finished with value: 0.017474863029973645 and parameters: {'x': 1.8678074774052116}. Best is trial 10 with value: 0.0006197461870302674.\u001b[0m\n",
      "\u001b[32m[I 2022-06-18 01:05:23,200]\u001b[0m Trial 56 finished with value: 1.68382522333892 and parameters: {'x': 0.7023770873867401}. Best is trial 10 with value: 0.0006197461870302674.\u001b[0m\n",
      "\u001b[32m[I 2022-06-18 01:05:23,204]\u001b[0m Trial 57 finished with value: 9.112918909981945 and parameters: {'x': 5.018761154841824}. Best is trial 10 with value: 0.0006197461870302674.\u001b[0m\n",
      "\u001b[32m[I 2022-06-18 01:05:23,208]\u001b[0m Trial 58 finished with value: 4.5907733825904 and parameters: {'x': 4.142609013000365}. Best is trial 10 with value: 0.0006197461870302674.\u001b[0m\n",
      "\u001b[32m[I 2022-06-18 01:05:23,214]\u001b[0m Trial 59 finished with value: 0.8505999949695847 and parameters: {'x': 1.077720218713657}. Best is trial 10 with value: 0.0006197461870302674.\u001b[0m\n",
      "\u001b[32m[I 2022-06-18 01:05:23,219]\u001b[0m Trial 60 finished with value: 0.12858017067722946 and parameters: {'x': 2.358580772877227}. Best is trial 10 with value: 0.0006197461870302674.\u001b[0m\n",
      "\u001b[32m[I 2022-06-18 01:05:23,223]\u001b[0m Trial 61 finished with value: 0.002945661528488852 and parameters: {'x': 2.0542739488934503}. Best is trial 10 with value: 0.0006197461870302674.\u001b[0m\n",
      "\u001b[32m[I 2022-06-18 01:05:23,228]\u001b[0m Trial 62 finished with value: 2.38195991922301 and parameters: {'x': 3.543359944803224}. Best is trial 10 with value: 0.0006197461870302674.\u001b[0m\n",
      "\u001b[32m[I 2022-06-18 01:05:23,232]\u001b[0m Trial 63 finished with value: 0.07862225543728278 and parameters: {'x': 1.7196033961737718}. Best is trial 10 with value: 0.0006197461870302674.\u001b[0m\n",
      "\u001b[32m[I 2022-06-18 01:05:23,268]\u001b[0m Trial 64 finished with value: 2.7498773649505335 and parameters: {'x': 0.34172458109319687}. Best is trial 10 with value: 0.0006197461870302674.\u001b[0m\n",
      "\u001b[32m[I 2022-06-18 01:05:23,285]\u001b[0m Trial 65 finished with value: 14.516625507691911 and parameters: {'x': 5.8100689636398855}. Best is trial 10 with value: 0.0006197461870302674.\u001b[0m\n",
      "\u001b[32m[I 2022-06-18 01:05:23,291]\u001b[0m Trial 66 finished with value: 1.1363558306058223 and parameters: {'x': 3.065999920546818}. Best is trial 10 with value: 0.0006197461870302674.\u001b[0m\n",
      "\u001b[32m[I 2022-06-18 01:05:23,296]\u001b[0m Trial 67 finished with value: 109.26774806961967 and parameters: {'x': -8.453121451012596}. Best is trial 10 with value: 0.0006197461870302674.\u001b[0m\n",
      "\u001b[32m[I 2022-06-18 01:05:23,301]\u001b[0m Trial 68 finished with value: 6.689274344707338 and parameters: {'x': -0.5863631501990082}. Best is trial 10 with value: 0.0006197461870302674.\u001b[0m\n",
      "\u001b[32m[I 2022-06-18 01:05:23,307]\u001b[0m Trial 69 finished with value: 0.4446686568845603 and parameters: {'x': 1.3331651952060688}. Best is trial 10 with value: 0.0006197461870302674.\u001b[0m\n",
      "\u001b[32m[I 2022-06-18 01:05:23,311]\u001b[0m Trial 70 finished with value: 0.053962193010545605 and parameters: {'x': 2.232297638839799}. Best is trial 10 with value: 0.0006197461870302674.\u001b[0m\n",
      "\u001b[32m[I 2022-06-18 01:05:23,316]\u001b[0m Trial 71 finished with value: 0.0159398955217217 and parameters: {'x': 2.1262532990528236}. Best is trial 10 with value: 0.0006197461870302674.\u001b[0m\n",
      "\u001b[32m[I 2022-06-18 01:05:23,320]\u001b[0m Trial 72 finished with value: 3.554921426523572 and parameters: {'x': 3.8854499268141733}. Best is trial 10 with value: 0.0006197461870302674.\u001b[0m\n",
      "\u001b[32m[I 2022-06-18 01:05:23,325]\u001b[0m Trial 73 finished with value: 0.5991993485734309 and parameters: {'x': 2.7740796784397785}. Best is trial 10 with value: 0.0006197461870302674.\u001b[0m\n",
      "\u001b[32m[I 2022-06-18 01:05:23,331]\u001b[0m Trial 74 finished with value: 0.7386715369093431 and parameters: {'x': 1.140539973640808}. Best is trial 10 with value: 0.0006197461870302674.\u001b[0m\n",
      "\u001b[32m[I 2022-06-18 01:05:23,335]\u001b[0m Trial 75 finished with value: 4.367319233302671 and parameters: {'x': -0.08981320536134785}. Best is trial 10 with value: 0.0006197461870302674.\u001b[0m\n",
      "\u001b[32m[I 2022-06-18 01:05:23,340]\u001b[0m Trial 76 finished with value: 1.8434294061853642 and parameters: {'x': 0.6422704959435535}. Best is trial 10 with value: 0.0006197461870302674.\u001b[0m\n",
      "\u001b[32m[I 2022-06-18 01:05:23,345]\u001b[0m Trial 77 finished with value: 13.714283688569402 and parameters: {'x': -1.7032801255872343}. Best is trial 10 with value: 0.0006197461870302674.\u001b[0m\n",
      "\u001b[32m[I 2022-06-18 01:05:23,350]\u001b[0m Trial 78 finished with value: 0.08557100826994836 and parameters: {'x': 1.7074747732759645}. Best is trial 10 with value: 0.0006197461870302674.\u001b[0m\n",
      "\u001b[32m[I 2022-06-18 01:05:23,354]\u001b[0m Trial 79 finished with value: 1.2306507399063928 and parameters: {'x': 3.1093469880548614}. Best is trial 10 with value: 0.0006197461870302674.\u001b[0m\n",
      "\u001b[32m[I 2022-06-18 01:05:23,360]\u001b[0m Trial 80 finished with value: 0.20454694821991584 and parameters: {'x': 2.45226866818288}. Best is trial 10 with value: 0.0006197461870302674.\u001b[0m\n",
      "\u001b[32m[I 2022-06-18 01:05:23,364]\u001b[0m Trial 81 finished with value: 0.003187339394691104 and parameters: {'x': 2.0564565265907415}. Best is trial 10 with value: 0.0006197461870302674.\u001b[0m\n",
      "\u001b[32m[I 2022-06-18 01:05:23,368]\u001b[0m Trial 82 finished with value: 5.992593898215264 and parameters: {'x': 4.44797751178708}. Best is trial 10 with value: 0.0006197461870302674.\u001b[0m\n",
      "\u001b[32m[I 2022-06-18 01:05:23,373]\u001b[0m Trial 83 finished with value: 0.4123977870179763 and parameters: {'x': 1.3578179486952502}. Best is trial 10 with value: 0.0006197461870302674.\u001b[0m\n",
      "\u001b[32m[I 2022-06-18 01:05:23,378]\u001b[0m Trial 84 finished with value: 0.029940699254961848 and parameters: {'x': 1.8269661904281078}. Best is trial 10 with value: 0.0006197461870302674.\u001b[0m\n",
      "\u001b[32m[I 2022-06-18 01:05:23,382]\u001b[0m Trial 85 finished with value: 3.0386833451451967 and parameters: {'x': 3.74318195984963}. Best is trial 10 with value: 0.0006197461870302674.\u001b[0m\n",
      "\u001b[32m[I 2022-06-18 01:05:23,386]\u001b[0m Trial 86 finished with value: 0.5150675860908205 and parameters: {'x': 2.7176820926363012}. Best is trial 10 with value: 0.0006197461870302674.\u001b[0m\n",
      "\u001b[32m[I 2022-06-18 01:05:23,390]\u001b[0m Trial 87 finished with value: 2.2233731484636796 and parameters: {'x': 0.5089020325734195}. Best is trial 10 with value: 0.0006197461870302674.\u001b[0m\n",
      "\u001b[32m[I 2022-06-18 01:05:23,395]\u001b[0m Trial 88 finished with value: 9.092275758449357 and parameters: {'x': -1.0153400734327391}. Best is trial 10 with value: 0.0006197461870302674.\u001b[0m\n",
      "\u001b[32m[I 2022-06-18 01:05:23,400]\u001b[0m Trial 89 finished with value: 4.690139792007598 and parameters: {'x': -0.165673057506049}. Best is trial 10 with value: 0.0006197461870302674.\u001b[0m\n",
      "\u001b[32m[I 2022-06-18 01:05:23,404]\u001b[0m Trial 90 finished with value: 0.002902789002867719 and parameters: {'x': 2.053877537089846}. Best is trial 10 with value: 0.0006197461870302674.\u001b[0m\n",
      "\u001b[32m[I 2022-06-18 01:05:23,409]\u001b[0m Trial 91 finished with value: 0.016632118177780934 and parameters: {'x': 2.128965569737744}. Best is trial 10 with value: 0.0006197461870302674.\u001b[0m\n",
      "\u001b[32m[I 2022-06-18 01:05:23,413]\u001b[0m Trial 92 finished with value: 0.7824909617041053 and parameters: {'x': 1.1154148081139357}. Best is trial 10 with value: 0.0006197461870302674.\u001b[0m\n",
      "\u001b[32m[I 2022-06-18 01:05:23,418]\u001b[0m Trial 93 finished with value: 1.4349220600136587 and parameters: {'x': 3.1978823231075992}. Best is trial 10 with value: 0.0006197461870302674.\u001b[0m\n",
      "\u001b[32m[I 2022-06-18 01:05:23,422]\u001b[0m Trial 94 finished with value: 0.008164507828819736 and parameters: {'x': 1.9096423338680124}. Best is trial 10 with value: 0.0006197461870302674.\u001b[0m\n",
      "\u001b[32m[I 2022-06-18 01:05:23,427]\u001b[0m Trial 95 finished with value: 0.44739847588418014 and parameters: {'x': 2.6688785210217025}. Best is trial 10 with value: 0.0006197461870302674.\u001b[0m\n",
      "\u001b[32m[I 2022-06-18 01:05:23,432]\u001b[0m Trial 96 finished with value: 0.2337442526023862 and parameters: {'x': 1.516528953708305}. Best is trial 10 with value: 0.0006197461870302674.\u001b[0m\n",
      "\u001b[32m[I 2022-06-18 01:05:23,437]\u001b[0m Trial 97 finished with value: 1.294837743070225 and parameters: {'x': 0.8620906261611934}. Best is trial 10 with value: 0.0006197461870302674.\u001b[0m\n",
      "\u001b[32m[I 2022-06-18 01:05:23,442]\u001b[0m Trial 98 finished with value: 7.181717536184946 and parameters: {'x': 4.679872671636648}. Best is trial 10 with value: 0.0006197461870302674.\u001b[0m\n",
      "\u001b[32m[I 2022-06-18 01:05:23,449]\u001b[0m Trial 99 finished with value: 0.009208593443711652 and parameters: {'x': 1.9040385835676044}. Best is trial 10 with value: 0.0006197461870302674.\u001b[0m\n"
     ]
    }
   ],
   "source": [
    "# 最適化プロジェクトの定義\n",
    "study = optuna.create_study()\n",
    "# 最適化実行\n",
    "study.optimize(objective, n_trials=100)"
   ]
  },
  {
   "cell_type": "code",
   "execution_count": 4,
   "metadata": {},
   "outputs": [
    {
     "name": "stdout",
     "output_type": "stream",
     "text": [
      "Found x: 1.9751052980128248, (x - 2)^2: 0.0006197461870302674\n"
     ]
    }
   ],
   "source": [
    "# 最小値の表示\n",
    "best_params = study.best_params\n",
    "found_x = best_params[\"x\"]\n",
    "print(\"Found x: {}, (x - 2)^2: {}\".format(found_x, (found_x - 2) ** 2))"
   ]
  },
  {
   "cell_type": "markdown",
   "metadata": {},
   "source": [
    "探索の経過の可視化 (**Plotlyパッケージをインストール必要**)\n",
    "\n",
    "https://optuna.readthedocs.io/en/stable/tutorial/10_key_features/005_visualization.html"
   ]
  },
  {
   "cell_type": "code",
   "execution_count": 5,
   "metadata": {},
   "outputs": [
    {
     "data": {
      "application/vnd.plotly.v1+json": {
       "config": {
        "plotlyServerURL": "https://plot.ly"
       },
       "data": [
        {
         "mode": "markers",
         "name": "Objective Value",
         "type": "scatter",
         "x": [
          0,
          1,
          2,
          3,
          4,
          5,
          6,
          7,
          8,
          9,
          10,
          11,
          12,
          13,
          14,
          15,
          16,
          17,
          18,
          19,
          20,
          21,
          22,
          23,
          24,
          25,
          26,
          27,
          28,
          29,
          30,
          31,
          32,
          33,
          34,
          35,
          36,
          37,
          38,
          39,
          40,
          41,
          42,
          43,
          44,
          45,
          46,
          47,
          48,
          49,
          50,
          51,
          52,
          53,
          54,
          55,
          56,
          57,
          58,
          59,
          60,
          61,
          62,
          63,
          64,
          65,
          66,
          67,
          68,
          69,
          70,
          71,
          72,
          73,
          74,
          75,
          76,
          77,
          78,
          79,
          80,
          81,
          82,
          83,
          84,
          85,
          86,
          87,
          88,
          89,
          90,
          91,
          92,
          93,
          94,
          95,
          96,
          97,
          98,
          99
         ],
         "y": [
          41.22795321702103,
          21.48037042085271,
          34.42950383392392,
          10.468880693997265,
          59.54234906384511,
          128.00942998778538,
          14.774956558492324,
          42.61636206666194,
          22.74461245378879,
          10.497953834837947,
          0.0006197461870302674,
          0.22058195152477228,
          0.23624020600357784,
          56.21037939133174,
          0.012778726061561918,
          3.9935257781311764,
          43.74827810362904,
          3.9261364253354962,
          28.665109265533967,
          0.01485766811677448,
          3.016849356991924,
          2.2628572046586,
          0.19803970225625842,
          11.86919081210993,
          9.435458556507347,
          0.8813015043006304,
          0.3953604519446688,
          5.253448962980361,
          22.166670065864206,
          76.7631508163098,
          10.203609938453898,
          0.14558956612870946,
          1.0147109429416221,
          0.010209350330566592,
          0.43745591135323547,
          22.380752235404866,
          5.726925061932747,
          6.7314071777072675,
          17.36886583717695,
          2.55364043005485,
          0.0027406048522474694,
          0.3144165754408544,
          1.9333233171781243,
          0.017231026697753712,
          7.837051821634263,
          4.287821192247211,
          19.732127900937545,
          15.600971341211588,
          37.973444035941405,
          1.3682906500958305,
          1.1025168029033865,
          0.003227171024336495,
          0.014035905401500676,
          2.5066692532188863,
          6.010466221149317,
          0.017474863029973645,
          1.68382522333892,
          9.112918909981945,
          4.5907733825904,
          0.8505999949695847,
          0.12858017067722946,
          0.002945661528488852,
          2.38195991922301,
          0.07862225543728278,
          2.7498773649505335,
          14.516625507691911,
          1.1363558306058223,
          109.26774806961967,
          6.689274344707338,
          0.4446686568845603,
          0.053962193010545605,
          0.0159398955217217,
          3.554921426523572,
          0.5991993485734309,
          0.7386715369093431,
          4.367319233302671,
          1.8434294061853642,
          13.714283688569402,
          0.08557100826994836,
          1.2306507399063928,
          0.20454694821991584,
          0.003187339394691104,
          5.992593898215264,
          0.4123977870179763,
          0.029940699254961848,
          3.0386833451451967,
          0.5150675860908205,
          2.2233731484636796,
          9.092275758449357,
          4.690139792007598,
          0.002902789002867719,
          0.016632118177780934,
          0.7824909617041053,
          1.4349220600136587,
          0.008164507828819736,
          0.44739847588418014,
          0.2337442526023862,
          1.294837743070225,
          7.181717536184946,
          0.009208593443711652
         ]
        },
        {
         "name": "Best Value",
         "type": "scatter",
         "x": [
          0,
          1,
          2,
          3,
          4,
          5,
          6,
          7,
          8,
          9,
          10,
          11,
          12,
          13,
          14,
          15,
          16,
          17,
          18,
          19,
          20,
          21,
          22,
          23,
          24,
          25,
          26,
          27,
          28,
          29,
          30,
          31,
          32,
          33,
          34,
          35,
          36,
          37,
          38,
          39,
          40,
          41,
          42,
          43,
          44,
          45,
          46,
          47,
          48,
          49,
          50,
          51,
          52,
          53,
          54,
          55,
          56,
          57,
          58,
          59,
          60,
          61,
          62,
          63,
          64,
          65,
          66,
          67,
          68,
          69,
          70,
          71,
          72,
          73,
          74,
          75,
          76,
          77,
          78,
          79,
          80,
          81,
          82,
          83,
          84,
          85,
          86,
          87,
          88,
          89,
          90,
          91,
          92,
          93,
          94,
          95,
          96,
          97,
          98,
          99
         ],
         "y": [
          41.22795321702103,
          21.48037042085271,
          21.48037042085271,
          10.468880693997265,
          10.468880693997265,
          10.468880693997265,
          10.468880693997265,
          10.468880693997265,
          10.468880693997265,
          10.468880693997265,
          0.0006197461870302674,
          0.0006197461870302674,
          0.0006197461870302674,
          0.0006197461870302674,
          0.0006197461870302674,
          0.0006197461870302674,
          0.0006197461870302674,
          0.0006197461870302674,
          0.0006197461870302674,
          0.0006197461870302674,
          0.0006197461870302674,
          0.0006197461870302674,
          0.0006197461870302674,
          0.0006197461870302674,
          0.0006197461870302674,
          0.0006197461870302674,
          0.0006197461870302674,
          0.0006197461870302674,
          0.0006197461870302674,
          0.0006197461870302674,
          0.0006197461870302674,
          0.0006197461870302674,
          0.0006197461870302674,
          0.0006197461870302674,
          0.0006197461870302674,
          0.0006197461870302674,
          0.0006197461870302674,
          0.0006197461870302674,
          0.0006197461870302674,
          0.0006197461870302674,
          0.0006197461870302674,
          0.0006197461870302674,
          0.0006197461870302674,
          0.0006197461870302674,
          0.0006197461870302674,
          0.0006197461870302674,
          0.0006197461870302674,
          0.0006197461870302674,
          0.0006197461870302674,
          0.0006197461870302674,
          0.0006197461870302674,
          0.0006197461870302674,
          0.0006197461870302674,
          0.0006197461870302674,
          0.0006197461870302674,
          0.0006197461870302674,
          0.0006197461870302674,
          0.0006197461870302674,
          0.0006197461870302674,
          0.0006197461870302674,
          0.0006197461870302674,
          0.0006197461870302674,
          0.0006197461870302674,
          0.0006197461870302674,
          0.0006197461870302674,
          0.0006197461870302674,
          0.0006197461870302674,
          0.0006197461870302674,
          0.0006197461870302674,
          0.0006197461870302674,
          0.0006197461870302674,
          0.0006197461870302674,
          0.0006197461870302674,
          0.0006197461870302674,
          0.0006197461870302674,
          0.0006197461870302674,
          0.0006197461870302674,
          0.0006197461870302674,
          0.0006197461870302674,
          0.0006197461870302674,
          0.0006197461870302674,
          0.0006197461870302674,
          0.0006197461870302674,
          0.0006197461870302674,
          0.0006197461870302674,
          0.0006197461870302674,
          0.0006197461870302674,
          0.0006197461870302674,
          0.0006197461870302674,
          0.0006197461870302674,
          0.0006197461870302674,
          0.0006197461870302674,
          0.0006197461870302674,
          0.0006197461870302674,
          0.0006197461870302674,
          0.0006197461870302674,
          0.0006197461870302674,
          0.0006197461870302674,
          0.0006197461870302674,
          0.0006197461870302674
         ]
        }
       ],
       "layout": {
        "template": {
         "data": {
          "bar": [
           {
            "error_x": {
             "color": "#2a3f5f"
            },
            "error_y": {
             "color": "#2a3f5f"
            },
            "marker": {
             "line": {
              "color": "#E5ECF6",
              "width": 0.5
             },
             "pattern": {
              "fillmode": "overlay",
              "size": 10,
              "solidity": 0.2
             }
            },
            "type": "bar"
           }
          ],
          "barpolar": [
           {
            "marker": {
             "line": {
              "color": "#E5ECF6",
              "width": 0.5
             },
             "pattern": {
              "fillmode": "overlay",
              "size": 10,
              "solidity": 0.2
             }
            },
            "type": "barpolar"
           }
          ],
          "carpet": [
           {
            "aaxis": {
             "endlinecolor": "#2a3f5f",
             "gridcolor": "white",
             "linecolor": "white",
             "minorgridcolor": "white",
             "startlinecolor": "#2a3f5f"
            },
            "baxis": {
             "endlinecolor": "#2a3f5f",
             "gridcolor": "white",
             "linecolor": "white",
             "minorgridcolor": "white",
             "startlinecolor": "#2a3f5f"
            },
            "type": "carpet"
           }
          ],
          "choropleth": [
           {
            "colorbar": {
             "outlinewidth": 0,
             "ticks": ""
            },
            "type": "choropleth"
           }
          ],
          "contour": [
           {
            "colorbar": {
             "outlinewidth": 0,
             "ticks": ""
            },
            "colorscale": [
             [
              0,
              "#0d0887"
             ],
             [
              0.1111111111111111,
              "#46039f"
             ],
             [
              0.2222222222222222,
              "#7201a8"
             ],
             [
              0.3333333333333333,
              "#9c179e"
             ],
             [
              0.4444444444444444,
              "#bd3786"
             ],
             [
              0.5555555555555556,
              "#d8576b"
             ],
             [
              0.6666666666666666,
              "#ed7953"
             ],
             [
              0.7777777777777778,
              "#fb9f3a"
             ],
             [
              0.8888888888888888,
              "#fdca26"
             ],
             [
              1,
              "#f0f921"
             ]
            ],
            "type": "contour"
           }
          ],
          "contourcarpet": [
           {
            "colorbar": {
             "outlinewidth": 0,
             "ticks": ""
            },
            "type": "contourcarpet"
           }
          ],
          "heatmap": [
           {
            "colorbar": {
             "outlinewidth": 0,
             "ticks": ""
            },
            "colorscale": [
             [
              0,
              "#0d0887"
             ],
             [
              0.1111111111111111,
              "#46039f"
             ],
             [
              0.2222222222222222,
              "#7201a8"
             ],
             [
              0.3333333333333333,
              "#9c179e"
             ],
             [
              0.4444444444444444,
              "#bd3786"
             ],
             [
              0.5555555555555556,
              "#d8576b"
             ],
             [
              0.6666666666666666,
              "#ed7953"
             ],
             [
              0.7777777777777778,
              "#fb9f3a"
             ],
             [
              0.8888888888888888,
              "#fdca26"
             ],
             [
              1,
              "#f0f921"
             ]
            ],
            "type": "heatmap"
           }
          ],
          "heatmapgl": [
           {
            "colorbar": {
             "outlinewidth": 0,
             "ticks": ""
            },
            "colorscale": [
             [
              0,
              "#0d0887"
             ],
             [
              0.1111111111111111,
              "#46039f"
             ],
             [
              0.2222222222222222,
              "#7201a8"
             ],
             [
              0.3333333333333333,
              "#9c179e"
             ],
             [
              0.4444444444444444,
              "#bd3786"
             ],
             [
              0.5555555555555556,
              "#d8576b"
             ],
             [
              0.6666666666666666,
              "#ed7953"
             ],
             [
              0.7777777777777778,
              "#fb9f3a"
             ],
             [
              0.8888888888888888,
              "#fdca26"
             ],
             [
              1,
              "#f0f921"
             ]
            ],
            "type": "heatmapgl"
           }
          ],
          "histogram": [
           {
            "marker": {
             "pattern": {
              "fillmode": "overlay",
              "size": 10,
              "solidity": 0.2
             }
            },
            "type": "histogram"
           }
          ],
          "histogram2d": [
           {
            "colorbar": {
             "outlinewidth": 0,
             "ticks": ""
            },
            "colorscale": [
             [
              0,
              "#0d0887"
             ],
             [
              0.1111111111111111,
              "#46039f"
             ],
             [
              0.2222222222222222,
              "#7201a8"
             ],
             [
              0.3333333333333333,
              "#9c179e"
             ],
             [
              0.4444444444444444,
              "#bd3786"
             ],
             [
              0.5555555555555556,
              "#d8576b"
             ],
             [
              0.6666666666666666,
              "#ed7953"
             ],
             [
              0.7777777777777778,
              "#fb9f3a"
             ],
             [
              0.8888888888888888,
              "#fdca26"
             ],
             [
              1,
              "#f0f921"
             ]
            ],
            "type": "histogram2d"
           }
          ],
          "histogram2dcontour": [
           {
            "colorbar": {
             "outlinewidth": 0,
             "ticks": ""
            },
            "colorscale": [
             [
              0,
              "#0d0887"
             ],
             [
              0.1111111111111111,
              "#46039f"
             ],
             [
              0.2222222222222222,
              "#7201a8"
             ],
             [
              0.3333333333333333,
              "#9c179e"
             ],
             [
              0.4444444444444444,
              "#bd3786"
             ],
             [
              0.5555555555555556,
              "#d8576b"
             ],
             [
              0.6666666666666666,
              "#ed7953"
             ],
             [
              0.7777777777777778,
              "#fb9f3a"
             ],
             [
              0.8888888888888888,
              "#fdca26"
             ],
             [
              1,
              "#f0f921"
             ]
            ],
            "type": "histogram2dcontour"
           }
          ],
          "mesh3d": [
           {
            "colorbar": {
             "outlinewidth": 0,
             "ticks": ""
            },
            "type": "mesh3d"
           }
          ],
          "parcoords": [
           {
            "line": {
             "colorbar": {
              "outlinewidth": 0,
              "ticks": ""
             }
            },
            "type": "parcoords"
           }
          ],
          "pie": [
           {
            "automargin": true,
            "type": "pie"
           }
          ],
          "scatter": [
           {
            "fillpattern": {
             "fillmode": "overlay",
             "size": 10,
             "solidity": 0.2
            },
            "type": "scatter"
           }
          ],
          "scatter3d": [
           {
            "line": {
             "colorbar": {
              "outlinewidth": 0,
              "ticks": ""
             }
            },
            "marker": {
             "colorbar": {
              "outlinewidth": 0,
              "ticks": ""
             }
            },
            "type": "scatter3d"
           }
          ],
          "scattercarpet": [
           {
            "marker": {
             "colorbar": {
              "outlinewidth": 0,
              "ticks": ""
             }
            },
            "type": "scattercarpet"
           }
          ],
          "scattergeo": [
           {
            "marker": {
             "colorbar": {
              "outlinewidth": 0,
              "ticks": ""
             }
            },
            "type": "scattergeo"
           }
          ],
          "scattergl": [
           {
            "marker": {
             "colorbar": {
              "outlinewidth": 0,
              "ticks": ""
             }
            },
            "type": "scattergl"
           }
          ],
          "scattermapbox": [
           {
            "marker": {
             "colorbar": {
              "outlinewidth": 0,
              "ticks": ""
             }
            },
            "type": "scattermapbox"
           }
          ],
          "scatterpolar": [
           {
            "marker": {
             "colorbar": {
              "outlinewidth": 0,
              "ticks": ""
             }
            },
            "type": "scatterpolar"
           }
          ],
          "scatterpolargl": [
           {
            "marker": {
             "colorbar": {
              "outlinewidth": 0,
              "ticks": ""
             }
            },
            "type": "scatterpolargl"
           }
          ],
          "scatterternary": [
           {
            "marker": {
             "colorbar": {
              "outlinewidth": 0,
              "ticks": ""
             }
            },
            "type": "scatterternary"
           }
          ],
          "surface": [
           {
            "colorbar": {
             "outlinewidth": 0,
             "ticks": ""
            },
            "colorscale": [
             [
              0,
              "#0d0887"
             ],
             [
              0.1111111111111111,
              "#46039f"
             ],
             [
              0.2222222222222222,
              "#7201a8"
             ],
             [
              0.3333333333333333,
              "#9c179e"
             ],
             [
              0.4444444444444444,
              "#bd3786"
             ],
             [
              0.5555555555555556,
              "#d8576b"
             ],
             [
              0.6666666666666666,
              "#ed7953"
             ],
             [
              0.7777777777777778,
              "#fb9f3a"
             ],
             [
              0.8888888888888888,
              "#fdca26"
             ],
             [
              1,
              "#f0f921"
             ]
            ],
            "type": "surface"
           }
          ],
          "table": [
           {
            "cells": {
             "fill": {
              "color": "#EBF0F8"
             },
             "line": {
              "color": "white"
             }
            },
            "header": {
             "fill": {
              "color": "#C8D4E3"
             },
             "line": {
              "color": "white"
             }
            },
            "type": "table"
           }
          ]
         },
         "layout": {
          "annotationdefaults": {
           "arrowcolor": "#2a3f5f",
           "arrowhead": 0,
           "arrowwidth": 1
          },
          "autotypenumbers": "strict",
          "coloraxis": {
           "colorbar": {
            "outlinewidth": 0,
            "ticks": ""
           }
          },
          "colorscale": {
           "diverging": [
            [
             0,
             "#8e0152"
            ],
            [
             0.1,
             "#c51b7d"
            ],
            [
             0.2,
             "#de77ae"
            ],
            [
             0.3,
             "#f1b6da"
            ],
            [
             0.4,
             "#fde0ef"
            ],
            [
             0.5,
             "#f7f7f7"
            ],
            [
             0.6,
             "#e6f5d0"
            ],
            [
             0.7,
             "#b8e186"
            ],
            [
             0.8,
             "#7fbc41"
            ],
            [
             0.9,
             "#4d9221"
            ],
            [
             1,
             "#276419"
            ]
           ],
           "sequential": [
            [
             0,
             "#0d0887"
            ],
            [
             0.1111111111111111,
             "#46039f"
            ],
            [
             0.2222222222222222,
             "#7201a8"
            ],
            [
             0.3333333333333333,
             "#9c179e"
            ],
            [
             0.4444444444444444,
             "#bd3786"
            ],
            [
             0.5555555555555556,
             "#d8576b"
            ],
            [
             0.6666666666666666,
             "#ed7953"
            ],
            [
             0.7777777777777778,
             "#fb9f3a"
            ],
            [
             0.8888888888888888,
             "#fdca26"
            ],
            [
             1,
             "#f0f921"
            ]
           ],
           "sequentialminus": [
            [
             0,
             "#0d0887"
            ],
            [
             0.1111111111111111,
             "#46039f"
            ],
            [
             0.2222222222222222,
             "#7201a8"
            ],
            [
             0.3333333333333333,
             "#9c179e"
            ],
            [
             0.4444444444444444,
             "#bd3786"
            ],
            [
             0.5555555555555556,
             "#d8576b"
            ],
            [
             0.6666666666666666,
             "#ed7953"
            ],
            [
             0.7777777777777778,
             "#fb9f3a"
            ],
            [
             0.8888888888888888,
             "#fdca26"
            ],
            [
             1,
             "#f0f921"
            ]
           ]
          },
          "colorway": [
           "#636efa",
           "#EF553B",
           "#00cc96",
           "#ab63fa",
           "#FFA15A",
           "#19d3f3",
           "#FF6692",
           "#B6E880",
           "#FF97FF",
           "#FECB52"
          ],
          "font": {
           "color": "#2a3f5f"
          },
          "geo": {
           "bgcolor": "white",
           "lakecolor": "white",
           "landcolor": "#E5ECF6",
           "showlakes": true,
           "showland": true,
           "subunitcolor": "white"
          },
          "hoverlabel": {
           "align": "left"
          },
          "hovermode": "closest",
          "mapbox": {
           "style": "light"
          },
          "paper_bgcolor": "white",
          "plot_bgcolor": "#E5ECF6",
          "polar": {
           "angularaxis": {
            "gridcolor": "white",
            "linecolor": "white",
            "ticks": ""
           },
           "bgcolor": "#E5ECF6",
           "radialaxis": {
            "gridcolor": "white",
            "linecolor": "white",
            "ticks": ""
           }
          },
          "scene": {
           "xaxis": {
            "backgroundcolor": "#E5ECF6",
            "gridcolor": "white",
            "gridwidth": 2,
            "linecolor": "white",
            "showbackground": true,
            "ticks": "",
            "zerolinecolor": "white"
           },
           "yaxis": {
            "backgroundcolor": "#E5ECF6",
            "gridcolor": "white",
            "gridwidth": 2,
            "linecolor": "white",
            "showbackground": true,
            "ticks": "",
            "zerolinecolor": "white"
           },
           "zaxis": {
            "backgroundcolor": "#E5ECF6",
            "gridcolor": "white",
            "gridwidth": 2,
            "linecolor": "white",
            "showbackground": true,
            "ticks": "",
            "zerolinecolor": "white"
           }
          },
          "shapedefaults": {
           "line": {
            "color": "#2a3f5f"
           }
          },
          "ternary": {
           "aaxis": {
            "gridcolor": "white",
            "linecolor": "white",
            "ticks": ""
           },
           "baxis": {
            "gridcolor": "white",
            "linecolor": "white",
            "ticks": ""
           },
           "bgcolor": "#E5ECF6",
           "caxis": {
            "gridcolor": "white",
            "linecolor": "white",
            "ticks": ""
           }
          },
          "title": {
           "x": 0.05
          },
          "xaxis": {
           "automargin": true,
           "gridcolor": "white",
           "linecolor": "white",
           "ticks": "",
           "title": {
            "standoff": 15
           },
           "zerolinecolor": "white",
           "zerolinewidth": 2
          },
          "yaxis": {
           "automargin": true,
           "gridcolor": "white",
           "linecolor": "white",
           "ticks": "",
           "title": {
            "standoff": 15
           },
           "zerolinecolor": "white",
           "zerolinewidth": 2
          }
         }
        },
        "title": {
         "text": "Optimization History Plot"
        },
        "xaxis": {
         "title": {
          "text": "#Trials"
         }
        },
        "yaxis": {
         "title": {
          "text": "Objective Value"
         }
        }
       }
      }
     },
     "metadata": {},
     "output_type": "display_data"
    }
   ],
   "source": [
    "from optuna.visualization import plot_optimization_history\n",
    "\n",
    "plot_optimization_history(study)"
   ]
  },
  {
   "cell_type": "markdown",
   "metadata": {},
   "source": [
    "バッチ最適化\n",
    "\n",
    "基本的にはAsk-and-Tellインターフェースという対話的な利用の一ユースケースとしてバッチ最適化がある。たとえば、観山が困っていたパラメタ側に関する制約を守らせるためのサンプリングを事前にして、満たす入力値とこれに対する評価値のみをOptunaに伝えたいときもおそらくこの対話インターフェースを使えばよさそう。\n",
    "\n",
    "https://optuna.readthedocs.io/en/stable/tutorial/20_recipes/009_ask_and_tell.html"
   ]
  },
  {
   "cell_type": "code",
   "execution_count": 8,
   "metadata": {},
   "outputs": [],
   "source": [
    "# バッチでパラメタを受け取って値を返す目的関数\n",
    "# バッチ最適化というか対話的にOptunaを使う場合には目的関数内でパラメタを定義しないみたい\n",
    "def batched_objective(xs: np.ndarray, ys: np.ndarray):\n",
    "    return xs ** 2 + ys"
   ]
  },
  {
   "cell_type": "code",
   "execution_count": 12,
   "metadata": {},
   "outputs": [
    {
     "name": "stderr",
     "output_type": "stream",
     "text": [
      "\u001b[32m[I 2022-06-18 01:18:09,471]\u001b[0m A new study created in memory with name: no-name-2a25ea9f-9f82-4f40-b035-213fdae31a15\u001b[0m\n"
     ]
    }
   ],
   "source": [
    "# バッチサイズ\n",
    "batch_size = 10\n",
    "# 問い合わせ回数\n",
    "num_query = 10\n",
    "study = optuna.create_study()\n",
    "\n",
    "for _ in range(num_query):\n",
    "    # create batch\n",
    "    trial_ids = []\n",
    "    x_batch = []\n",
    "    y_batch = []\n",
    "\n",
    "    # バッチサイズ分だけデータを作る\n",
    "    for _ in range(batch_size):\n",
    "        # Optunaにぶち込むためのデータ形式を作る\n",
    "        trial = study.ask()\n",
    "        trial_ids.append(trial.number)\n",
    "        # ここでパラメタの定義と探索空間を指定\n",
    "        x_batch.append(trial.suggest_float(\"x\", -10, 10))\n",
    "        y_batch.append(trial.suggest_float(\"y\", -10, 10))\n",
    "\n",
    "    # 現在のバッチに対する評価値をオラクルに問い合わせる\n",
    "    x_batch = np.array(x_batch)\n",
    "    y_batch = np.array(y_batch)\n",
    "    objectives = batched_objective(x_batch, y_batch)\n",
    "\n",
    "    # 問い合わせ結果をOptunaに伝える\n",
    "    for trial_id, objective in zip(trial_ids, objectives):\n",
    "        study.tell(trial_id, objective)"
   ]
  },
  {
   "cell_type": "code",
   "execution_count": 14,
   "metadata": {},
   "outputs": [
    {
     "data": {
      "application/vnd.plotly.v1+json": {
       "config": {
        "plotlyServerURL": "https://plot.ly"
       },
       "data": [
        {
         "mode": "markers",
         "name": "Objective Value",
         "type": "scatter",
         "x": [
          0,
          1,
          2,
          3,
          4,
          5,
          6,
          7,
          8,
          9,
          10,
          11,
          12,
          13,
          14,
          15,
          16,
          17,
          18,
          19,
          20,
          21,
          22,
          23,
          24,
          25,
          26,
          27,
          28,
          29,
          30,
          31,
          32,
          33,
          34,
          35,
          36,
          37,
          38,
          39,
          40,
          41,
          42,
          43,
          44,
          45,
          46,
          47,
          48,
          49,
          50,
          51,
          52,
          53,
          54,
          55,
          56,
          57,
          58,
          59,
          60,
          61,
          62,
          63,
          64,
          65,
          66,
          67,
          68,
          69,
          70,
          71,
          72,
          73,
          74,
          75,
          76,
          77,
          78,
          79,
          80,
          81,
          82,
          83,
          84,
          85,
          86,
          87,
          88,
          89,
          90,
          91,
          92,
          93,
          94,
          95,
          96,
          97,
          98,
          99
         ],
         "y": [
          89.7199870189699,
          47.900316157414714,
          12.953219919164058,
          31.886901093704985,
          53.035260729064866,
          -7.69960610070528,
          95.41928577301749,
          12.416308999210923,
          22.12509750764592,
          4.8950771791566945,
          32.49104283253955,
          24.36696003456912,
          29.75798708247836,
          25.73923095353765,
          26.26629840600532,
          25.58810654848876,
          29.44236439611139,
          22.38603048772954,
          24.06052275922135,
          27.296456257991238,
          3.4111292619371296,
          4.520198538790551,
          4.202038051345999,
          3.7853886879515874,
          3.5164504177021287,
          3.1857428821873417,
          4.677078782699425,
          3.9084784430489146,
          3.679661735299285,
          4.446254361371508,
          7.951619050484885,
          2.9861072809672953,
          10.09856598246482,
          10.670338268178241,
          8.837514525984503,
          6.006955562914004,
          9.806378549923096,
          6.775285173748807,
          3.4283966846716316,
          9.094460580510692,
          78.8884811952723,
          49.91009895898888,
          18.437152618368412,
          74.24838717363878,
          14.477528049527121,
          -6.0221698017566005,
          46.77238754618923,
          56.42037139820713,
          55.18024820167314,
          59.41718044518292,
          -7.72469876926238,
          -7.867034561893774,
          8.154369667758617,
          -6.985514247938495,
          7.305893376886466,
          -8.36769262523729,
          -7.450459243789044,
          0.48282279919035775,
          7.72471915334529,
          -6.540790214755658,
          -7.1301312722667465,
          -4.725602476546901,
          -6.952572849913757,
          -7.417209676761743,
          -7.229819883296003,
          -3.8632042477088215,
          -4.227304382991253,
          7.56512557716442,
          -3.978172556339665,
          -7.528888454107584,
          9.306669503745374,
          -8.256748656721358,
          8.218271326506096,
          8.243441061622717,
          -3.3578160916258826,
          7.12809154118529,
          6.173901024441134,
          3.8392617605645594,
          4.0481408395337475,
          -9.856464369590697,
          -9.137290958996202,
          -9.234958767739437,
          -8.905423413142154,
          -9.041281826233494,
          -9.125959007168987,
          -6.691163643243448,
          -9.05847254113789,
          -5.332742515862755,
          -9.137026700066343,
          -8.933389696593771,
          -4.708448556317074,
          -4.823464359597137,
          -6.459904322092118,
          -6.492111804897479,
          -4.368846903411471,
          -2.158974807336464,
          -6.379529879386301,
          -5.031766668280409,
          -6.451823607245289,
          -4.964678430398431
         ]
        },
        {
         "name": "Best Value",
         "type": "scatter",
         "x": [
          0,
          1,
          2,
          3,
          4,
          5,
          6,
          7,
          8,
          9,
          10,
          11,
          12,
          13,
          14,
          15,
          16,
          17,
          18,
          19,
          20,
          21,
          22,
          23,
          24,
          25,
          26,
          27,
          28,
          29,
          30,
          31,
          32,
          33,
          34,
          35,
          36,
          37,
          38,
          39,
          40,
          41,
          42,
          43,
          44,
          45,
          46,
          47,
          48,
          49,
          50,
          51,
          52,
          53,
          54,
          55,
          56,
          57,
          58,
          59,
          60,
          61,
          62,
          63,
          64,
          65,
          66,
          67,
          68,
          69,
          70,
          71,
          72,
          73,
          74,
          75,
          76,
          77,
          78,
          79,
          80,
          81,
          82,
          83,
          84,
          85,
          86,
          87,
          88,
          89,
          90,
          91,
          92,
          93,
          94,
          95,
          96,
          97,
          98,
          99
         ],
         "y": [
          89.7199870189699,
          47.900316157414714,
          12.953219919164058,
          12.953219919164058,
          12.953219919164058,
          -7.69960610070528,
          -7.69960610070528,
          -7.69960610070528,
          -7.69960610070528,
          -7.69960610070528,
          -7.69960610070528,
          -7.69960610070528,
          -7.69960610070528,
          -7.69960610070528,
          -7.69960610070528,
          -7.69960610070528,
          -7.69960610070528,
          -7.69960610070528,
          -7.69960610070528,
          -7.69960610070528,
          -7.69960610070528,
          -7.69960610070528,
          -7.69960610070528,
          -7.69960610070528,
          -7.69960610070528,
          -7.69960610070528,
          -7.69960610070528,
          -7.69960610070528,
          -7.69960610070528,
          -7.69960610070528,
          -7.69960610070528,
          -7.69960610070528,
          -7.69960610070528,
          -7.69960610070528,
          -7.69960610070528,
          -7.69960610070528,
          -7.69960610070528,
          -7.69960610070528,
          -7.69960610070528,
          -7.69960610070528,
          -7.69960610070528,
          -7.69960610070528,
          -7.69960610070528,
          -7.69960610070528,
          -7.69960610070528,
          -7.69960610070528,
          -7.69960610070528,
          -7.69960610070528,
          -7.69960610070528,
          -7.69960610070528,
          -7.72469876926238,
          -7.867034561893774,
          -7.867034561893774,
          -7.867034561893774,
          -7.867034561893774,
          -8.36769262523729,
          -8.36769262523729,
          -8.36769262523729,
          -8.36769262523729,
          -8.36769262523729,
          -8.36769262523729,
          -8.36769262523729,
          -8.36769262523729,
          -8.36769262523729,
          -8.36769262523729,
          -8.36769262523729,
          -8.36769262523729,
          -8.36769262523729,
          -8.36769262523729,
          -8.36769262523729,
          -8.36769262523729,
          -8.36769262523729,
          -8.36769262523729,
          -8.36769262523729,
          -8.36769262523729,
          -8.36769262523729,
          -8.36769262523729,
          -8.36769262523729,
          -8.36769262523729,
          -9.856464369590697,
          -9.856464369590697,
          -9.856464369590697,
          -9.856464369590697,
          -9.856464369590697,
          -9.856464369590697,
          -9.856464369590697,
          -9.856464369590697,
          -9.856464369590697,
          -9.856464369590697,
          -9.856464369590697,
          -9.856464369590697,
          -9.856464369590697,
          -9.856464369590697,
          -9.856464369590697,
          -9.856464369590697,
          -9.856464369590697,
          -9.856464369590697,
          -9.856464369590697,
          -9.856464369590697,
          -9.856464369590697
         ]
        }
       ],
       "layout": {
        "template": {
         "data": {
          "bar": [
           {
            "error_x": {
             "color": "#2a3f5f"
            },
            "error_y": {
             "color": "#2a3f5f"
            },
            "marker": {
             "line": {
              "color": "#E5ECF6",
              "width": 0.5
             },
             "pattern": {
              "fillmode": "overlay",
              "size": 10,
              "solidity": 0.2
             }
            },
            "type": "bar"
           }
          ],
          "barpolar": [
           {
            "marker": {
             "line": {
              "color": "#E5ECF6",
              "width": 0.5
             },
             "pattern": {
              "fillmode": "overlay",
              "size": 10,
              "solidity": 0.2
             }
            },
            "type": "barpolar"
           }
          ],
          "carpet": [
           {
            "aaxis": {
             "endlinecolor": "#2a3f5f",
             "gridcolor": "white",
             "linecolor": "white",
             "minorgridcolor": "white",
             "startlinecolor": "#2a3f5f"
            },
            "baxis": {
             "endlinecolor": "#2a3f5f",
             "gridcolor": "white",
             "linecolor": "white",
             "minorgridcolor": "white",
             "startlinecolor": "#2a3f5f"
            },
            "type": "carpet"
           }
          ],
          "choropleth": [
           {
            "colorbar": {
             "outlinewidth": 0,
             "ticks": ""
            },
            "type": "choropleth"
           }
          ],
          "contour": [
           {
            "colorbar": {
             "outlinewidth": 0,
             "ticks": ""
            },
            "colorscale": [
             [
              0,
              "#0d0887"
             ],
             [
              0.1111111111111111,
              "#46039f"
             ],
             [
              0.2222222222222222,
              "#7201a8"
             ],
             [
              0.3333333333333333,
              "#9c179e"
             ],
             [
              0.4444444444444444,
              "#bd3786"
             ],
             [
              0.5555555555555556,
              "#d8576b"
             ],
             [
              0.6666666666666666,
              "#ed7953"
             ],
             [
              0.7777777777777778,
              "#fb9f3a"
             ],
             [
              0.8888888888888888,
              "#fdca26"
             ],
             [
              1,
              "#f0f921"
             ]
            ],
            "type": "contour"
           }
          ],
          "contourcarpet": [
           {
            "colorbar": {
             "outlinewidth": 0,
             "ticks": ""
            },
            "type": "contourcarpet"
           }
          ],
          "heatmap": [
           {
            "colorbar": {
             "outlinewidth": 0,
             "ticks": ""
            },
            "colorscale": [
             [
              0,
              "#0d0887"
             ],
             [
              0.1111111111111111,
              "#46039f"
             ],
             [
              0.2222222222222222,
              "#7201a8"
             ],
             [
              0.3333333333333333,
              "#9c179e"
             ],
             [
              0.4444444444444444,
              "#bd3786"
             ],
             [
              0.5555555555555556,
              "#d8576b"
             ],
             [
              0.6666666666666666,
              "#ed7953"
             ],
             [
              0.7777777777777778,
              "#fb9f3a"
             ],
             [
              0.8888888888888888,
              "#fdca26"
             ],
             [
              1,
              "#f0f921"
             ]
            ],
            "type": "heatmap"
           }
          ],
          "heatmapgl": [
           {
            "colorbar": {
             "outlinewidth": 0,
             "ticks": ""
            },
            "colorscale": [
             [
              0,
              "#0d0887"
             ],
             [
              0.1111111111111111,
              "#46039f"
             ],
             [
              0.2222222222222222,
              "#7201a8"
             ],
             [
              0.3333333333333333,
              "#9c179e"
             ],
             [
              0.4444444444444444,
              "#bd3786"
             ],
             [
              0.5555555555555556,
              "#d8576b"
             ],
             [
              0.6666666666666666,
              "#ed7953"
             ],
             [
              0.7777777777777778,
              "#fb9f3a"
             ],
             [
              0.8888888888888888,
              "#fdca26"
             ],
             [
              1,
              "#f0f921"
             ]
            ],
            "type": "heatmapgl"
           }
          ],
          "histogram": [
           {
            "marker": {
             "pattern": {
              "fillmode": "overlay",
              "size": 10,
              "solidity": 0.2
             }
            },
            "type": "histogram"
           }
          ],
          "histogram2d": [
           {
            "colorbar": {
             "outlinewidth": 0,
             "ticks": ""
            },
            "colorscale": [
             [
              0,
              "#0d0887"
             ],
             [
              0.1111111111111111,
              "#46039f"
             ],
             [
              0.2222222222222222,
              "#7201a8"
             ],
             [
              0.3333333333333333,
              "#9c179e"
             ],
             [
              0.4444444444444444,
              "#bd3786"
             ],
             [
              0.5555555555555556,
              "#d8576b"
             ],
             [
              0.6666666666666666,
              "#ed7953"
             ],
             [
              0.7777777777777778,
              "#fb9f3a"
             ],
             [
              0.8888888888888888,
              "#fdca26"
             ],
             [
              1,
              "#f0f921"
             ]
            ],
            "type": "histogram2d"
           }
          ],
          "histogram2dcontour": [
           {
            "colorbar": {
             "outlinewidth": 0,
             "ticks": ""
            },
            "colorscale": [
             [
              0,
              "#0d0887"
             ],
             [
              0.1111111111111111,
              "#46039f"
             ],
             [
              0.2222222222222222,
              "#7201a8"
             ],
             [
              0.3333333333333333,
              "#9c179e"
             ],
             [
              0.4444444444444444,
              "#bd3786"
             ],
             [
              0.5555555555555556,
              "#d8576b"
             ],
             [
              0.6666666666666666,
              "#ed7953"
             ],
             [
              0.7777777777777778,
              "#fb9f3a"
             ],
             [
              0.8888888888888888,
              "#fdca26"
             ],
             [
              1,
              "#f0f921"
             ]
            ],
            "type": "histogram2dcontour"
           }
          ],
          "mesh3d": [
           {
            "colorbar": {
             "outlinewidth": 0,
             "ticks": ""
            },
            "type": "mesh3d"
           }
          ],
          "parcoords": [
           {
            "line": {
             "colorbar": {
              "outlinewidth": 0,
              "ticks": ""
             }
            },
            "type": "parcoords"
           }
          ],
          "pie": [
           {
            "automargin": true,
            "type": "pie"
           }
          ],
          "scatter": [
           {
            "fillpattern": {
             "fillmode": "overlay",
             "size": 10,
             "solidity": 0.2
            },
            "type": "scatter"
           }
          ],
          "scatter3d": [
           {
            "line": {
             "colorbar": {
              "outlinewidth": 0,
              "ticks": ""
             }
            },
            "marker": {
             "colorbar": {
              "outlinewidth": 0,
              "ticks": ""
             }
            },
            "type": "scatter3d"
           }
          ],
          "scattercarpet": [
           {
            "marker": {
             "colorbar": {
              "outlinewidth": 0,
              "ticks": ""
             }
            },
            "type": "scattercarpet"
           }
          ],
          "scattergeo": [
           {
            "marker": {
             "colorbar": {
              "outlinewidth": 0,
              "ticks": ""
             }
            },
            "type": "scattergeo"
           }
          ],
          "scattergl": [
           {
            "marker": {
             "colorbar": {
              "outlinewidth": 0,
              "ticks": ""
             }
            },
            "type": "scattergl"
           }
          ],
          "scattermapbox": [
           {
            "marker": {
             "colorbar": {
              "outlinewidth": 0,
              "ticks": ""
             }
            },
            "type": "scattermapbox"
           }
          ],
          "scatterpolar": [
           {
            "marker": {
             "colorbar": {
              "outlinewidth": 0,
              "ticks": ""
             }
            },
            "type": "scatterpolar"
           }
          ],
          "scatterpolargl": [
           {
            "marker": {
             "colorbar": {
              "outlinewidth": 0,
              "ticks": ""
             }
            },
            "type": "scatterpolargl"
           }
          ],
          "scatterternary": [
           {
            "marker": {
             "colorbar": {
              "outlinewidth": 0,
              "ticks": ""
             }
            },
            "type": "scatterternary"
           }
          ],
          "surface": [
           {
            "colorbar": {
             "outlinewidth": 0,
             "ticks": ""
            },
            "colorscale": [
             [
              0,
              "#0d0887"
             ],
             [
              0.1111111111111111,
              "#46039f"
             ],
             [
              0.2222222222222222,
              "#7201a8"
             ],
             [
              0.3333333333333333,
              "#9c179e"
             ],
             [
              0.4444444444444444,
              "#bd3786"
             ],
             [
              0.5555555555555556,
              "#d8576b"
             ],
             [
              0.6666666666666666,
              "#ed7953"
             ],
             [
              0.7777777777777778,
              "#fb9f3a"
             ],
             [
              0.8888888888888888,
              "#fdca26"
             ],
             [
              1,
              "#f0f921"
             ]
            ],
            "type": "surface"
           }
          ],
          "table": [
           {
            "cells": {
             "fill": {
              "color": "#EBF0F8"
             },
             "line": {
              "color": "white"
             }
            },
            "header": {
             "fill": {
              "color": "#C8D4E3"
             },
             "line": {
              "color": "white"
             }
            },
            "type": "table"
           }
          ]
         },
         "layout": {
          "annotationdefaults": {
           "arrowcolor": "#2a3f5f",
           "arrowhead": 0,
           "arrowwidth": 1
          },
          "autotypenumbers": "strict",
          "coloraxis": {
           "colorbar": {
            "outlinewidth": 0,
            "ticks": ""
           }
          },
          "colorscale": {
           "diverging": [
            [
             0,
             "#8e0152"
            ],
            [
             0.1,
             "#c51b7d"
            ],
            [
             0.2,
             "#de77ae"
            ],
            [
             0.3,
             "#f1b6da"
            ],
            [
             0.4,
             "#fde0ef"
            ],
            [
             0.5,
             "#f7f7f7"
            ],
            [
             0.6,
             "#e6f5d0"
            ],
            [
             0.7,
             "#b8e186"
            ],
            [
             0.8,
             "#7fbc41"
            ],
            [
             0.9,
             "#4d9221"
            ],
            [
             1,
             "#276419"
            ]
           ],
           "sequential": [
            [
             0,
             "#0d0887"
            ],
            [
             0.1111111111111111,
             "#46039f"
            ],
            [
             0.2222222222222222,
             "#7201a8"
            ],
            [
             0.3333333333333333,
             "#9c179e"
            ],
            [
             0.4444444444444444,
             "#bd3786"
            ],
            [
             0.5555555555555556,
             "#d8576b"
            ],
            [
             0.6666666666666666,
             "#ed7953"
            ],
            [
             0.7777777777777778,
             "#fb9f3a"
            ],
            [
             0.8888888888888888,
             "#fdca26"
            ],
            [
             1,
             "#f0f921"
            ]
           ],
           "sequentialminus": [
            [
             0,
             "#0d0887"
            ],
            [
             0.1111111111111111,
             "#46039f"
            ],
            [
             0.2222222222222222,
             "#7201a8"
            ],
            [
             0.3333333333333333,
             "#9c179e"
            ],
            [
             0.4444444444444444,
             "#bd3786"
            ],
            [
             0.5555555555555556,
             "#d8576b"
            ],
            [
             0.6666666666666666,
             "#ed7953"
            ],
            [
             0.7777777777777778,
             "#fb9f3a"
            ],
            [
             0.8888888888888888,
             "#fdca26"
            ],
            [
             1,
             "#f0f921"
            ]
           ]
          },
          "colorway": [
           "#636efa",
           "#EF553B",
           "#00cc96",
           "#ab63fa",
           "#FFA15A",
           "#19d3f3",
           "#FF6692",
           "#B6E880",
           "#FF97FF",
           "#FECB52"
          ],
          "font": {
           "color": "#2a3f5f"
          },
          "geo": {
           "bgcolor": "white",
           "lakecolor": "white",
           "landcolor": "#E5ECF6",
           "showlakes": true,
           "showland": true,
           "subunitcolor": "white"
          },
          "hoverlabel": {
           "align": "left"
          },
          "hovermode": "closest",
          "mapbox": {
           "style": "light"
          },
          "paper_bgcolor": "white",
          "plot_bgcolor": "#E5ECF6",
          "polar": {
           "angularaxis": {
            "gridcolor": "white",
            "linecolor": "white",
            "ticks": ""
           },
           "bgcolor": "#E5ECF6",
           "radialaxis": {
            "gridcolor": "white",
            "linecolor": "white",
            "ticks": ""
           }
          },
          "scene": {
           "xaxis": {
            "backgroundcolor": "#E5ECF6",
            "gridcolor": "white",
            "gridwidth": 2,
            "linecolor": "white",
            "showbackground": true,
            "ticks": "",
            "zerolinecolor": "white"
           },
           "yaxis": {
            "backgroundcolor": "#E5ECF6",
            "gridcolor": "white",
            "gridwidth": 2,
            "linecolor": "white",
            "showbackground": true,
            "ticks": "",
            "zerolinecolor": "white"
           },
           "zaxis": {
            "backgroundcolor": "#E5ECF6",
            "gridcolor": "white",
            "gridwidth": 2,
            "linecolor": "white",
            "showbackground": true,
            "ticks": "",
            "zerolinecolor": "white"
           }
          },
          "shapedefaults": {
           "line": {
            "color": "#2a3f5f"
           }
          },
          "ternary": {
           "aaxis": {
            "gridcolor": "white",
            "linecolor": "white",
            "ticks": ""
           },
           "baxis": {
            "gridcolor": "white",
            "linecolor": "white",
            "ticks": ""
           },
           "bgcolor": "#E5ECF6",
           "caxis": {
            "gridcolor": "white",
            "linecolor": "white",
            "ticks": ""
           }
          },
          "title": {
           "x": 0.05
          },
          "xaxis": {
           "automargin": true,
           "gridcolor": "white",
           "linecolor": "white",
           "ticks": "",
           "title": {
            "standoff": 15
           },
           "zerolinecolor": "white",
           "zerolinewidth": 2
          },
          "yaxis": {
           "automargin": true,
           "gridcolor": "white",
           "linecolor": "white",
           "ticks": "",
           "title": {
            "standoff": 15
           },
           "zerolinecolor": "white",
           "zerolinewidth": 2
          }
         }
        },
        "title": {
         "text": "Optimization History Plot"
        },
        "xaxis": {
         "title": {
          "text": "#Trials"
         }
        },
        "yaxis": {
         "title": {
          "text": "Objective Value"
         }
        }
       }
      }
     },
     "metadata": {},
     "output_type": "display_data"
    }
   ],
   "source": [
    "# 10個ずつ10回聞いたのでトライアル合計数としては100個分となる\n",
    "# 割と1回の問い合わせバッチの中身が偏っている印象を受けるがアルゴリズムの選択を変えると挙動が変わるのかもしれない\n",
    "plot_optimization_history(study)"
   ]
  }
 ],
 "metadata": {
  "kernelspec": {
   "display_name": "Python 3.9.13 ('.venv': pipenv)",
   "language": "python",
   "name": "python3"
  },
  "language_info": {
   "codemirror_mode": {
    "name": "ipython",
    "version": 3
   },
   "file_extension": ".py",
   "mimetype": "text/x-python",
   "name": "python",
   "nbconvert_exporter": "python",
   "pygments_lexer": "ipython3",
   "version": "3.9.13"
  },
  "orig_nbformat": 4,
  "vscode": {
   "interpreter": {
    "hash": "9731a8c9eb3904fb35f6421980f2dc98ff83bd32e2c16cdd62c1066991510b29"
   }
  }
 },
 "nbformat": 4,
 "nbformat_minor": 2
}
